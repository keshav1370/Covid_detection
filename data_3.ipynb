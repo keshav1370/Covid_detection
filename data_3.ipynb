{
  "nbformat": 4,
  "nbformat_minor": 0,
  "metadata": {
    "colab": {
      "name": "data_3 (1).ipynb",
      "provenance": [],
      "collapsed_sections": []
    },
    "kernelspec": {
      "name": "python3",
      "display_name": "Python 3"
    },
    "language_info": {
      "name": "python"
    }
  },
  "cells": [
    {
      "cell_type": "code",
      "metadata": {
        "id": "biOxPLfZXViI"
      },
      "source": [
        "#Imorting all libraries\n",
        "import pandas as pd\n",
        "import numpy as np \n",
        "import matplotlib.pyplot as plt\n",
        "from sklearn.linear_model import LogisticRegression\n",
        "from sklearn.linear_model import Perceptron\n",
        "from sklearn.svm import SVC  \n",
        "from sklearn.model_selection import train_test_split  \n",
        "from sklearn.naive_bayes import GaussianNB\n",
        "from sklearn.discriminant_analysis import LinearDiscriminantAnalysis\n",
        "from sklearn.neighbors import KNeighborsClassifier\n",
        "from sklearn.neural_network import MLPClassifier\n",
        "from sklearn.metrics import classification_report\n",
        "from sklearn.metrics import accuracy_score\n",
        "from sklearn.metrics import confusion_matrix\n",
        "from sklearn.experimental import enable_iterative_imputer\n",
        "from sklearn.impute import SimpleImputer\n",
        "import statistics"
      ],
      "execution_count": 31,
      "outputs": []
    },
    {
      "cell_type": "code",
      "metadata": {
        "id": "iKeV30GKX3xO"
      },
      "source": [
        "#read and shuffle data\n",
        "df = pd.read_csv(\"/content/Dataset-3 (1).csv\")\n",
        "df = df.sample(frac = 1)"
      ],
      "execution_count": 32,
      "outputs": []
    },
    {
      "cell_type": "code",
      "metadata": {
        "colab": {
          "base_uri": "https://localhost:8080/"
        },
        "id": "WGCu09H5X3rR",
        "outputId": "374a7cfb-7f31-4738-9800-6bce9c4baa82"
      },
      "source": [
        "df.columns"
      ],
      "execution_count": 33,
      "outputs": [
        {
          "output_type": "execute_result",
          "data": {
            "text/plain": [
              "Index(['Unnamed: 0', 'Patient_ID', 'Platelets', 'Leukocytes', 'Eosinophils',\n",
              "       'Monocytes', 'SARS-Cov-2_exam_result'],\n",
              "      dtype='object')"
            ]
          },
          "metadata": {
            "tags": []
          },
          "execution_count": 33
        }
      ]
    },
    {
      "cell_type": "code",
      "metadata": {
        "colab": {
          "base_uri": "https://localhost:8080/",
          "height": 417
        },
        "id": "z8I0pGRHX3kn",
        "outputId": "9b5b4ecc-f1ac-47a8-d77f-837ad537f8cf"
      },
      "source": [
        "df"
      ],
      "execution_count": 34,
      "outputs": [
        {
          "output_type": "execute_result",
          "data": {
            "text/html": [
              "<div>\n",
              "<style scoped>\n",
              "    .dataframe tbody tr th:only-of-type {\n",
              "        vertical-align: middle;\n",
              "    }\n",
              "\n",
              "    .dataframe tbody tr th {\n",
              "        vertical-align: top;\n",
              "    }\n",
              "\n",
              "    .dataframe thead th {\n",
              "        text-align: right;\n",
              "    }\n",
              "</style>\n",
              "<table border=\"1\" class=\"dataframe\">\n",
              "  <thead>\n",
              "    <tr style=\"text-align: right;\">\n",
              "      <th></th>\n",
              "      <th>Unnamed: 0</th>\n",
              "      <th>Patient_ID</th>\n",
              "      <th>Platelets</th>\n",
              "      <th>Leukocytes</th>\n",
              "      <th>Eosinophils</th>\n",
              "      <th>Monocytes</th>\n",
              "      <th>SARS-Cov-2_exam_result</th>\n",
              "    </tr>\n",
              "  </thead>\n",
              "  <tbody>\n",
              "    <tr>\n",
              "      <th>154</th>\n",
              "      <td>154</td>\n",
              "      <td>f2d6ab83db0f769</td>\n",
              "      <td>0.851824</td>\n",
              "      <td>0.670657</td>\n",
              "      <td>-0.329835</td>\n",
              "      <td>-0.587929</td>\n",
              "      <td>0</td>\n",
              "    </tr>\n",
              "    <tr>\n",
              "      <th>442</th>\n",
              "      <td>442</td>\n",
              "      <td>13c1dc179d15c97</td>\n",
              "      <td>0.211172</td>\n",
              "      <td>-0.620558</td>\n",
              "      <td>-0.540532</td>\n",
              "      <td>0.672705</td>\n",
              "      <td>0</td>\n",
              "    </tr>\n",
              "    <tr>\n",
              "      <th>554</th>\n",
              "      <td>554</td>\n",
              "      <td>5b7a01982d8f246</td>\n",
              "      <td>-0.693278</td>\n",
              "      <td>-1.171551</td>\n",
              "      <td>-0.835508</td>\n",
              "      <td>1.224233</td>\n",
              "      <td>1</td>\n",
              "    </tr>\n",
              "    <tr>\n",
              "      <th>533</th>\n",
              "      <td>533</td>\n",
              "      <td>f51586f2d2f53e7</td>\n",
              "      <td>1.253802</td>\n",
              "      <td>-0.400717</td>\n",
              "      <td>-0.835508</td>\n",
              "      <td>NaN</td>\n",
              "      <td>0</td>\n",
              "    </tr>\n",
              "    <tr>\n",
              "      <th>12</th>\n",
              "      <td>12</td>\n",
              "      <td>a2432a45830c32d</td>\n",
              "      <td>0.399599</td>\n",
              "      <td>-0.178094</td>\n",
              "      <td>-0.161278</td>\n",
              "      <td>0.593916</td>\n",
              "      <td>0</td>\n",
              "    </tr>\n",
              "    <tr>\n",
              "      <th>...</th>\n",
              "      <td>...</td>\n",
              "      <td>...</td>\n",
              "      <td>...</td>\n",
              "      <td>...</td>\n",
              "      <td>...</td>\n",
              "      <td>...</td>\n",
              "      <td>...</td>\n",
              "    </tr>\n",
              "    <tr>\n",
              "      <th>5</th>\n",
              "      <td>5</td>\n",
              "      <td>fc41531ca4faf1e</td>\n",
              "      <td>-0.178244</td>\n",
              "      <td>-0.075131</td>\n",
              "      <td>0.217977</td>\n",
              "      <td>0.068652</td>\n",
              "      <td>0</td>\n",
              "    </tr>\n",
              "    <tr>\n",
              "      <th>347</th>\n",
              "      <td>347</td>\n",
              "      <td>d88bc973d6012be</td>\n",
              "      <td>2.535107</td>\n",
              "      <td>2.159451</td>\n",
              "      <td>-0.835508</td>\n",
              "      <td>-1.008140</td>\n",
              "      <td>0</td>\n",
              "    </tr>\n",
              "    <tr>\n",
              "      <th>38</th>\n",
              "      <td>38</td>\n",
              "      <td>33fd6f1c08760a1</td>\n",
              "      <td>-0.354109</td>\n",
              "      <td>-0.041737</td>\n",
              "      <td>-0.076999</td>\n",
              "      <td>0.278757</td>\n",
              "      <td>0</td>\n",
              "    </tr>\n",
              "    <tr>\n",
              "      <th>440</th>\n",
              "      <td>440</td>\n",
              "      <td>0d6b8ad2ea31184</td>\n",
              "      <td>-0.768649</td>\n",
              "      <td>1.355224</td>\n",
              "      <td>0.681510</td>\n",
              "      <td>0.383810</td>\n",
              "      <td>0</td>\n",
              "    </tr>\n",
              "    <tr>\n",
              "      <th>540</th>\n",
              "      <td>540</td>\n",
              "      <td>8088e03c7f4add0</td>\n",
              "      <td>0.085554</td>\n",
              "      <td>-0.116873</td>\n",
              "      <td>2.493503</td>\n",
              "      <td>0.199968</td>\n",
              "      <td>0</td>\n",
              "    </tr>\n",
              "  </tbody>\n",
              "</table>\n",
              "<p>602 rows × 7 columns</p>\n",
              "</div>"
            ],
            "text/plain": [
              "     Unnamed: 0       Patient_ID  ...  Monocytes  SARS-Cov-2_exam_result\n",
              "154         154  f2d6ab83db0f769  ...  -0.587929                       0\n",
              "442         442  13c1dc179d15c97  ...   0.672705                       0\n",
              "554         554  5b7a01982d8f246  ...   1.224233                       1\n",
              "533         533  f51586f2d2f53e7  ...        NaN                       0\n",
              "12           12  a2432a45830c32d  ...   0.593916                       0\n",
              "..          ...              ...  ...        ...                     ...\n",
              "5             5  fc41531ca4faf1e  ...   0.068652                       0\n",
              "347         347  d88bc973d6012be  ...  -1.008140                       0\n",
              "38           38  33fd6f1c08760a1  ...   0.278757                       0\n",
              "440         440  0d6b8ad2ea31184  ...   0.383810                       0\n",
              "540         540  8088e03c7f4add0  ...   0.199968                       0\n",
              "\n",
              "[602 rows x 7 columns]"
            ]
          },
          "metadata": {
            "tags": []
          },
          "execution_count": 34
        }
      ]
    },
    {
      "cell_type": "code",
      "metadata": {
        "colab": {
          "base_uri": "https://localhost:8080/"
        },
        "id": "unbT3-0WX3Nd",
        "outputId": "3ec0a888-6b10-4190-bc34-8421b0de4217"
      },
      "source": [
        "df['SARS-Cov-2_exam_result'].value_counts()"
      ],
      "execution_count": 35,
      "outputs": [
        {
          "output_type": "execute_result",
          "data": {
            "text/plain": [
              "0    519\n",
              "1     83\n",
              "Name: SARS-Cov-2_exam_result, dtype: int64"
            ]
          },
          "metadata": {
            "tags": []
          },
          "execution_count": 35
        }
      ]
    },
    {
      "cell_type": "code",
      "metadata": {
        "colab": {
          "base_uri": "https://localhost:8080/"
        },
        "id": "S9u3PM5MZ7xS",
        "outputId": "c37a3481-956b-4d1d-a67e-ad0737e7064c"
      },
      "source": [
        "df.shape"
      ],
      "execution_count": 36,
      "outputs": [
        {
          "output_type": "execute_result",
          "data": {
            "text/plain": [
              "(602, 7)"
            ]
          },
          "metadata": {
            "tags": []
          },
          "execution_count": 36
        }
      ]
    },
    {
      "cell_type": "code",
      "metadata": {
        "id": "BZSVanAwY3Nv"
      },
      "source": [
        "#dropping id column as it is not a valid attribute to train model\n",
        "df = df.drop(['Unnamed: 0'], axis = 1)\n",
        "df = df.drop(['Patient_ID'], axis = 1)"
      ],
      "execution_count": 37,
      "outputs": []
    },
    {
      "cell_type": "code",
      "metadata": {
        "colab": {
          "base_uri": "https://localhost:8080/",
          "height": 417
        },
        "id": "iy-w2Eg8a5FY",
        "outputId": "6884e04d-74d9-42d0-81d1-6772f9c11134"
      },
      "source": [
        "df"
      ],
      "execution_count": 38,
      "outputs": [
        {
          "output_type": "execute_result",
          "data": {
            "text/html": [
              "<div>\n",
              "<style scoped>\n",
              "    .dataframe tbody tr th:only-of-type {\n",
              "        vertical-align: middle;\n",
              "    }\n",
              "\n",
              "    .dataframe tbody tr th {\n",
              "        vertical-align: top;\n",
              "    }\n",
              "\n",
              "    .dataframe thead th {\n",
              "        text-align: right;\n",
              "    }\n",
              "</style>\n",
              "<table border=\"1\" class=\"dataframe\">\n",
              "  <thead>\n",
              "    <tr style=\"text-align: right;\">\n",
              "      <th></th>\n",
              "      <th>Platelets</th>\n",
              "      <th>Leukocytes</th>\n",
              "      <th>Eosinophils</th>\n",
              "      <th>Monocytes</th>\n",
              "      <th>SARS-Cov-2_exam_result</th>\n",
              "    </tr>\n",
              "  </thead>\n",
              "  <tbody>\n",
              "    <tr>\n",
              "      <th>154</th>\n",
              "      <td>0.851824</td>\n",
              "      <td>0.670657</td>\n",
              "      <td>-0.329835</td>\n",
              "      <td>-0.587929</td>\n",
              "      <td>0</td>\n",
              "    </tr>\n",
              "    <tr>\n",
              "      <th>442</th>\n",
              "      <td>0.211172</td>\n",
              "      <td>-0.620558</td>\n",
              "      <td>-0.540532</td>\n",
              "      <td>0.672705</td>\n",
              "      <td>0</td>\n",
              "    </tr>\n",
              "    <tr>\n",
              "      <th>554</th>\n",
              "      <td>-0.693278</td>\n",
              "      <td>-1.171551</td>\n",
              "      <td>-0.835508</td>\n",
              "      <td>1.224233</td>\n",
              "      <td>1</td>\n",
              "    </tr>\n",
              "    <tr>\n",
              "      <th>533</th>\n",
              "      <td>1.253802</td>\n",
              "      <td>-0.400717</td>\n",
              "      <td>-0.835508</td>\n",
              "      <td>NaN</td>\n",
              "      <td>0</td>\n",
              "    </tr>\n",
              "    <tr>\n",
              "      <th>12</th>\n",
              "      <td>0.399599</td>\n",
              "      <td>-0.178094</td>\n",
              "      <td>-0.161278</td>\n",
              "      <td>0.593916</td>\n",
              "      <td>0</td>\n",
              "    </tr>\n",
              "    <tr>\n",
              "      <th>...</th>\n",
              "      <td>...</td>\n",
              "      <td>...</td>\n",
              "      <td>...</td>\n",
              "      <td>...</td>\n",
              "      <td>...</td>\n",
              "    </tr>\n",
              "    <tr>\n",
              "      <th>5</th>\n",
              "      <td>-0.178244</td>\n",
              "      <td>-0.075131</td>\n",
              "      <td>0.217977</td>\n",
              "      <td>0.068652</td>\n",
              "      <td>0</td>\n",
              "    </tr>\n",
              "    <tr>\n",
              "      <th>347</th>\n",
              "      <td>2.535107</td>\n",
              "      <td>2.159451</td>\n",
              "      <td>-0.835508</td>\n",
              "      <td>-1.008140</td>\n",
              "      <td>0</td>\n",
              "    </tr>\n",
              "    <tr>\n",
              "      <th>38</th>\n",
              "      <td>-0.354109</td>\n",
              "      <td>-0.041737</td>\n",
              "      <td>-0.076999</td>\n",
              "      <td>0.278757</td>\n",
              "      <td>0</td>\n",
              "    </tr>\n",
              "    <tr>\n",
              "      <th>440</th>\n",
              "      <td>-0.768649</td>\n",
              "      <td>1.355224</td>\n",
              "      <td>0.681510</td>\n",
              "      <td>0.383810</td>\n",
              "      <td>0</td>\n",
              "    </tr>\n",
              "    <tr>\n",
              "      <th>540</th>\n",
              "      <td>0.085554</td>\n",
              "      <td>-0.116873</td>\n",
              "      <td>2.493503</td>\n",
              "      <td>0.199968</td>\n",
              "      <td>0</td>\n",
              "    </tr>\n",
              "  </tbody>\n",
              "</table>\n",
              "<p>602 rows × 5 columns</p>\n",
              "</div>"
            ],
            "text/plain": [
              "     Platelets  Leukocytes  Eosinophils  Monocytes  SARS-Cov-2_exam_result\n",
              "154   0.851824    0.670657    -0.329835  -0.587929                       0\n",
              "442   0.211172   -0.620558    -0.540532   0.672705                       0\n",
              "554  -0.693278   -1.171551    -0.835508   1.224233                       1\n",
              "533   1.253802   -0.400717    -0.835508        NaN                       0\n",
              "12    0.399599   -0.178094    -0.161278   0.593916                       0\n",
              "..         ...         ...          ...        ...                     ...\n",
              "5    -0.178244   -0.075131     0.217977   0.068652                       0\n",
              "347   2.535107    2.159451    -0.835508  -1.008140                       0\n",
              "38   -0.354109   -0.041737    -0.076999   0.278757                       0\n",
              "440  -0.768649    1.355224     0.681510   0.383810                       0\n",
              "540   0.085554   -0.116873     2.493503   0.199968                       0\n",
              "\n",
              "[602 rows x 5 columns]"
            ]
          },
          "metadata": {
            "tags": []
          },
          "execution_count": 38
        }
      ]
    },
    {
      "cell_type": "code",
      "metadata": {
        "colab": {
          "base_uri": "https://localhost:8080/"
        },
        "id": "G8B_AeN9nZC_",
        "outputId": "177f97e0-129e-4dca-e097-97f129d8b91b"
      },
      "source": [
        "df.isnull().any()"
      ],
      "execution_count": 39,
      "outputs": [
        {
          "output_type": "execute_result",
          "data": {
            "text/plain": [
              "Platelets                 False\n",
              "Leukocytes                False\n",
              "Eosinophils               False\n",
              "Monocytes                  True\n",
              "SARS-Cov-2_exam_result    False\n",
              "dtype: bool"
            ]
          },
          "metadata": {
            "tags": []
          },
          "execution_count": 39
        }
      ]
    },
    {
      "cell_type": "code",
      "metadata": {
        "id": "vAOo1CzUnk3T"
      },
      "source": [
        "#df = df.fillna(lambda x: x.median())"
      ],
      "execution_count": 40,
      "outputs": []
    },
    {
      "cell_type": "code",
      "metadata": {
        "colab": {
          "base_uri": "https://localhost:8080/"
        },
        "id": "mSHf4nTTdoGU",
        "outputId": "cb3b2329-a98d-48dc-d27b-1302acdcf848"
      },
      "source": [
        "data = df.to_numpy()\n",
        "\n",
        "data.shape"
      ],
      "execution_count": 41,
      "outputs": [
        {
          "output_type": "execute_result",
          "data": {
            "text/plain": [
              "(602, 5)"
            ]
          },
          "metadata": {
            "tags": []
          },
          "execution_count": 41
        }
      ]
    },
    {
      "cell_type": "code",
      "metadata": {
        "colab": {
          "base_uri": "https://localhost:8080/"
        },
        "id": "ff7IPLZYtJP4",
        "outputId": "ec2c524e-b33d-4238-c784-f954e24fa5df"
      },
      "source": [
        "imp = SimpleImputer(missing_values=np.nan, strategy='median')\n",
        "imp.fit(data)\n",
        "#X_2 = X\n",
        "SimpleImputer()\n",
        "data = imp.transform(data)\n",
        "\n",
        "data"
      ],
      "execution_count": 42,
      "outputs": [
        {
          "output_type": "execute_result",
          "data": {
            "text/plain": [
              "array([[ 0.85182422,  0.67065746, -0.32983512, -0.58792883,  0.        ],\n",
              "       [ 0.21117194, -0.62055796, -0.54053205,  0.67270511,  0.        ],\n",
              "       [-0.69327831, -1.17155075, -0.83550769,  1.22423255,  1.        ],\n",
              "       ...,\n",
              "       [-0.3541095 , -0.04173729, -0.07699888,  0.27875698,  0.        ],\n",
              "       [-0.76864922,  1.35522437,  0.68150997,  0.38380998,  0.        ],\n",
              "       [ 0.08555385, -0.11687267,  2.49350333,  0.19996756,  0.        ]])"
            ]
          },
          "metadata": {
            "tags": []
          },
          "execution_count": 42
        }
      ]
    },
    {
      "cell_type": "code",
      "metadata": {
        "id": "KyiXP49_kKZY"
      },
      "source": [
        "#splitting into 7 folds\n",
        "data_g = np.array_split(data, 7)"
      ],
      "execution_count": 43,
      "outputs": []
    },
    {
      "cell_type": "markdown",
      "metadata": {
        "id": "RmvcBylZCgap"
      },
      "source": [
        "## **LOGISTIC REGRESSION**"
      ]
    },
    {
      "cell_type": "code",
      "metadata": {
        "id": "TelOon4rY3LV",
        "colab": {
          "base_uri": "https://localhost:8080/",
          "height": 729
        },
        "outputId": "ba86cfc3-547d-40a2-c9af-a536a3f31ca3"
      },
      "source": [
        "accuracy_log_test = []\n",
        "accuracy_log_train = []\n",
        "classif_log_test=[]\n",
        "classif_log_train=[]\n",
        "\n",
        "for i in range(7):\n",
        "  if i == 6:\n",
        "    test_data = data_g[i]\n",
        "    test_data_x = []\n",
        "    test_data_y = []\n",
        "    train_data_x = []\n",
        "    train_data_y = []\n",
        "    for j in range(7):\n",
        "        if j!=i:      #creating training dataset\n",
        "            for w in range(len(data_g[j])):\n",
        "                train_data_x.append(data_g[j][w][:4])\n",
        "                train_data_y.append(data_g[j][w][4])\n",
        "        elif j == i:      #creating testing dataset\n",
        "            for w in range(len(data_g[j])):\n",
        "                test_data_x.append(data_g[j][w][:4])\n",
        "                test_data_y.append(data_g[j][w][4])\n",
        "                \n",
        "    #convert into array\n",
        "    test_data_xn = np.array(test_data_x)\n",
        "    train_data_xn = np.array(train_data_x)\n",
        "    test_data_yn = np.array(test_data_y)\n",
        "    train_data_yn = np.array(train_data_y)\n",
        "    \n",
        "    #importing model from sklearn \n",
        "    clf = LogisticRegression(random_state = 0)\n",
        "    clf.fit(train_data_xn, train_data_yn)\n",
        "    \n",
        "    #predict class\n",
        "    test_pred_y_log = clf.predict(test_data_xn)\n",
        "    train_pred_y_log = clf.predict(train_data_xn)\n",
        "    \n",
        "    pred_prob1 = clf.predict_proba(test_data_xn)\n",
        "\n",
        "    from sklearn.metrics import roc_curve\n",
        "\n",
        "    # roc curve for models\n",
        "    fpr1, tpr1, thresh1 = roc_curve(test_data_yn, pred_prob1[:,1], pos_label=1)\n",
        "\n",
        "    # roc curve for tpr = fpr \n",
        "    random_probs = [0 for i in range(len(test_data_yn))]\n",
        "    p_fpr, p_tpr, _ = roc_curve(test_data_yn, random_probs, pos_label=1)\n",
        "    \n",
        "    from sklearn.metrics import roc_auc_score\n",
        "    auc_score1 = roc_auc_score(test_data_yn, pred_prob1[:,1])\n",
        "    print(auc_score1)\n",
        "\n",
        "    # matplotlib\n",
        "    import matplotlib.pyplot as plt\n",
        "    plt.style.use('seaborn')\n",
        "\n",
        "    # plot roc curves\n",
        "    plt.plot(fpr1, tpr1, linestyle='--',color='orange', label='Logistic Regression')\n",
        "    plt.plot(p_fpr, p_tpr, linestyle='--', color='blue')\n",
        "    # title\n",
        "    plt.title('ROC curve')\n",
        "    # x label\n",
        "    plt.xlabel('False Positive Rate')\n",
        "    # y label\n",
        "    plt.ylabel('True Positive rate')\n",
        "\n",
        "    plt.legend(loc='best')\n",
        "    #calculating and appending accuracies\n",
        "    acc1_log = accuracy_score(test_data_yn, test_pred_y_log)\n",
        "    accuracy_log_test.append(acc1_log)\n",
        "    print(\"----------------------TESTING-----------------------\")\n",
        "    target_names = ['Covid Negative', 'Covid Positive']\n",
        "    print(classification_report(test_data_yn, test_pred_y_log, target_names=target_names))\n",
        "    print(\"------------------TRAINING-----------------\")\n",
        "    acc2_log = accuracy_score(train_data_yn, train_pred_y_log)\n",
        "    accuracy_log_train.append(acc2_log)\n",
        "    target_names = ['Covid Negative', 'Covid Positive']\n",
        "    print(classification_report(train_data_yn, train_pred_y_log, target_names=target_names))\n"
      ],
      "execution_count": 44,
      "outputs": [
        {
          "output_type": "stream",
          "text": [
            "0.8290909090909091\n",
            "----------------------TESTING-----------------------\n",
            "                precision    recall  f1-score   support\n",
            "\n",
            "Covid Negative       0.88      0.95      0.91        75\n",
            "Covid Positive       0.20      0.09      0.13        11\n",
            "\n",
            "      accuracy                           0.84        86\n",
            "     macro avg       0.54      0.52      0.52        86\n",
            "  weighted avg       0.79      0.84      0.81        86\n",
            "\n",
            "------------------TRAINING-----------------\n",
            "                precision    recall  f1-score   support\n",
            "\n",
            "Covid Negative       0.88      0.97      0.92       444\n",
            "Covid Positive       0.50      0.21      0.29        72\n",
            "\n",
            "      accuracy                           0.86       516\n",
            "     macro avg       0.69      0.59      0.61       516\n",
            "  weighted avg       0.83      0.86      0.83       516\n",
            "\n"
          ],
          "name": "stdout"
        },
        {
          "output_type": "display_data",
          "data": {
            "image/png": "[encoded data removed]",
            "text/plain": [
              "<Figure size 576x396 with 1 Axes>"
            ]
          },
          "metadata": {
            "tags": []
          }
        }
      ]
    },
    {
      "cell_type": "code",
      "metadata": {
        "colab": {
          "base_uri": "https://localhost:8080/"
        },
        "id": "sRdXWPlXUMmc",
        "outputId": "699a62a3-ac25-4784-fe47-cfdb8b75a053"
      },
      "source": [
        "#Creating the Confusion matrix\n",
        "cm= confusion_matrix(test_data_yn, test_pred_y_log)\n",
        "cm"
      ],
      "execution_count": 45,
      "outputs": [
        {
          "output_type": "execute_result",
          "data": {
            "text/plain": [
              "array([[71,  4],\n",
              "       [10,  1]])"
            ]
          },
          "metadata": {
            "tags": []
          },
          "execution_count": 45
        }
      ]
    },
    {
      "cell_type": "code",
      "metadata": {
        "colab": {
          "base_uri": "https://localhost:8080/"
        },
        "id": "PwlXhGU5Y2-Q",
        "outputId": "c715006a-2699-4297-fa1f-f7d3c569265c"
      },
      "source": [
        "#printing accuracies \n",
        "\n",
        "print(\"Mean accuracy for test set = \", statistics.mean(accuracy_log_test))\n",
        "print(\"Mean accuracy for train set = \", statistics.mean(accuracy_log_train))\n"
      ],
      "execution_count": 46,
      "outputs": [
        {
          "output_type": "stream",
          "text": [
            "Mean accuracy for test set =  0.8372093023255814\n",
            "Mean accuracy for train set =  0.8604651162790697\n"
          ],
          "name": "stdout"
        }
      ]
    },
    {
      "cell_type": "markdown",
      "metadata": {
        "id": "ipOJwwE-CsFE"
      },
      "source": [
        "# **NAIVE BAYES**"
      ]
    },
    {
      "cell_type": "code",
      "metadata": {
        "id": "qf946sGdDAmT",
        "colab": {
          "base_uri": "https://localhost:8080/",
          "height": 561
        },
        "outputId": "2da2e512-29d2-4fa7-df9c-5ccaa885d8eb"
      },
      "source": [
        "accuracy_nb_test = []\n",
        "accuracy_nb_train = []\n",
        "\n",
        "for i in range(7):\n",
        "  if i == 6:\n",
        "    test_data = data_g[i]\n",
        "    test_data_x = []\n",
        "    test_data_y = []\n",
        "    train_data_x = []\n",
        "    train_data_y = []\n",
        "    for j in range(7):\n",
        "        if j!=i:      #creating training dataset\n",
        "            for w in range(len(data_g[j])):\n",
        "                train_data_x.append(data_g[j][w][:4])\n",
        "                train_data_y.append(data_g[j][w][4])\n",
        "        elif j == i:      #creating testing dataset\n",
        "            for w in range(len(data_g[j])):\n",
        "                test_data_x.append(data_g[j][w][:4])\n",
        "                test_data_y.append(data_g[j][w][4])\n",
        "       \n",
        "    #convert into array         \n",
        "    test_data_xn = np.array(test_data_x)\n",
        "    train_data_xn = np.array(train_data_x)\n",
        "    test_data_yn = np.array(test_data_y)\n",
        "    train_data_yn = np.array(train_data_y)\n",
        "    \n",
        "    #importing model from sklearn\n",
        "    clf = GaussianNB()\n",
        "    clf.fit(train_data_xn, train_data_yn)\n",
        "\n",
        "    \n",
        "    #predict class\n",
        "    test_pred_y_log = clf.predict(test_data_xn)\n",
        "    train_pred_y_log = clf.predict(train_data_xn)\n",
        "    \n",
        "    pred_prob1 = clf.predict_proba(test_data_xn)\n",
        "\n",
        "    from sklearn.metrics import roc_curve\n",
        "\n",
        "    # roc curve for models\n",
        "    fpr2, tpr2, thresh2 = roc_curve(test_data_yn, pred_prob1[:,1], pos_label=1)\n",
        "\n",
        "    # roc curve for tpr = fpr \n",
        "    random_probs = [0 for i in range(len(test_data_yn))]\n",
        "    p_fpr, p_tpr, _ = roc_curve(test_data_yn, random_probs, pos_label=1)\n",
        "    \n",
        "    from sklearn.metrics import roc_auc_score\n",
        "    auc_score1 = roc_auc_score(test_data_yn, pred_prob1[:,1])\n",
        "    print(auc_score1)\n",
        "\n",
        "    # matplotlib\n",
        "    import matplotlib.pyplot as plt\n",
        "    plt.style.use('seaborn')\n",
        "\n",
        "    # plot roc curves\n",
        "    plt.plot(fpr2, tpr2, linestyle='--',color='red', label='Naive Bayes')\n",
        "    plt.plot(p_fpr, p_tpr, linestyle='--', color='blue')\n",
        "    # title\n",
        "    plt.title('ROC curve')\n",
        "    # x label\n",
        "    plt.xlabel('False Positive Rate')\n",
        "    # y label\n",
        "    plt.ylabel('True Positive rate')\n",
        "\n",
        "    plt.legend(loc='best')\n",
        "    plt.savefig('ROC',dpi=300)\n",
        "    #predict class\n",
        "    test_pred_y_nb = clf.predict(test_data_xn)\n",
        "    train_pred_y_nb = clf.predict(train_data_xn)\n",
        "\n",
        "    #calculating and appending accuracies\n",
        "    acc1_nb = accuracy_score(test_data_yn, test_pred_y_nb)\n",
        "    accuracy_nb_test.append(acc1_nb)\n",
        "    \n",
        "    acc2_nb = accuracy_score(train_data_yn, train_pred_y_nb)\n",
        "    accuracy_nb_train.append(acc2_nb)\n",
        "    print(\"----------------------TESTING-----------------------\")\n",
        "    target_names = ['Covid Negative', 'Covid Positive']\n",
        "    print(classification_report(test_data_yn, test_pred_y_log, target_names=target_names))"
      ],
      "execution_count": 47,
      "outputs": [
        {
          "output_type": "stream",
          "text": [
            "0.8242424242424242\n",
            "----------------------TESTING-----------------------\n",
            "                precision    recall  f1-score   support\n",
            "\n",
            "Covid Negative       0.93      0.91      0.92        75\n",
            "Covid Positive       0.46      0.55      0.50        11\n",
            "\n",
            "      accuracy                           0.86        86\n",
            "     macro avg       0.70      0.73      0.71        86\n",
            "  weighted avg       0.87      0.86      0.87        86\n",
            "\n"
          ],
          "name": "stdout"
        },
        {
          "output_type": "display_data",
          "data": {
            "image/png": "[encoded data removed]",
            "text/plain": [
              "<Figure size 576x396 with 1 Axes>"
            ]
          },
          "metadata": {
            "tags": []
          }
        }
      ]
    },
    {
      "cell_type": "code",
      "metadata": {
        "colab": {
          "base_uri": "https://localhost:8080/"
        },
        "id": "L-7tdQEXDAkS",
        "outputId": "5667ba3c-6d53-4c8b-8196-9fa0d9405a01"
      },
      "source": [
        "#printing accuracies \n",
        "\n",
        "print(\"Mean accuracy for test set = \", statistics.mean(accuracy_nb_test))\n",
        "print(\"Mean accuracy for train set = \", statistics.mean(accuracy_nb_train))"
      ],
      "execution_count": 48,
      "outputs": [
        {
          "output_type": "stream",
          "text": [
            "Mean accuracy for test set =  0.8604651162790697\n",
            "Mean accuracy for train set =  0.8313953488372093\n"
          ],
          "name": "stdout"
        }
      ]
    },
    {
      "cell_type": "markdown",
      "metadata": {
        "id": "UJ7eu-ImlZp6"
      },
      "source": [
        "# ***Fisher Linear Discriminant***"
      ]
    },
    {
      "cell_type": "code",
      "metadata": {
        "id": "N70kkU0KDAhz",
        "colab": {
          "base_uri": "https://localhost:8080/",
          "height": 561
        },
        "outputId": "596a64d5-cfc2-4a21-f9fe-e7a9a8841a5d"
      },
      "source": [
        "accuracy_fl_test = []\n",
        "accuracy_fl_train = []\n",
        "\n",
        "for i in range(7):\n",
        "  if i == 6:\n",
        "    test_data = data_g[i]\n",
        "    test_data_x = []\n",
        "    test_data_y = []\n",
        "    train_data_x = []\n",
        "    train_data_y = []\n",
        "    for j in range(7):\n",
        "        if j!=i:      #creating training dataset\n",
        "            for w in range(len(data_g[j])):\n",
        "                train_data_x.append(data_g[j][w][:4])\n",
        "                train_data_y.append(data_g[j][w][4])\n",
        "        elif j == i:      #creating testing dataset\n",
        "            for w in range(len(data_g[j])):\n",
        "                test_data_x.append(data_g[j][w][:4])\n",
        "                test_data_y.append(data_g[j][w][4])\n",
        "                \n",
        "    #convert into array\n",
        "    test_data_xn = np.array(test_data_x)\n",
        "    train_data_xn = np.array(train_data_x)\n",
        "    test_data_yn = np.array(test_data_y)\n",
        "    train_data_yn = np.array(train_data_y)\n",
        "    \n",
        "    #importing model from sklearn\n",
        "    clf = LinearDiscriminantAnalysis()\n",
        "    clf.fit(train_data_xn, train_data_yn)\n",
        "    \n",
        "    #predict class\n",
        "    test_pred_y_log = clf.predict(test_data_xn)\n",
        "    train_pred_y_log = clf.predict(train_data_xn)\n",
        "    \n",
        "    pred_prob1 = clf.predict_proba(test_data_xn)\n",
        "\n",
        "    from sklearn.metrics import roc_curve\n",
        "\n",
        "    # roc curve for models\n",
        "    fpr3, tpr3, thresh3 = roc_curve(test_data_yn, pred_prob1[:,1], pos_label=1)\n",
        "\n",
        "    # roc curve for tpr = fpr \n",
        "    random_probs = [0 for i in range(len(test_data_yn))]\n",
        "    p_fpr, p_tpr, _ = roc_curve(test_data_yn, random_probs, pos_label=1)\n",
        "    \n",
        "    from sklearn.metrics import roc_auc_score\n",
        "    auc_score1 = roc_auc_score(test_data_yn, pred_prob1[:,1])\n",
        "    print(auc_score1)\n",
        "\n",
        "    # matplotlib\n",
        "    import matplotlib.pyplot as plt\n",
        "    plt.style.use('seaborn')\n",
        "\n",
        "    # plot roc curves\n",
        "    plt.plot(fpr3, tpr3, linestyle='--',color='yellow', label='Fisher Linear Discriminant')\n",
        "    plt.plot(p_fpr, p_tpr, linestyle='--', color='blue')\n",
        "    # title\n",
        "    plt.title('ROC curve')\n",
        "    # x label\n",
        "    plt.xlabel('False Positive Rate')\n",
        "    # y label\n",
        "    plt.ylabel('True Positive rate')\n",
        "\n",
        "    plt.legend(loc='best')\n",
        "    plt.savefig('ROC',dpi=300)\n",
        "    #predict class\n",
        "    test_pred_y_fl = clf.predict(test_data_xn)\n",
        "    train_pred_y_fl = clf.predict(train_data_xn)\n",
        "    \n",
        "    #calculating and appending accuracies\n",
        "    acc1_fl = accuracy_score(test_data_yn, test_pred_y_fl)\n",
        "    accuracy_fl_test.append(acc1_fl)\n",
        "    \n",
        "    acc2_fl = accuracy_score(train_data_yn, train_pred_y_fl)\n",
        "    accuracy_fl_train.append(acc2_fl)\n",
        "    print(\"----------------------TESTING-----------------------\")\n",
        "    target_names = ['Covid Negative', 'Covid Positive']\n",
        "    print(classification_report(test_data_yn, test_pred_y_log, target_names=target_names))"
      ],
      "execution_count": 49,
      "outputs": [
        {
          "output_type": "stream",
          "text": [
            "0.8303030303030302\n",
            "----------------------TESTING-----------------------\n",
            "                precision    recall  f1-score   support\n",
            "\n",
            "Covid Negative       0.87      0.96      0.91        75\n",
            "Covid Positive       0.00      0.00      0.00        11\n",
            "\n",
            "      accuracy                           0.84        86\n",
            "     macro avg       0.43      0.48      0.46        86\n",
            "  weighted avg       0.76      0.84      0.79        86\n",
            "\n"
          ],
          "name": "stdout"
        },
        {
          "output_type": "display_data",
          "data": {
            "image/png": "[encoded data removed]",
            "text/plain": [
              "<Figure size 576x396 with 1 Axes>"
            ]
          },
          "metadata": {
            "tags": []
          }
        }
      ]
    },
    {
      "cell_type": "code",
      "metadata": {
        "colab": {
          "base_uri": "https://localhost:8080/"
        },
        "id": "xnEqKjc_DAfQ",
        "outputId": "0ac2c46c-d636-4be6-9456-730790034db3"
      },
      "source": [
        "#printing accuracies \n",
        "\n",
        "print(\"Mean accuracy for test set = \", statistics.mean(accuracy_fl_test))\n",
        "print(\"Mean accuracy for train set = \", statistics.mean(accuracy_fl_train))"
      ],
      "execution_count": 50,
      "outputs": [
        {
          "output_type": "stream",
          "text": [
            "Mean accuracy for test set =  0.8372093023255814\n",
            "Mean accuracy for train set =  0.8527131782945736\n"
          ],
          "name": "stdout"
        }
      ]
    },
    {
      "cell_type": "markdown",
      "metadata": {
        "id": "moTpvsGK66Dp"
      },
      "source": [
        "# **KNN**"
      ]
    },
    {
      "cell_type": "code",
      "metadata": {
        "colab": {
          "base_uri": "https://localhost:8080/",
          "height": 417
        },
        "id": "HCYml6vADEf1",
        "outputId": "c904dcd8-d858-4059-c020-c1426ee24821"
      },
      "source": [
        "df"
      ],
      "execution_count": 51,
      "outputs": [
        {
          "output_type": "execute_result",
          "data": {
            "text/html": [
              "<div>\n",
              "<style scoped>\n",
              "    .dataframe tbody tr th:only-of-type {\n",
              "        vertical-align: middle;\n",
              "    }\n",
              "\n",
              "    .dataframe tbody tr th {\n",
              "        vertical-align: top;\n",
              "    }\n",
              "\n",
              "    .dataframe thead th {\n",
              "        text-align: right;\n",
              "    }\n",
              "</style>\n",
              "<table border=\"1\" class=\"dataframe\">\n",
              "  <thead>\n",
              "    <tr style=\"text-align: right;\">\n",
              "      <th></th>\n",
              "      <th>Platelets</th>\n",
              "      <th>Leukocytes</th>\n",
              "      <th>Eosinophils</th>\n",
              "      <th>Monocytes</th>\n",
              "      <th>SARS-Cov-2_exam_result</th>\n",
              "    </tr>\n",
              "  </thead>\n",
              "  <tbody>\n",
              "    <tr>\n",
              "      <th>154</th>\n",
              "      <td>0.851824</td>\n",
              "      <td>0.670657</td>\n",
              "      <td>-0.329835</td>\n",
              "      <td>-0.587929</td>\n",
              "      <td>0</td>\n",
              "    </tr>\n",
              "    <tr>\n",
              "      <th>442</th>\n",
              "      <td>0.211172</td>\n",
              "      <td>-0.620558</td>\n",
              "      <td>-0.540532</td>\n",
              "      <td>0.672705</td>\n",
              "      <td>0</td>\n",
              "    </tr>\n",
              "    <tr>\n",
              "      <th>554</th>\n",
              "      <td>-0.693278</td>\n",
              "      <td>-1.171551</td>\n",
              "      <td>-0.835508</td>\n",
              "      <td>1.224233</td>\n",
              "      <td>1</td>\n",
              "    </tr>\n",
              "    <tr>\n",
              "      <th>533</th>\n",
              "      <td>1.253802</td>\n",
              "      <td>-0.400717</td>\n",
              "      <td>-0.835508</td>\n",
              "      <td>NaN</td>\n",
              "      <td>0</td>\n",
              "    </tr>\n",
              "    <tr>\n",
              "      <th>12</th>\n",
              "      <td>0.399599</td>\n",
              "      <td>-0.178094</td>\n",
              "      <td>-0.161278</td>\n",
              "      <td>0.593916</td>\n",
              "      <td>0</td>\n",
              "    </tr>\n",
              "    <tr>\n",
              "      <th>...</th>\n",
              "      <td>...</td>\n",
              "      <td>...</td>\n",
              "      <td>...</td>\n",
              "      <td>...</td>\n",
              "      <td>...</td>\n",
              "    </tr>\n",
              "    <tr>\n",
              "      <th>5</th>\n",
              "      <td>-0.178244</td>\n",
              "      <td>-0.075131</td>\n",
              "      <td>0.217977</td>\n",
              "      <td>0.068652</td>\n",
              "      <td>0</td>\n",
              "    </tr>\n",
              "    <tr>\n",
              "      <th>347</th>\n",
              "      <td>2.535107</td>\n",
              "      <td>2.159451</td>\n",
              "      <td>-0.835508</td>\n",
              "      <td>-1.008140</td>\n",
              "      <td>0</td>\n",
              "    </tr>\n",
              "    <tr>\n",
              "      <th>38</th>\n",
              "      <td>-0.354109</td>\n",
              "      <td>-0.041737</td>\n",
              "      <td>-0.076999</td>\n",
              "      <td>0.278757</td>\n",
              "      <td>0</td>\n",
              "    </tr>\n",
              "    <tr>\n",
              "      <th>440</th>\n",
              "      <td>-0.768649</td>\n",
              "      <td>1.355224</td>\n",
              "      <td>0.681510</td>\n",
              "      <td>0.383810</td>\n",
              "      <td>0</td>\n",
              "    </tr>\n",
              "    <tr>\n",
              "      <th>540</th>\n",
              "      <td>0.085554</td>\n",
              "      <td>-0.116873</td>\n",
              "      <td>2.493503</td>\n",
              "      <td>0.199968</td>\n",
              "      <td>0</td>\n",
              "    </tr>\n",
              "  </tbody>\n",
              "</table>\n",
              "<p>602 rows × 5 columns</p>\n",
              "</div>"
            ],
            "text/plain": [
              "     Platelets  Leukocytes  Eosinophils  Monocytes  SARS-Cov-2_exam_result\n",
              "154   0.851824    0.670657    -0.329835  -0.587929                       0\n",
              "442   0.211172   -0.620558    -0.540532   0.672705                       0\n",
              "554  -0.693278   -1.171551    -0.835508   1.224233                       1\n",
              "533   1.253802   -0.400717    -0.835508        NaN                       0\n",
              "12    0.399599   -0.178094    -0.161278   0.593916                       0\n",
              "..         ...         ...          ...        ...                     ...\n",
              "5    -0.178244   -0.075131     0.217977   0.068652                       0\n",
              "347   2.535107    2.159451    -0.835508  -1.008140                       0\n",
              "38   -0.354109   -0.041737    -0.076999   0.278757                       0\n",
              "440  -0.768649    1.355224     0.681510   0.383810                       0\n",
              "540   0.085554   -0.116873     2.493503   0.199968                       0\n",
              "\n",
              "[602 rows x 5 columns]"
            ]
          },
          "metadata": {
            "tags": []
          },
          "execution_count": 51
        }
      ]
    },
    {
      "cell_type": "code",
      "metadata": {
        "colab": {
          "base_uri": "https://localhost:8080/",
          "height": 417
        },
        "id": "bJ2OkRxfAh0d",
        "outputId": "3d59c08f-e78d-453f-f3dc-951fc1de1253"
      },
      "source": [
        "y=df[['SARS-Cov-2_exam_result']] \n",
        "y"
      ],
      "execution_count": 52,
      "outputs": [
        {
          "output_type": "execute_result",
          "data": {
            "text/html": [
              "<div>\n",
              "<style scoped>\n",
              "    .dataframe tbody tr th:only-of-type {\n",
              "        vertical-align: middle;\n",
              "    }\n",
              "\n",
              "    .dataframe tbody tr th {\n",
              "        vertical-align: top;\n",
              "    }\n",
              "\n",
              "    .dataframe thead th {\n",
              "        text-align: right;\n",
              "    }\n",
              "</style>\n",
              "<table border=\"1\" class=\"dataframe\">\n",
              "  <thead>\n",
              "    <tr style=\"text-align: right;\">\n",
              "      <th></th>\n",
              "      <th>SARS-Cov-2_exam_result</th>\n",
              "    </tr>\n",
              "  </thead>\n",
              "  <tbody>\n",
              "    <tr>\n",
              "      <th>154</th>\n",
              "      <td>0</td>\n",
              "    </tr>\n",
              "    <tr>\n",
              "      <th>442</th>\n",
              "      <td>0</td>\n",
              "    </tr>\n",
              "    <tr>\n",
              "      <th>554</th>\n",
              "      <td>1</td>\n",
              "    </tr>\n",
              "    <tr>\n",
              "      <th>533</th>\n",
              "      <td>0</td>\n",
              "    </tr>\n",
              "    <tr>\n",
              "      <th>12</th>\n",
              "      <td>0</td>\n",
              "    </tr>\n",
              "    <tr>\n",
              "      <th>...</th>\n",
              "      <td>...</td>\n",
              "    </tr>\n",
              "    <tr>\n",
              "      <th>5</th>\n",
              "      <td>0</td>\n",
              "    </tr>\n",
              "    <tr>\n",
              "      <th>347</th>\n",
              "      <td>0</td>\n",
              "    </tr>\n",
              "    <tr>\n",
              "      <th>38</th>\n",
              "      <td>0</td>\n",
              "    </tr>\n",
              "    <tr>\n",
              "      <th>440</th>\n",
              "      <td>0</td>\n",
              "    </tr>\n",
              "    <tr>\n",
              "      <th>540</th>\n",
              "      <td>0</td>\n",
              "    </tr>\n",
              "  </tbody>\n",
              "</table>\n",
              "<p>602 rows × 1 columns</p>\n",
              "</div>"
            ],
            "text/plain": [
              "     SARS-Cov-2_exam_result\n",
              "154                       0\n",
              "442                       0\n",
              "554                       1\n",
              "533                       0\n",
              "12                        0\n",
              "..                      ...\n",
              "5                         0\n",
              "347                       0\n",
              "38                        0\n",
              "440                       0\n",
              "540                       0\n",
              "\n",
              "[602 rows x 1 columns]"
            ]
          },
          "metadata": {
            "tags": []
          },
          "execution_count": 52
        }
      ]
    },
    {
      "cell_type": "code",
      "metadata": {
        "colab": {
          "base_uri": "https://localhost:8080/",
          "height": 417
        },
        "id": "z24XdgCXB8Ln",
        "outputId": "7bd01f9d-75a6-4cb5-942d-d0725cfd6748"
      },
      "source": [
        "x=df[['Platelets','Leukocytes','Eosinophils','Monocytes']]\n",
        "x"
      ],
      "execution_count": 53,
      "outputs": [
        {
          "output_type": "execute_result",
          "data": {
            "text/html": [
              "<div>\n",
              "<style scoped>\n",
              "    .dataframe tbody tr th:only-of-type {\n",
              "        vertical-align: middle;\n",
              "    }\n",
              "\n",
              "    .dataframe tbody tr th {\n",
              "        vertical-align: top;\n",
              "    }\n",
              "\n",
              "    .dataframe thead th {\n",
              "        text-align: right;\n",
              "    }\n",
              "</style>\n",
              "<table border=\"1\" class=\"dataframe\">\n",
              "  <thead>\n",
              "    <tr style=\"text-align: right;\">\n",
              "      <th></th>\n",
              "      <th>Platelets</th>\n",
              "      <th>Leukocytes</th>\n",
              "      <th>Eosinophils</th>\n",
              "      <th>Monocytes</th>\n",
              "    </tr>\n",
              "  </thead>\n",
              "  <tbody>\n",
              "    <tr>\n",
              "      <th>154</th>\n",
              "      <td>0.851824</td>\n",
              "      <td>0.670657</td>\n",
              "      <td>-0.329835</td>\n",
              "      <td>-0.587929</td>\n",
              "    </tr>\n",
              "    <tr>\n",
              "      <th>442</th>\n",
              "      <td>0.211172</td>\n",
              "      <td>-0.620558</td>\n",
              "      <td>-0.540532</td>\n",
              "      <td>0.672705</td>\n",
              "    </tr>\n",
              "    <tr>\n",
              "      <th>554</th>\n",
              "      <td>-0.693278</td>\n",
              "      <td>-1.171551</td>\n",
              "      <td>-0.835508</td>\n",
              "      <td>1.224233</td>\n",
              "    </tr>\n",
              "    <tr>\n",
              "      <th>533</th>\n",
              "      <td>1.253802</td>\n",
              "      <td>-0.400717</td>\n",
              "      <td>-0.835508</td>\n",
              "      <td>NaN</td>\n",
              "    </tr>\n",
              "    <tr>\n",
              "      <th>12</th>\n",
              "      <td>0.399599</td>\n",
              "      <td>-0.178094</td>\n",
              "      <td>-0.161278</td>\n",
              "      <td>0.593916</td>\n",
              "    </tr>\n",
              "    <tr>\n",
              "      <th>...</th>\n",
              "      <td>...</td>\n",
              "      <td>...</td>\n",
              "      <td>...</td>\n",
              "      <td>...</td>\n",
              "    </tr>\n",
              "    <tr>\n",
              "      <th>5</th>\n",
              "      <td>-0.178244</td>\n",
              "      <td>-0.075131</td>\n",
              "      <td>0.217977</td>\n",
              "      <td>0.068652</td>\n",
              "    </tr>\n",
              "    <tr>\n",
              "      <th>347</th>\n",
              "      <td>2.535107</td>\n",
              "      <td>2.159451</td>\n",
              "      <td>-0.835508</td>\n",
              "      <td>-1.008140</td>\n",
              "    </tr>\n",
              "    <tr>\n",
              "      <th>38</th>\n",
              "      <td>-0.354109</td>\n",
              "      <td>-0.041737</td>\n",
              "      <td>-0.076999</td>\n",
              "      <td>0.278757</td>\n",
              "    </tr>\n",
              "    <tr>\n",
              "      <th>440</th>\n",
              "      <td>-0.768649</td>\n",
              "      <td>1.355224</td>\n",
              "      <td>0.681510</td>\n",
              "      <td>0.383810</td>\n",
              "    </tr>\n",
              "    <tr>\n",
              "      <th>540</th>\n",
              "      <td>0.085554</td>\n",
              "      <td>-0.116873</td>\n",
              "      <td>2.493503</td>\n",
              "      <td>0.199968</td>\n",
              "    </tr>\n",
              "  </tbody>\n",
              "</table>\n",
              "<p>602 rows × 4 columns</p>\n",
              "</div>"
            ],
            "text/plain": [
              "     Platelets  Leukocytes  Eosinophils  Monocytes\n",
              "154   0.851824    0.670657    -0.329835  -0.587929\n",
              "442   0.211172   -0.620558    -0.540532   0.672705\n",
              "554  -0.693278   -1.171551    -0.835508   1.224233\n",
              "533   1.253802   -0.400717    -0.835508        NaN\n",
              "12    0.399599   -0.178094    -0.161278   0.593916\n",
              "..         ...         ...          ...        ...\n",
              "5    -0.178244   -0.075131     0.217977   0.068652\n",
              "347   2.535107    2.159451    -0.835508  -1.008140\n",
              "38   -0.354109   -0.041737    -0.076999   0.278757\n",
              "440  -0.768649    1.355224     0.681510   0.383810\n",
              "540   0.085554   -0.116873     2.493503   0.199968\n",
              "\n",
              "[602 rows x 4 columns]"
            ]
          },
          "metadata": {
            "tags": []
          },
          "execution_count": 53
        }
      ]
    },
    {
      "cell_type": "code",
      "metadata": {
        "colab": {
          "base_uri": "https://localhost:8080/"
        },
        "id": "fQcJrvK5IVue",
        "outputId": "88b46984-da60-4362-9ef6-352f3ecfea4a"
      },
      "source": [
        "imp = SimpleImputer(missing_values=np.nan, strategy='median')\n",
        "imp.fit(x)\n",
        "#X_2 = X\n",
        "SimpleImputer()\n",
        "X = imp.transform(x)\n",
        "X"
      ],
      "execution_count": 54,
      "outputs": [
        {
          "output_type": "execute_result",
          "data": {
            "text/plain": [
              "array([[ 0.85182422,  0.67065746, -0.32983512, -0.58792883],\n",
              "       [ 0.21117194, -0.62055796, -0.54053205,  0.67270511],\n",
              "       [-0.69327831, -1.17155075, -0.83550769,  1.22423255],\n",
              "       ...,\n",
              "       [-0.3541095 , -0.04173729, -0.07699888,  0.27875698],\n",
              "       [-0.76864922,  1.35522437,  0.68150997,  0.38380998],\n",
              "       [ 0.08555385, -0.11687267,  2.49350333,  0.19996756]])"
            ]
          },
          "metadata": {
            "tags": []
          },
          "execution_count": 54
        }
      ]
    },
    {
      "cell_type": "code",
      "metadata": {
        "id": "KHaAsfSbB8JW"
      },
      "source": [
        "x_train, x_test, y_train, y_test= train_test_split(X, y, test_size= 0.1, random_state=0)"
      ],
      "execution_count": 55,
      "outputs": []
    },
    {
      "cell_type": "code",
      "metadata": {
        "colab": {
          "base_uri": "https://localhost:8080/",
          "height": 446
        },
        "id": "ONbZ01qbB8G3",
        "outputId": "eea3071b-3ede-4f74-8d16-83d2f2e97404"
      },
      "source": [
        "#Fitting K-NN classifier to the training set\n",
        "classifier= KNeighborsClassifier(n_neighbors=5, metric='minkowski', p=2 )  \n",
        "classifier.fit(x_train, y_train)\n",
        "#importing model from sklearn \n",
        "    \n",
        "    #predict class\n",
        "test_pred_y_log = classifier.predict(x_test)\n",
        "train_pred_y_log = classifier.predict(x_train)\n",
        "    \n",
        "pred_prob1 = classifier.predict_proba(x_test)\n",
        "\n",
        "from sklearn.metrics import roc_curve\n",
        "\n",
        "    # roc curve for models\n",
        "fpr4, tpr4, thresh4 = roc_curve(y_test, pred_prob1[:,1], pos_label=1)\n",
        "\n",
        "    # roc curve for tpr = fpr \n",
        "random_probs = [0 for i in range(len(y_test))]\n",
        "p_fpr, p_tpr, _ = roc_curve(y_test, random_probs, pos_label=1)\n",
        "    \n",
        "from sklearn.metrics import roc_auc_score\n",
        "auc_score1 = roc_auc_score(y_test, pred_prob1[:,1])\n",
        "print(auc_score1)\n",
        "\n",
        "    # matplotlib\n",
        "import matplotlib.pyplot as plt\n",
        "plt.style.use('seaborn')\n",
        "\n",
        "    # plot roc curves\n",
        "plt.plot(fpr1, tpr1, linestyle='--',color='orange', label='Logistic Regression')\n",
        "plt.plot(fpr2, tpr2, linestyle='--',color='red', label='Naive Bayes')\n",
        "plt.plot(fpr3, tpr3, linestyle='--',color='yellow', label='FIsher Linear Discriminant')\n",
        "plt.plot(fpr4, tpr4, linestyle='--',color='green', label='KNN')\n",
        "plt.plot(p_fpr, p_tpr, linestyle='--', color='blue')\n",
        "    # title\n",
        "plt.title('ROC curve')\n",
        "    # x label\n",
        "plt.xlabel('False Positive Rate')\n",
        "    # y label\n",
        "plt.ylabel('True Positive rate')\n",
        "\n",
        "plt.legend(loc='best')\n",
        "plt.savefig('ROC',dpi=300)\n",
        "plt.show();"
      ],
      "execution_count": 56,
      "outputs": [
        {
          "output_type": "stream",
          "text": [
            "/usr/local/lib/python3.7/dist-packages/ipykernel_launcher.py:3: DataConversionWarning: A column-vector y was passed when a 1d array was expected. Please change the shape of y to (n_samples, ), for example using ravel().\n",
            "  This is separate from the ipykernel package so we can avoid doing imports until\n"
          ],
          "name": "stderr"
        },
        {
          "output_type": "stream",
          "text": [
            "0.8690909090909091\n"
          ],
          "name": "stdout"
        },
        {
          "output_type": "display_data",
          "data": {
            "image/png": "[encoded data removed]",
            "text/plain": [
              "<Figure size 576x396 with 1 Axes>"
            ]
          },
          "metadata": {
            "tags": []
          }
        }
      ]
    },
    {
      "cell_type": "code",
      "metadata": {
        "colab": {
          "base_uri": "https://localhost:8080/"
        },
        "id": "_o5_vWaWB8EP",
        "outputId": "b84b5dae-1521-4fac-bf4e-19a88b98fcf3"
      },
      "source": [
        "#Predicting the test set result  \n",
        "y_pred= classifier.predict(x_test) \n",
        "y_pred"
      ],
      "execution_count": 57,
      "outputs": [
        {
          "output_type": "execute_result",
          "data": {
            "text/plain": [
              "array([0, 0, 0, 0, 0, 0, 0, 0, 0, 0, 0, 0, 0, 0, 0, 0, 0, 1, 0, 0, 0, 0,\n",
              "       0, 0, 0, 0, 0, 0, 0, 1, 0, 0, 0, 1, 0, 0, 0, 0, 0, 0, 0, 0, 0, 0,\n",
              "       0, 0, 0, 0, 0, 0, 0, 0, 0, 0, 1, 0, 0, 0, 1, 0, 0])"
            ]
          },
          "metadata": {
            "tags": []
          },
          "execution_count": 57
        }
      ]
    },
    {
      "cell_type": "code",
      "metadata": {
        "id": "QDG-55GMB8Bo"
      },
      "source": [
        "#Creating the Confusion matrix\n",
        "cm= confusion_matrix(y_test, y_pred)"
      ],
      "execution_count": 58,
      "outputs": []
    },
    {
      "cell_type": "code",
      "metadata": {
        "id": "hfYdRYnVB7-z"
      },
      "source": [
        "#finding accuracy\n",
        "accuracy = accuracy_score(y_test, y_pred)"
      ],
      "execution_count": 59,
      "outputs": []
    },
    {
      "cell_type": "code",
      "metadata": {
        "id": "le2pPt8GB77Z",
        "colab": {
          "base_uri": "https://localhost:8080/"
        },
        "outputId": "9828f885-d136-4b56-bb86-7ab88e6584b1"
      },
      "source": [
        "print(\"Accuracy: %.2f%%\" % (accuracy * 100.0))\n",
        "print(\"The Confusion Matrix is:\\n \",cm)\n",
        "target_names = ['Covid Negative', 'Covid Positive']\n",
        "print(classification_report(y_test, y_pred, target_names=target_names))"
      ],
      "execution_count": 60,
      "outputs": [
        {
          "output_type": "stream",
          "text": [
            "Accuracy: 83.61%\n",
            "The Confusion Matrix is:\n",
            "  [[48  2]\n",
            " [ 8  3]]\n",
            "                precision    recall  f1-score   support\n",
            "\n",
            "Covid Negative       0.86      0.96      0.91        50\n",
            "Covid Positive       0.60      0.27      0.37        11\n",
            "\n",
            "      accuracy                           0.84        61\n",
            "     macro avg       0.73      0.62      0.64        61\n",
            "  weighted avg       0.81      0.84      0.81        61\n",
            "\n"
          ],
          "name": "stdout"
        }
      ]
    }
  ]
}