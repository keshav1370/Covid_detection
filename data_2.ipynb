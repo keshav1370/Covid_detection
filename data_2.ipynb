{
  "nbformat": 4,
  "nbformat_minor": 0,
  "metadata": {
    "colab": {
      "name": "data_2.ipynb",
      "provenance": [],
      "collapsed_sections": []
    },
    "kernelspec": {
      "name": "python3",
      "display_name": "Python 3"
    },
    "language_info": {
      "name": "python"
    }
  },
  "cells": [
    {
      "cell_type": "code",
      "metadata": {
        "id": "biOxPLfZXViI"
      },
      "source": [
        "#Imorting all libraries\n",
        "import pandas as pd\n",
        "import numpy as np \n",
        "import matplotlib.pyplot as plt\n",
        "from sklearn.linear_model import LogisticRegression\n",
        "from sklearn.linear_model import Perceptron\n",
        "from sklearn.svm import SVC  \n",
        "from sklearn.model_selection import train_test_split  \n",
        "from sklearn.naive_bayes import GaussianNB\n",
        "from sklearn.discriminant_analysis import LinearDiscriminantAnalysis\n",
        "from sklearn.neighbors import KNeighborsClassifier\n",
        "from sklearn.neural_network import MLPClassifier\n",
        "from sklearn.metrics import classification_report\n",
        "from sklearn.metrics import accuracy_score\n",
        "from sklearn.metrics import confusion_matrix\n",
        "from sklearn.experimental import enable_iterative_imputer\n",
        "from sklearn.impute import SimpleImputer\n",
        "import statistics"
      ],
      "execution_count": null,
      "outputs": []
    },
    {
      "cell_type": "code",
      "metadata": {
        "id": "iKeV30GKX3xO"
      },
      "source": [
        "#read and shuffle data\n",
        "df = pd.read_csv(\"/content/Dataset-2 (1).csv\")\n",
        "df = df.sample(frac = 1)"
      ],
      "execution_count": null,
      "outputs": []
    },
    {
      "cell_type": "code",
      "metadata": {
        "colab": {
          "base_uri": "https://localhost:8080/"
        },
        "id": "WGCu09H5X3rR",
        "outputId": "19578f7b-11e1-4dd4-8d93-1fa1752bd401"
      },
      "source": [
        "df.columns"
      ],
      "execution_count": null,
      "outputs": [
        {
          "output_type": "execute_result",
          "data": {
            "text/plain": [
              "Index(['Unnamed: 0', 'Patient_ID', 'Hematocrit', 'Hemoglobin', 'Platelets',\n",
              "       'Mean_platelet_volume_', 'Red_blood_Cells', 'Lymphocytes',\n",
              "       'Mean_corpuscular_hemoglobin_concentration (MCHC)', 'Leukocytes',\n",
              "       'Basophils', 'Mean_corpuscular_hemoglobin_(MCH)', 'Eosinophils',\n",
              "       'Mean_corpuscular_volume_(MCV)', 'Monocytes',\n",
              "       'Red_blood_cell_distribution_width_(RDW)', 'Neutrophils',\n",
              "       'SARS-Cov-2_exam_result'],\n",
              "      dtype='object')"
            ]
          },
          "metadata": {
            "tags": []
          },
          "execution_count": 3
        }
      ]
    },
    {
      "cell_type": "code",
      "metadata": {
        "colab": {
          "base_uri": "https://localhost:8080/",
          "height": 454
        },
        "id": "z8I0pGRHX3kn",
        "outputId": "139ea9dd-8d30-4e9d-eb55-75d5b6918f75"
      },
      "source": [
        "df"
      ],
      "execution_count": null,
      "outputs": [
        {
          "output_type": "execute_result",
          "data": {
            "text/html": [
              "<div>\n",
              "<style scoped>\n",
              "    .dataframe tbody tr th:only-of-type {\n",
              "        vertical-align: middle;\n",
              "    }\n",
              "\n",
              "    .dataframe tbody tr th {\n",
              "        vertical-align: top;\n",
              "    }\n",
              "\n",
              "    .dataframe thead th {\n",
              "        text-align: right;\n",
              "    }\n",
              "</style>\n",
              "<table border=\"1\" class=\"dataframe\">\n",
              "  <thead>\n",
              "    <tr style=\"text-align: right;\">\n",
              "      <th></th>\n",
              "      <th>Unnamed: 0</th>\n",
              "      <th>Patient_ID</th>\n",
              "      <th>Hematocrit</th>\n",
              "      <th>Hemoglobin</th>\n",
              "      <th>Platelets</th>\n",
              "      <th>Mean_platelet_volume_</th>\n",
              "      <th>Red_blood_Cells</th>\n",
              "      <th>Lymphocytes</th>\n",
              "      <th>Mean_corpuscular_hemoglobin_concentration (MCHC)</th>\n",
              "      <th>Leukocytes</th>\n",
              "      <th>Basophils</th>\n",
              "      <th>Mean_corpuscular_hemoglobin_(MCH)</th>\n",
              "      <th>Eosinophils</th>\n",
              "      <th>Mean_corpuscular_volume_(MCV)</th>\n",
              "      <th>Monocytes</th>\n",
              "      <th>Red_blood_cell_distribution_width_(RDW)</th>\n",
              "      <th>Neutrophils</th>\n",
              "      <th>SARS-Cov-2_exam_result</th>\n",
              "    </tr>\n",
              "  </thead>\n",
              "  <tbody>\n",
              "    <tr>\n",
              "      <th>70</th>\n",
              "      <td>70</td>\n",
              "      <td>60e121cc0a97d81</td>\n",
              "      <td>0.694287</td>\n",
              "      <td>0.416252</td>\n",
              "      <td>0.060430</td>\n",
              "      <td>0.796029</td>\n",
              "      <td>0.225417</td>\n",
              "      <td>1.401554</td>\n",
              "      <td>-0.851210</td>\n",
              "      <td>-0.656734</td>\n",
              "      <td>0.998070</td>\n",
              "      <td>0.282719</td>\n",
              "      <td>0.892207</td>\n",
              "      <td>0.747050</td>\n",
              "      <td>0.147441</td>\n",
              "      <td>-0.094334</td>\n",
              "      <td>-1.528714</td>\n",
              "      <td>0</td>\n",
              "    </tr>\n",
              "    <tr>\n",
              "      <th>474</th>\n",
              "      <td>474</td>\n",
              "      <td>1e29f841c72888e</td>\n",
              "      <td>-1.617460</td>\n",
              "      <td>-1.463427</td>\n",
              "      <td>0.550341</td>\n",
              "      <td>-0.438097</td>\n",
              "      <td>-1.625771</td>\n",
              "      <td>-0.568655</td>\n",
              "      <td>0.244149</td>\n",
              "      <td>-0.773612</td>\n",
              "      <td>-0.529226</td>\n",
              "      <td>0.491805</td>\n",
              "      <td>0.934346</td>\n",
              "      <td>0.426576</td>\n",
              "      <td>-0.220244</td>\n",
              "      <td>-0.359703</td>\n",
              "      <td>0.528192</td>\n",
              "      <td>1</td>\n",
              "    </tr>\n",
              "    <tr>\n",
              "      <th>168</th>\n",
              "      <td>168</td>\n",
              "      <td>2a5db9bbb45109f</td>\n",
              "      <td>-0.518807</td>\n",
              "      <td>-0.272964</td>\n",
              "      <td>-0.215930</td>\n",
              "      <td>0.459449</td>\n",
              "      <td>-0.515058</td>\n",
              "      <td>-0.457777</td>\n",
              "      <td>0.941197</td>\n",
              "      <td>-0.573250</td>\n",
              "      <td>-0.223767</td>\n",
              "      <td>0.439533</td>\n",
              "      <td>-0.709090</td>\n",
              "      <td>0.066045</td>\n",
              "      <td>2.537393</td>\n",
              "      <td>-0.801985</td>\n",
              "      <td>-0.127395</td>\n",
              "      <td>1</td>\n",
              "    </tr>\n",
              "    <tr>\n",
              "      <th>567</th>\n",
              "      <td>567</td>\n",
              "      <td>4279fcab11b71ae</td>\n",
              "      <td>1.152058</td>\n",
              "      <td>1.230779</td>\n",
              "      <td>1.002566</td>\n",
              "      <td>-0.550290</td>\n",
              "      <td>1.371390</td>\n",
              "      <td>0.036907</td>\n",
              "      <td>0.542882</td>\n",
              "      <td>0.679006</td>\n",
              "      <td>0.081693</td>\n",
              "      <td>-0.344541</td>\n",
              "      <td>2.072109</td>\n",
              "      <td>-0.675050</td>\n",
              "      <td>0.278757</td>\n",
              "      <td>0.082579</td>\n",
              "      <td>-0.446994</td>\n",
              "      <td>0</td>\n",
              "    </tr>\n",
              "    <tr>\n",
              "      <th>31</th>\n",
              "      <td>31</td>\n",
              "      <td>733a6850e89b1df</td>\n",
              "      <td>0.694287</td>\n",
              "      <td>0.729532</td>\n",
              "      <td>-0.341548</td>\n",
              "      <td>-1.111256</td>\n",
              "      <td>0.401720</td>\n",
              "      <td>0.693644</td>\n",
              "      <td>0.343725</td>\n",
              "      <td>-0.428545</td>\n",
              "      <td>-1.140144</td>\n",
              "      <td>0.491805</td>\n",
              "      <td>0.007280</td>\n",
              "      <td>0.386517</td>\n",
              "      <td>-1.796036</td>\n",
              "      <td>0.171035</td>\n",
              "      <td>NaN</td>\n",
              "      <td>0</td>\n",
              "    </tr>\n",
              "    <tr>\n",
              "      <th>...</th>\n",
              "      <td>...</td>\n",
              "      <td>...</td>\n",
              "      <td>...</td>\n",
              "      <td>...</td>\n",
              "      <td>...</td>\n",
              "      <td>...</td>\n",
              "      <td>...</td>\n",
              "      <td>...</td>\n",
              "      <td>...</td>\n",
              "      <td>...</td>\n",
              "      <td>...</td>\n",
              "      <td>...</td>\n",
              "      <td>...</td>\n",
              "      <td>...</td>\n",
              "      <td>...</td>\n",
              "      <td>...</td>\n",
              "      <td>...</td>\n",
              "      <td>...</td>\n",
              "    </tr>\n",
              "    <tr>\n",
              "      <th>270</th>\n",
              "      <td>270</td>\n",
              "      <td>88307879155ffa9</td>\n",
              "      <td>0.785841</td>\n",
              "      <td>0.416252</td>\n",
              "      <td>-1.158065</td>\n",
              "      <td>2.927700</td>\n",
              "      <td>-0.127191</td>\n",
              "      <td>-1.617727</td>\n",
              "      <td>-1.149948</td>\n",
              "      <td>0.673440</td>\n",
              "      <td>0.081693</td>\n",
              "      <td>0.962249</td>\n",
              "      <td>-0.751229</td>\n",
              "      <td>1.688438</td>\n",
              "      <td>-1.113193</td>\n",
              "      <td>2.470904</td>\n",
              "      <td>2.052433</td>\n",
              "      <td>0</td>\n",
              "    </tr>\n",
              "    <tr>\n",
              "      <th>150</th>\n",
              "      <td>150</td>\n",
              "      <td>944368db7c82019</td>\n",
              "      <td>0.488289</td>\n",
              "      <td>0.353596</td>\n",
              "      <td>-0.391795</td>\n",
              "      <td>1.132609</td>\n",
              "      <td>0.683806</td>\n",
              "      <td>0.497476</td>\n",
              "      <td>-0.353319</td>\n",
              "      <td>-0.411849</td>\n",
              "      <td>-0.223767</td>\n",
              "      <td>-0.658171</td>\n",
              "      <td>-0.624811</td>\n",
              "      <td>-0.534842</td>\n",
              "      <td>-0.640455</td>\n",
              "      <td>-1.155812</td>\n",
              "      <td>-0.070032</td>\n",
              "      <td>0</td>\n",
              "    </tr>\n",
              "    <tr>\n",
              "      <th>107</th>\n",
              "      <td>107</td>\n",
              "      <td>4f7ad03d81abafc</td>\n",
              "      <td>-0.862136</td>\n",
              "      <td>-0.774212</td>\n",
              "      <td>-2.276066</td>\n",
              "      <td>0.347255</td>\n",
              "      <td>-1.061599</td>\n",
              "      <td>0.096611</td>\n",
              "      <td>0.144572</td>\n",
              "      <td>-1.828290</td>\n",
              "      <td>1.914447</td>\n",
              "      <td>0.648619</td>\n",
              "      <td>-0.835508</td>\n",
              "      <td>0.646902</td>\n",
              "      <td>1.092916</td>\n",
              "      <td>1.232513</td>\n",
              "      <td>NaN</td>\n",
              "      <td>0</td>\n",
              "    </tr>\n",
              "    <tr>\n",
              "      <th>455</th>\n",
              "      <td>455</td>\n",
              "      <td>b388e20effbbf0b</td>\n",
              "      <td>0.762952</td>\n",
              "      <td>0.541564</td>\n",
              "      <td>-1.748470</td>\n",
              "      <td>-0.213711</td>\n",
              "      <td>0.278308</td>\n",
              "      <td>0.864224</td>\n",
              "      <td>-0.652057</td>\n",
              "      <td>-0.261578</td>\n",
              "      <td>-1.140144</td>\n",
              "      <td>0.387261</td>\n",
              "      <td>0.007280</td>\n",
              "      <td>0.747050</td>\n",
              "      <td>-1.008140</td>\n",
              "      <td>0.259492</td>\n",
              "      <td>NaN</td>\n",
              "      <td>1</td>\n",
              "    </tr>\n",
              "    <tr>\n",
              "      <th>301</th>\n",
              "      <td>301</td>\n",
              "      <td>8352b7f0cbd223f</td>\n",
              "      <td>-0.335699</td>\n",
              "      <td>-0.460932</td>\n",
              "      <td>1.128184</td>\n",
              "      <td>-0.774677</td>\n",
              "      <td>-0.356385</td>\n",
              "      <td>0.446301</td>\n",
              "      <td>-0.552476</td>\n",
              "      <td>-0.637255</td>\n",
              "      <td>0.081693</td>\n",
              "      <td>-0.187727</td>\n",
              "      <td>0.555092</td>\n",
              "      <td>0.066045</td>\n",
              "      <td>0.383810</td>\n",
              "      <td>0.436405</td>\n",
              "      <td>-0.578112</td>\n",
              "      <td>0</td>\n",
              "    </tr>\n",
              "  </tbody>\n",
              "</table>\n",
              "<p>602 rows × 18 columns</p>\n",
              "</div>"
            ],
            "text/plain": [
              "     Unnamed: 0       Patient_ID  ...  Neutrophils  SARS-Cov-2_exam_result\n",
              "70           70  60e121cc0a97d81  ...    -1.528714                       0\n",
              "474         474  1e29f841c72888e  ...     0.528192                       1\n",
              "168         168  2a5db9bbb45109f  ...    -0.127395                       1\n",
              "567         567  4279fcab11b71ae  ...    -0.446994                       0\n",
              "31           31  733a6850e89b1df  ...          NaN                       0\n",
              "..          ...              ...  ...          ...                     ...\n",
              "270         270  88307879155ffa9  ...     2.052433                       0\n",
              "150         150  944368db7c82019  ...    -0.070032                       0\n",
              "107         107  4f7ad03d81abafc  ...          NaN                       0\n",
              "455         455  b388e20effbbf0b  ...          NaN                       1\n",
              "301         301  8352b7f0cbd223f  ...    -0.578112                       0\n",
              "\n",
              "[602 rows x 18 columns]"
            ]
          },
          "metadata": {
            "tags": []
          },
          "execution_count": 4
        }
      ]
    },
    {
      "cell_type": "code",
      "metadata": {
        "colab": {
          "base_uri": "https://localhost:8080/"
        },
        "id": "unbT3-0WX3Nd",
        "outputId": "059944de-07d0-437c-8563-c9162552e2de"
      },
      "source": [
        "df['SARS-Cov-2_exam_result'].value_counts()"
      ],
      "execution_count": null,
      "outputs": [
        {
          "output_type": "execute_result",
          "data": {
            "text/plain": [
              "0    519\n",
              "1     83\n",
              "Name: SARS-Cov-2_exam_result, dtype: int64"
            ]
          },
          "metadata": {
            "tags": []
          },
          "execution_count": 5
        }
      ]
    },
    {
      "cell_type": "code",
      "metadata": {
        "colab": {
          "base_uri": "https://localhost:8080/"
        },
        "id": "S9u3PM5MZ7xS",
        "outputId": "38de1ad1-4e31-485d-8512-73312a1dc92e"
      },
      "source": [
        "df.shape"
      ],
      "execution_count": null,
      "outputs": [
        {
          "output_type": "execute_result",
          "data": {
            "text/plain": [
              "(602, 18)"
            ]
          },
          "metadata": {
            "tags": []
          },
          "execution_count": 6
        }
      ]
    },
    {
      "cell_type": "code",
      "metadata": {
        "id": "BZSVanAwY3Nv"
      },
      "source": [
        "#dropping id column as it is not a valid attribute to train model\n",
        "df = df.drop(['Unnamed: 0'], axis = 1)\n",
        "df = df.drop(['Patient_ID'], axis = 1)"
      ],
      "execution_count": null,
      "outputs": []
    },
    {
      "cell_type": "code",
      "metadata": {
        "colab": {
          "base_uri": "https://localhost:8080/",
          "height": 454
        },
        "id": "iy-w2Eg8a5FY",
        "outputId": "194e7004-fba9-4f00-b0fb-0ca68bd3a2e0"
      },
      "source": [
        "df"
      ],
      "execution_count": null,
      "outputs": [
        {
          "output_type": "execute_result",
          "data": {
            "text/html": [
              "<div>\n",
              "<style scoped>\n",
              "    .dataframe tbody tr th:only-of-type {\n",
              "        vertical-align: middle;\n",
              "    }\n",
              "\n",
              "    .dataframe tbody tr th {\n",
              "        vertical-align: top;\n",
              "    }\n",
              "\n",
              "    .dataframe thead th {\n",
              "        text-align: right;\n",
              "    }\n",
              "</style>\n",
              "<table border=\"1\" class=\"dataframe\">\n",
              "  <thead>\n",
              "    <tr style=\"text-align: right;\">\n",
              "      <th></th>\n",
              "      <th>Hematocrit</th>\n",
              "      <th>Hemoglobin</th>\n",
              "      <th>Platelets</th>\n",
              "      <th>Mean_platelet_volume_</th>\n",
              "      <th>Red_blood_Cells</th>\n",
              "      <th>Lymphocytes</th>\n",
              "      <th>Mean_corpuscular_hemoglobin_concentration (MCHC)</th>\n",
              "      <th>Leukocytes</th>\n",
              "      <th>Basophils</th>\n",
              "      <th>Mean_corpuscular_hemoglobin_(MCH)</th>\n",
              "      <th>Eosinophils</th>\n",
              "      <th>Mean_corpuscular_volume_(MCV)</th>\n",
              "      <th>Monocytes</th>\n",
              "      <th>Red_blood_cell_distribution_width_(RDW)</th>\n",
              "      <th>Neutrophils</th>\n",
              "      <th>SARS-Cov-2_exam_result</th>\n",
              "    </tr>\n",
              "  </thead>\n",
              "  <tbody>\n",
              "    <tr>\n",
              "      <th>70</th>\n",
              "      <td>0.694287</td>\n",
              "      <td>0.416252</td>\n",
              "      <td>0.060430</td>\n",
              "      <td>0.796029</td>\n",
              "      <td>0.225417</td>\n",
              "      <td>1.401554</td>\n",
              "      <td>-0.851210</td>\n",
              "      <td>-0.656734</td>\n",
              "      <td>0.998070</td>\n",
              "      <td>0.282719</td>\n",
              "      <td>0.892207</td>\n",
              "      <td>0.747050</td>\n",
              "      <td>0.147441</td>\n",
              "      <td>-0.094334</td>\n",
              "      <td>-1.528714</td>\n",
              "      <td>0</td>\n",
              "    </tr>\n",
              "    <tr>\n",
              "      <th>474</th>\n",
              "      <td>-1.617460</td>\n",
              "      <td>-1.463427</td>\n",
              "      <td>0.550341</td>\n",
              "      <td>-0.438097</td>\n",
              "      <td>-1.625771</td>\n",
              "      <td>-0.568655</td>\n",
              "      <td>0.244149</td>\n",
              "      <td>-0.773612</td>\n",
              "      <td>-0.529226</td>\n",
              "      <td>0.491805</td>\n",
              "      <td>0.934346</td>\n",
              "      <td>0.426576</td>\n",
              "      <td>-0.220244</td>\n",
              "      <td>-0.359703</td>\n",
              "      <td>0.528192</td>\n",
              "      <td>1</td>\n",
              "    </tr>\n",
              "    <tr>\n",
              "      <th>168</th>\n",
              "      <td>-0.518807</td>\n",
              "      <td>-0.272964</td>\n",
              "      <td>-0.215930</td>\n",
              "      <td>0.459449</td>\n",
              "      <td>-0.515058</td>\n",
              "      <td>-0.457777</td>\n",
              "      <td>0.941197</td>\n",
              "      <td>-0.573250</td>\n",
              "      <td>-0.223767</td>\n",
              "      <td>0.439533</td>\n",
              "      <td>-0.709090</td>\n",
              "      <td>0.066045</td>\n",
              "      <td>2.537393</td>\n",
              "      <td>-0.801985</td>\n",
              "      <td>-0.127395</td>\n",
              "      <td>1</td>\n",
              "    </tr>\n",
              "    <tr>\n",
              "      <th>567</th>\n",
              "      <td>1.152058</td>\n",
              "      <td>1.230779</td>\n",
              "      <td>1.002566</td>\n",
              "      <td>-0.550290</td>\n",
              "      <td>1.371390</td>\n",
              "      <td>0.036907</td>\n",
              "      <td>0.542882</td>\n",
              "      <td>0.679006</td>\n",
              "      <td>0.081693</td>\n",
              "      <td>-0.344541</td>\n",
              "      <td>2.072109</td>\n",
              "      <td>-0.675050</td>\n",
              "      <td>0.278757</td>\n",
              "      <td>0.082579</td>\n",
              "      <td>-0.446994</td>\n",
              "      <td>0</td>\n",
              "    </tr>\n",
              "    <tr>\n",
              "      <th>31</th>\n",
              "      <td>0.694287</td>\n",
              "      <td>0.729532</td>\n",
              "      <td>-0.341548</td>\n",
              "      <td>-1.111256</td>\n",
              "      <td>0.401720</td>\n",
              "      <td>0.693644</td>\n",
              "      <td>0.343725</td>\n",
              "      <td>-0.428545</td>\n",
              "      <td>-1.140144</td>\n",
              "      <td>0.491805</td>\n",
              "      <td>0.007280</td>\n",
              "      <td>0.386517</td>\n",
              "      <td>-1.796036</td>\n",
              "      <td>0.171035</td>\n",
              "      <td>NaN</td>\n",
              "      <td>0</td>\n",
              "    </tr>\n",
              "    <tr>\n",
              "      <th>...</th>\n",
              "      <td>...</td>\n",
              "      <td>...</td>\n",
              "      <td>...</td>\n",
              "      <td>...</td>\n",
              "      <td>...</td>\n",
              "      <td>...</td>\n",
              "      <td>...</td>\n",
              "      <td>...</td>\n",
              "      <td>...</td>\n",
              "      <td>...</td>\n",
              "      <td>...</td>\n",
              "      <td>...</td>\n",
              "      <td>...</td>\n",
              "      <td>...</td>\n",
              "      <td>...</td>\n",
              "      <td>...</td>\n",
              "    </tr>\n",
              "    <tr>\n",
              "      <th>270</th>\n",
              "      <td>0.785841</td>\n",
              "      <td>0.416252</td>\n",
              "      <td>-1.158065</td>\n",
              "      <td>2.927700</td>\n",
              "      <td>-0.127191</td>\n",
              "      <td>-1.617727</td>\n",
              "      <td>-1.149948</td>\n",
              "      <td>0.673440</td>\n",
              "      <td>0.081693</td>\n",
              "      <td>0.962249</td>\n",
              "      <td>-0.751229</td>\n",
              "      <td>1.688438</td>\n",
              "      <td>-1.113193</td>\n",
              "      <td>2.470904</td>\n",
              "      <td>2.052433</td>\n",
              "      <td>0</td>\n",
              "    </tr>\n",
              "    <tr>\n",
              "      <th>150</th>\n",
              "      <td>0.488289</td>\n",
              "      <td>0.353596</td>\n",
              "      <td>-0.391795</td>\n",
              "      <td>1.132609</td>\n",
              "      <td>0.683806</td>\n",
              "      <td>0.497476</td>\n",
              "      <td>-0.353319</td>\n",
              "      <td>-0.411849</td>\n",
              "      <td>-0.223767</td>\n",
              "      <td>-0.658171</td>\n",
              "      <td>-0.624811</td>\n",
              "      <td>-0.534842</td>\n",
              "      <td>-0.640455</td>\n",
              "      <td>-1.155812</td>\n",
              "      <td>-0.070032</td>\n",
              "      <td>0</td>\n",
              "    </tr>\n",
              "    <tr>\n",
              "      <th>107</th>\n",
              "      <td>-0.862136</td>\n",
              "      <td>-0.774212</td>\n",
              "      <td>-2.276066</td>\n",
              "      <td>0.347255</td>\n",
              "      <td>-1.061599</td>\n",
              "      <td>0.096611</td>\n",
              "      <td>0.144572</td>\n",
              "      <td>-1.828290</td>\n",
              "      <td>1.914447</td>\n",
              "      <td>0.648619</td>\n",
              "      <td>-0.835508</td>\n",
              "      <td>0.646902</td>\n",
              "      <td>1.092916</td>\n",
              "      <td>1.232513</td>\n",
              "      <td>NaN</td>\n",
              "      <td>0</td>\n",
              "    </tr>\n",
              "    <tr>\n",
              "      <th>455</th>\n",
              "      <td>0.762952</td>\n",
              "      <td>0.541564</td>\n",
              "      <td>-1.748470</td>\n",
              "      <td>-0.213711</td>\n",
              "      <td>0.278308</td>\n",
              "      <td>0.864224</td>\n",
              "      <td>-0.652057</td>\n",
              "      <td>-0.261578</td>\n",
              "      <td>-1.140144</td>\n",
              "      <td>0.387261</td>\n",
              "      <td>0.007280</td>\n",
              "      <td>0.747050</td>\n",
              "      <td>-1.008140</td>\n",
              "      <td>0.259492</td>\n",
              "      <td>NaN</td>\n",
              "      <td>1</td>\n",
              "    </tr>\n",
              "    <tr>\n",
              "      <th>301</th>\n",
              "      <td>-0.335699</td>\n",
              "      <td>-0.460932</td>\n",
              "      <td>1.128184</td>\n",
              "      <td>-0.774677</td>\n",
              "      <td>-0.356385</td>\n",
              "      <td>0.446301</td>\n",
              "      <td>-0.552476</td>\n",
              "      <td>-0.637255</td>\n",
              "      <td>0.081693</td>\n",
              "      <td>-0.187727</td>\n",
              "      <td>0.555092</td>\n",
              "      <td>0.066045</td>\n",
              "      <td>0.383810</td>\n",
              "      <td>0.436405</td>\n",
              "      <td>-0.578112</td>\n",
              "      <td>0</td>\n",
              "    </tr>\n",
              "  </tbody>\n",
              "</table>\n",
              "<p>602 rows × 16 columns</p>\n",
              "</div>"
            ],
            "text/plain": [
              "     Hematocrit  Hemoglobin  ...  Neutrophils  SARS-Cov-2_exam_result\n",
              "70     0.694287    0.416252  ...    -1.528714                       0\n",
              "474   -1.617460   -1.463427  ...     0.528192                       1\n",
              "168   -0.518807   -0.272964  ...    -0.127395                       1\n",
              "567    1.152058    1.230779  ...    -0.446994                       0\n",
              "31     0.694287    0.729532  ...          NaN                       0\n",
              "..          ...         ...  ...          ...                     ...\n",
              "270    0.785841    0.416252  ...     2.052433                       0\n",
              "150    0.488289    0.353596  ...    -0.070032                       0\n",
              "107   -0.862136   -0.774212  ...          NaN                       0\n",
              "455    0.762952    0.541564  ...          NaN                       1\n",
              "301   -0.335699   -0.460932  ...    -0.578112                       0\n",
              "\n",
              "[602 rows x 16 columns]"
            ]
          },
          "metadata": {
            "tags": []
          },
          "execution_count": 8
        }
      ]
    },
    {
      "cell_type": "code",
      "metadata": {
        "colab": {
          "base_uri": "https://localhost:8080/"
        },
        "id": "G8B_AeN9nZC_",
        "outputId": "1de37c22-ed5d-4982-f498-261f20533dd8"
      },
      "source": [
        "df.isnull().any()"
      ],
      "execution_count": null,
      "outputs": [
        {
          "output_type": "execute_result",
          "data": {
            "text/plain": [
              "Hematocrit                                          False\n",
              "Hemoglobin                                          False\n",
              "Platelets                                           False\n",
              "Mean_platelet_volume_                                True\n",
              "Red_blood_Cells                                     False\n",
              "Lymphocytes                                         False\n",
              "Mean_corpuscular_hemoglobin_concentration (MCHC)    False\n",
              "Leukocytes                                          False\n",
              "Basophils                                           False\n",
              "Mean_corpuscular_hemoglobin_(MCH)                   False\n",
              "Eosinophils                                         False\n",
              "Mean_corpuscular_volume_(MCV)                       False\n",
              "Monocytes                                            True\n",
              "Red_blood_cell_distribution_width_(RDW)             False\n",
              "Neutrophils                                          True\n",
              "SARS-Cov-2_exam_result                              False\n",
              "dtype: bool"
            ]
          },
          "metadata": {
            "tags": []
          },
          "execution_count": 9
        }
      ]
    },
    {
      "cell_type": "code",
      "metadata": {
        "id": "vAOo1CzUnk3T"
      },
      "source": [
        "#df = df.fillna(lambda x: x.median())"
      ],
      "execution_count": null,
      "outputs": []
    },
    {
      "cell_type": "code",
      "metadata": {
        "colab": {
          "base_uri": "https://localhost:8080/"
        },
        "id": "mSHf4nTTdoGU",
        "outputId": "497d805b-823a-4bd2-a089-b752347c1472"
      },
      "source": [
        "data = df.to_numpy()\n",
        "\n",
        "data.shape"
      ],
      "execution_count": null,
      "outputs": [
        {
          "output_type": "execute_result",
          "data": {
            "text/plain": [
              "(602, 16)"
            ]
          },
          "metadata": {
            "tags": []
          },
          "execution_count": 11
        }
      ]
    },
    {
      "cell_type": "code",
      "metadata": {
        "colab": {
          "base_uri": "https://localhost:8080/"
        },
        "id": "ff7IPLZYtJP4",
        "outputId": "9fa2df3d-fa7f-4ebc-f497-e12e00107c2d"
      },
      "source": [
        "imp = SimpleImputer(missing_values=np.nan, strategy='median')\n",
        "imp.fit(data)\n",
        "#X_2 = X\n",
        "SimpleImputer()\n",
        "data = imp.transform(data)\n",
        "\n",
        "data"
      ],
      "execution_count": null,
      "outputs": [
        {
          "output_type": "execute_result",
          "data": {
            "text/plain": [
              "array([[ 0.69428688,  0.41625211,  0.06043023, ..., -0.09433432,\n",
              "        -1.52871394,  0.        ],\n",
              "       [-1.61745954, -1.46342742,  0.55034077, ..., -0.35970309,\n",
              "         0.52819222,  1.        ],\n",
              "       [-0.51880735, -0.27296397, -0.21592958, ..., -0.80198544,\n",
              "        -0.12739536,  1.        ],\n",
              "       ...,\n",
              "       [-0.86213595, -0.774212  , -2.2760663 , ...,  1.23251295,\n",
              "        -0.05364196,  0.        ],\n",
              "       [ 0.76295245,  0.54156393, -1.74847019, ...,  0.2594921 ,\n",
              "        -0.05364196,  1.        ],\n",
              "       [-0.3356989 , -0.46093205,  1.12818408, ...,  0.43640488,\n",
              "        -0.57811183,  0.        ]])"
            ]
          },
          "metadata": {
            "tags": []
          },
          "execution_count": 12
        }
      ]
    },
    {
      "cell_type": "code",
      "metadata": {
        "id": "KyiXP49_kKZY"
      },
      "source": [
        "#splitting into 7 folds\n",
        "data_g = np.array_split(data, 7)"
      ],
      "execution_count": null,
      "outputs": []
    },
    {
      "cell_type": "markdown",
      "metadata": {
        "id": "RmvcBylZCgap"
      },
      "source": [
        "## **LOGISTIC REGRESSION**"
      ]
    },
    {
      "cell_type": "code",
      "metadata": {
        "id": "TelOon4rY3LV",
        "colab": {
          "base_uri": "https://localhost:8080/",
          "height": 729
        },
        "outputId": "61dcd2b6-5236-410b-d835-a08aa8a57eee"
      },
      "source": [
        "accuracy_log_test = []\n",
        "accuracy_log_train = []\n",
        "classif_log_test=[]\n",
        "classif_log_train=[]\n",
        "\n",
        "for i in range(7):\n",
        "  if i == 6:\n",
        "    test_data = data_g[i]\n",
        "    test_data_x = []\n",
        "    test_data_y = []\n",
        "    train_data_x = []\n",
        "    train_data_y = []\n",
        "    for j in range(7):\n",
        "        if j!=i:      #creating training dataset\n",
        "            for w in range(len(data_g[j])):\n",
        "                train_data_x.append(data_g[j][w][:15])\n",
        "                train_data_y.append(data_g[j][w][15])\n",
        "        elif j == i:      #creating testing dataset\n",
        "            for w in range(len(data_g[j])):\n",
        "                test_data_x.append(data_g[j][w][:15])\n",
        "                test_data_y.append(data_g[j][w][15])\n",
        "                \n",
        "    #convert into array\n",
        "    test_data_xn = np.array(test_data_x)\n",
        "    train_data_xn = np.array(train_data_x)\n",
        "    test_data_yn = np.array(test_data_y)\n",
        "    train_data_yn = np.array(train_data_y)\n",
        "    \n",
        "    #importing model from sklearn \n",
        "    clf = LogisticRegression(random_state = 0)\n",
        "    clf.fit(train_data_xn, train_data_yn)\n",
        "    \n",
        "    #predict class\n",
        "    test_pred_y_log = clf.predict(test_data_xn)\n",
        "    train_pred_y_log = clf.predict(train_data_xn)\n",
        "    \n",
        "    pred_prob1 = clf.predict_proba(test_data_xn)\n",
        "\n",
        "    from sklearn.metrics import roc_curve\n",
        "\n",
        "    # roc curve for models\n",
        "    fpr1, tpr1, thresh1 = roc_curve(test_data_yn, pred_prob1[:,1], pos_label=1)\n",
        "\n",
        "    # roc curve for tpr = fpr \n",
        "    random_probs = [0 for i in range(len(test_data_yn))]\n",
        "    p_fpr, p_tpr, _ = roc_curve(test_data_yn, random_probs, pos_label=1)\n",
        "    \n",
        "    from sklearn.metrics import roc_auc_score\n",
        "    auc_score1 = roc_auc_score(test_data_yn, pred_prob1[:,1])\n",
        "    print(auc_score1)\n",
        "\n",
        "    # matplotlib\n",
        "    import matplotlib.pyplot as plt\n",
        "    plt.style.use('seaborn')\n",
        "\n",
        "    # plot roc curves\n",
        "    plt.plot(fpr1, tpr1, linestyle='--',color='orange', label='Logistic Regression')\n",
        "    plt.plot(p_fpr, p_tpr, linestyle='--', color='blue')\n",
        "    # title\n",
        "    plt.title('ROC curve')\n",
        "    # x label\n",
        "    plt.xlabel('False Positive Rate')\n",
        "    # y label\n",
        "    plt.ylabel('True Positive rate')\n",
        "\n",
        "    plt.legend(loc='best')\n",
        "    #calculating and appending accuracies\n",
        "    acc1_log = accuracy_score(test_data_yn, test_pred_y_log)\n",
        "    accuracy_log_test.append(acc1_log)\n",
        "    print(\"----------------------TESTING-----------------------\")\n",
        "    target_names = ['Covid Negative', 'Covid Positive']\n",
        "    print(classification_report(test_data_yn, test_pred_y_log, target_names=target_names))\n",
        "    print(\"------------------TRAINING-----------------\")\n",
        "    acc2_log = accuracy_score(train_data_yn, train_pred_y_log)\n",
        "    accuracy_log_train.append(acc2_log)\n",
        "    target_names = ['Covid Negative', 'Covid Positive']\n",
        "    print(classification_report(train_data_yn, train_pred_y_log, target_names=target_names))\n"
      ],
      "execution_count": null,
      "outputs": [
        {
          "output_type": "stream",
          "text": [
            "0.8848484848484849\n",
            "----------------------TESTING-----------------------\n",
            "                precision    recall  f1-score   support\n",
            "\n",
            "Covid Negative       0.91      0.97      0.94        75\n",
            "Covid Positive       0.67      0.36      0.47        11\n",
            "\n",
            "      accuracy                           0.90        86\n",
            "     macro avg       0.79      0.67      0.71        86\n",
            "  weighted avg       0.88      0.90      0.88        86\n",
            "\n",
            "------------------TRAINING-----------------\n",
            "                precision    recall  f1-score   support\n",
            "\n",
            "Covid Negative       0.89      0.97      0.93       444\n",
            "Covid Positive       0.61      0.26      0.37        72\n",
            "\n",
            "      accuracy                           0.87       516\n",
            "     macro avg       0.75      0.62      0.65       516\n",
            "  weighted avg       0.85      0.87      0.85       516\n",
            "\n"
          ],
          "name": "stdout"
        },
        {
          "output_type": "display_data",
          "data": {
            "image/png": "[encoded data removed]",
            "text/plain": [
              "<Figure size 576x396 with 1 Axes>"
            ]
          },
          "metadata": {
            "tags": []
          }
        }
      ]
    },
    {
      "cell_type": "code",
      "metadata": {
        "colab": {
          "base_uri": "https://localhost:8080/"
        },
        "id": "sRdXWPlXUMmc",
        "outputId": "4c54b3af-d13f-4b84-94e1-48522eb85fed"
      },
      "source": [
        "#Creating the Confusion matrix\n",
        "cm= confusion_matrix(test_data_yn, test_pred_y_log)\n",
        "cm"
      ],
      "execution_count": null,
      "outputs": [
        {
          "output_type": "execute_result",
          "data": {
            "text/plain": [
              "array([[73,  2],\n",
              "       [ 7,  4]])"
            ]
          },
          "metadata": {
            "tags": []
          },
          "execution_count": 15
        }
      ]
    },
    {
      "cell_type": "code",
      "metadata": {
        "colab": {
          "base_uri": "https://localhost:8080/"
        },
        "id": "PwlXhGU5Y2-Q",
        "outputId": "686fcdc3-a6d0-4f8d-927f-ba01d5b6bc22"
      },
      "source": [
        "#printing accuracies \n",
        "\n",
        "print(\"Mean accuracy for test set = \", statistics.mean(accuracy_log_test))\n",
        "print(\"Mean accuracy for train set = \", statistics.mean(accuracy_log_train))\n"
      ],
      "execution_count": null,
      "outputs": [
        {
          "output_type": "stream",
          "text": [
            "Mean accuracy for test set =  0.8953488372093024\n",
            "Mean accuracy for train set =  0.874031007751938\n"
          ],
          "name": "stdout"
        }
      ]
    },
    {
      "cell_type": "markdown",
      "metadata": {
        "id": "ipOJwwE-CsFE"
      },
      "source": [
        "# **NAIVE BAYES**"
      ]
    },
    {
      "cell_type": "code",
      "metadata": {
        "id": "qf946sGdDAmT",
        "colab": {
          "base_uri": "https://localhost:8080/",
          "height": 561
        },
        "outputId": "198a6e64-359c-4640-8934-32bd1ce90eb4"
      },
      "source": [
        "accuracy_nb_test = []\n",
        "accuracy_nb_train = []\n",
        "\n",
        "for i in range(7):\n",
        "  if i == 6:\n",
        "    test_data = data_g[i]\n",
        "    test_data_x = []\n",
        "    test_data_y = []\n",
        "    train_data_x = []\n",
        "    train_data_y = []\n",
        "    for j in range(7):\n",
        "        if j!=i:      #creating training dataset\n",
        "            for w in range(len(data_g[j])):\n",
        "                train_data_x.append(data_g[j][w][:15])\n",
        "                train_data_y.append(data_g[j][w][15])\n",
        "        elif j == i:      #creating testing dataset\n",
        "            for w in range(len(data_g[j])):\n",
        "                test_data_x.append(data_g[j][w][:15])\n",
        "                test_data_y.append(data_g[j][w][15])\n",
        "       \n",
        "    #convert into array         \n",
        "    test_data_xn = np.array(test_data_x)\n",
        "    train_data_xn = np.array(train_data_x)\n",
        "    test_data_yn = np.array(test_data_y)\n",
        "    train_data_yn = np.array(train_data_y)\n",
        "    \n",
        "    #importing model from sklearn\n",
        "    clf = GaussianNB()\n",
        "    clf.fit(train_data_xn, train_data_yn)\n",
        "\n",
        "    \n",
        "    #predict class\n",
        "    test_pred_y_log = clf.predict(test_data_xn)\n",
        "    train_pred_y_log = clf.predict(train_data_xn)\n",
        "    \n",
        "    pred_prob1 = clf.predict_proba(test_data_xn)\n",
        "\n",
        "    from sklearn.metrics import roc_curve\n",
        "\n",
        "    # roc curve for models\n",
        "    fpr2, tpr2, thresh2 = roc_curve(test_data_yn, pred_prob1[:,1], pos_label=1)\n",
        "\n",
        "    # roc curve for tpr = fpr \n",
        "    random_probs = [0 for i in range(len(test_data_yn))]\n",
        "    p_fpr, p_tpr, _ = roc_curve(test_data_yn, random_probs, pos_label=1)\n",
        "    \n",
        "    from sklearn.metrics import roc_auc_score\n",
        "    auc_score1 = roc_auc_score(test_data_yn, pred_prob1[:,1])\n",
        "    print(auc_score1)\n",
        "\n",
        "    # matplotlib\n",
        "    import matplotlib.pyplot as plt\n",
        "    plt.style.use('seaborn')\n",
        "\n",
        "    # plot roc curves\n",
        "    plt.plot(fpr2, tpr2, linestyle='--',color='red', label='Naive Bayes')\n",
        "    plt.plot(p_fpr, p_tpr, linestyle='--', color='blue')\n",
        "    # title\n",
        "    plt.title('ROC curve')\n",
        "    # x label\n",
        "    plt.xlabel('False Positive Rate')\n",
        "    # y label\n",
        "    plt.ylabel('True Positive rate')\n",
        "\n",
        "    plt.legend(loc='best')\n",
        "    plt.savefig('ROC',dpi=300)\n",
        "    #predict class\n",
        "    test_pred_y_nb = clf.predict(test_data_xn)\n",
        "    train_pred_y_nb = clf.predict(train_data_xn)\n",
        "\n",
        "    #calculating and appending accuracies\n",
        "    acc1_nb = accuracy_score(test_data_yn, test_pred_y_nb)\n",
        "    accuracy_nb_test.append(acc1_nb)\n",
        "    \n",
        "    acc2_nb = accuracy_score(train_data_yn, train_pred_y_nb)\n",
        "    accuracy_nb_train.append(acc2_nb)\n",
        "    print(\"----------------------TESTING-----------------------\")\n",
        "    target_names = ['Covid Negative', 'Covid Positive']\n",
        "    print(classification_report(test_data_yn, test_pred_y_log, target_names=target_names))"
      ],
      "execution_count": null,
      "outputs": [
        {
          "output_type": "stream",
          "text": [
            "0.8169696969696969\n",
            "----------------------TESTING-----------------------\n",
            "                precision    recall  f1-score   support\n",
            "\n",
            "Covid Negative       0.93      0.92      0.93        75\n",
            "Covid Positive       0.50      0.55      0.52        11\n",
            "\n",
            "      accuracy                           0.87        86\n",
            "     macro avg       0.72      0.73      0.72        86\n",
            "  weighted avg       0.88      0.87      0.87        86\n",
            "\n"
          ],
          "name": "stdout"
        },
        {
          "output_type": "display_data",
          "data": {
            "image/png": "[encoded data removed]",
            "text/plain": [
              "<Figure size 576x396 with 1 Axes>"
            ]
          },
          "metadata": {
            "tags": []
          }
        }
      ]
    },
    {
      "cell_type": "code",
      "metadata": {
        "colab": {
          "base_uri": "https://localhost:8080/"
        },
        "id": "L-7tdQEXDAkS",
        "outputId": "8ac62a5e-e1e1-4202-da74-de67cd83cf05"
      },
      "source": [
        "#printing accuracies \n",
        "\n",
        "print(\"Mean accuracy for test set = \", statistics.mean(accuracy_nb_test))\n",
        "print(\"Mean accuracy for train set = \", statistics.mean(accuracy_nb_train))"
      ],
      "execution_count": null,
      "outputs": [
        {
          "output_type": "stream",
          "text": [
            "Mean accuracy for test set =  0.872093023255814\n",
            "Mean accuracy for train set =  0.8333333333333334\n"
          ],
          "name": "stdout"
        }
      ]
    },
    {
      "cell_type": "markdown",
      "metadata": {
        "id": "UJ7eu-ImlZp6"
      },
      "source": [
        "# ***Fisher Linear Discriminant***"
      ]
    },
    {
      "cell_type": "code",
      "metadata": {
        "id": "N70kkU0KDAhz",
        "colab": {
          "base_uri": "https://localhost:8080/",
          "height": 561
        },
        "outputId": "edb0be2d-4075-4442-8eac-51d3ed455b82"
      },
      "source": [
        "accuracy_fl_test = []\n",
        "accuracy_fl_train = []\n",
        "\n",
        "for i in range(7):\n",
        "  if i == 6:\n",
        "    test_data = data_g[i]\n",
        "    test_data_x = []\n",
        "    test_data_y = []\n",
        "    train_data_x = []\n",
        "    train_data_y = []\n",
        "    for j in range(7):\n",
        "        if j!=i:      #creating training dataset\n",
        "            for w in range(len(data_g[j])):\n",
        "                train_data_x.append(data_g[j][w][:15])\n",
        "                train_data_y.append(data_g[j][w][15])\n",
        "        elif j == i:      #creating testing dataset\n",
        "            for w in range(len(data_g[j])):\n",
        "                test_data_x.append(data_g[j][w][:15])\n",
        "                test_data_y.append(data_g[j][w][15])\n",
        "                \n",
        "    #convert into array\n",
        "    test_data_xn = np.array(test_data_x)\n",
        "    train_data_xn = np.array(train_data_x)\n",
        "    test_data_yn = np.array(test_data_y)\n",
        "    train_data_yn = np.array(train_data_y)\n",
        "    \n",
        "    #importing model from sklearn\n",
        "    clf = LinearDiscriminantAnalysis()\n",
        "    clf.fit(train_data_xn, train_data_yn)\n",
        "    \n",
        "    #predict class\n",
        "    test_pred_y_log = clf.predict(test_data_xn)\n",
        "    train_pred_y_log = clf.predict(train_data_xn)\n",
        "    \n",
        "    pred_prob1 = clf.predict_proba(test_data_xn)\n",
        "\n",
        "    from sklearn.metrics import roc_curve\n",
        "\n",
        "    # roc curve for models\n",
        "    fpr3, tpr3, thresh3 = roc_curve(test_data_yn, pred_prob1[:,1], pos_label=1)\n",
        "\n",
        "    # roc curve for tpr = fpr \n",
        "    random_probs = [0 for i in range(len(test_data_yn))]\n",
        "    p_fpr, p_tpr, _ = roc_curve(test_data_yn, random_probs, pos_label=1)\n",
        "    \n",
        "    from sklearn.metrics import roc_auc_score\n",
        "    auc_score1 = roc_auc_score(test_data_yn, pred_prob1[:,1])\n",
        "    print(auc_score1)\n",
        "\n",
        "    # matplotlib\n",
        "    import matplotlib.pyplot as plt\n",
        "    plt.style.use('seaborn')\n",
        "\n",
        "    # plot roc curves\n",
        "    plt.plot(fpr3, tpr3, linestyle='--',color='yellow', label='Fisher Linear Discriminant')\n",
        "    plt.plot(p_fpr, p_tpr, linestyle='--', color='blue')\n",
        "    # title\n",
        "    plt.title('ROC curve')\n",
        "    # x label\n",
        "    plt.xlabel('False Positive Rate')\n",
        "    # y label\n",
        "    plt.ylabel('True Positive rate')\n",
        "\n",
        "    plt.legend(loc='best')\n",
        "    plt.savefig('ROC',dpi=300)\n",
        "    #predict class\n",
        "    test_pred_y_fl = clf.predict(test_data_xn)\n",
        "    train_pred_y_fl = clf.predict(train_data_xn)\n",
        "    \n",
        "    #calculating and appending accuracies\n",
        "    acc1_fl = accuracy_score(test_data_yn, test_pred_y_fl)\n",
        "    accuracy_fl_test.append(acc1_fl)\n",
        "    \n",
        "    acc2_fl = accuracy_score(train_data_yn, train_pred_y_fl)\n",
        "    accuracy_fl_train.append(acc2_fl)\n",
        "    print(\"----------------------TESTING-----------------------\")\n",
        "    target_names = ['Covid Negative', 'Covid Positive']\n",
        "    print(classification_report(test_data_yn, test_pred_y_log, target_names=target_names))"
      ],
      "execution_count": null,
      "outputs": [
        {
          "output_type": "stream",
          "text": [
            "0.8921212121212121\n",
            "----------------------TESTING-----------------------\n",
            "                precision    recall  f1-score   support\n",
            "\n",
            "Covid Negative       0.90      0.99      0.94        75\n",
            "Covid Positive       0.75      0.27      0.40        11\n",
            "\n",
            "      accuracy                           0.90        86\n",
            "     macro avg       0.83      0.63      0.67        86\n",
            "  weighted avg       0.88      0.90      0.87        86\n",
            "\n"
          ],
          "name": "stdout"
        },
        {
          "output_type": "display_data",
          "data": {
            "image/png": "[encoded data removed]",
            "text/plain": [
              "<Figure size 576x396 with 1 Axes>"
            ]
          },
          "metadata": {
            "tags": []
          }
        }
      ]
    },
    {
      "cell_type": "code",
      "metadata": {
        "colab": {
          "base_uri": "https://localhost:8080/"
        },
        "id": "xnEqKjc_DAfQ",
        "outputId": "7621de93-da51-4405-8b1b-5a2dea083d7d"
      },
      "source": [
        "#printing accuracies \n",
        "\n",
        "print(\"Mean accuracy for test set = \", statistics.mean(accuracy_fl_test))\n",
        "print(\"Mean accuracy for train set = \", statistics.mean(accuracy_fl_train))"
      ],
      "execution_count": null,
      "outputs": [
        {
          "output_type": "stream",
          "text": [
            "Mean accuracy for test set =  0.8953488372093024\n",
            "Mean accuracy for train set =  0.8604651162790697\n"
          ],
          "name": "stdout"
        }
      ]
    },
    {
      "cell_type": "markdown",
      "metadata": {
        "id": "moTpvsGK66Dp"
      },
      "source": [
        "# **KNN**"
      ]
    },
    {
      "cell_type": "code",
      "metadata": {
        "colab": {
          "base_uri": "https://localhost:8080/",
          "height": 454
        },
        "id": "HCYml6vADEf1",
        "outputId": "e27d9e96-6a25-42f8-92a2-18779b9eeb44"
      },
      "source": [
        "df"
      ],
      "execution_count": null,
      "outputs": [
        {
          "output_type": "execute_result",
          "data": {
            "text/html": [
              "<div>\n",
              "<style scoped>\n",
              "    .dataframe tbody tr th:only-of-type {\n",
              "        vertical-align: middle;\n",
              "    }\n",
              "\n",
              "    .dataframe tbody tr th {\n",
              "        vertical-align: top;\n",
              "    }\n",
              "\n",
              "    .dataframe thead th {\n",
              "        text-align: right;\n",
              "    }\n",
              "</style>\n",
              "<table border=\"1\" class=\"dataframe\">\n",
              "  <thead>\n",
              "    <tr style=\"text-align: right;\">\n",
              "      <th></th>\n",
              "      <th>Hematocrit</th>\n",
              "      <th>Hemoglobin</th>\n",
              "      <th>Platelets</th>\n",
              "      <th>Mean_platelet_volume_</th>\n",
              "      <th>Red_blood_Cells</th>\n",
              "      <th>Lymphocytes</th>\n",
              "      <th>Mean_corpuscular_hemoglobin_concentration (MCHC)</th>\n",
              "      <th>Leukocytes</th>\n",
              "      <th>Basophils</th>\n",
              "      <th>Mean_corpuscular_hemoglobin_(MCH)</th>\n",
              "      <th>Eosinophils</th>\n",
              "      <th>Mean_corpuscular_volume_(MCV)</th>\n",
              "      <th>Monocytes</th>\n",
              "      <th>Red_blood_cell_distribution_width_(RDW)</th>\n",
              "      <th>Neutrophils</th>\n",
              "      <th>SARS-Cov-2_exam_result</th>\n",
              "    </tr>\n",
              "  </thead>\n",
              "  <tbody>\n",
              "    <tr>\n",
              "      <th>70</th>\n",
              "      <td>0.694287</td>\n",
              "      <td>0.416252</td>\n",
              "      <td>0.060430</td>\n",
              "      <td>0.796029</td>\n",
              "      <td>0.225417</td>\n",
              "      <td>1.401554</td>\n",
              "      <td>-0.851210</td>\n",
              "      <td>-0.656734</td>\n",
              "      <td>0.998070</td>\n",
              "      <td>0.282719</td>\n",
              "      <td>0.892207</td>\n",
              "      <td>0.747050</td>\n",
              "      <td>0.147441</td>\n",
              "      <td>-0.094334</td>\n",
              "      <td>-1.528714</td>\n",
              "      <td>0</td>\n",
              "    </tr>\n",
              "    <tr>\n",
              "      <th>474</th>\n",
              "      <td>-1.617460</td>\n",
              "      <td>-1.463427</td>\n",
              "      <td>0.550341</td>\n",
              "      <td>-0.438097</td>\n",
              "      <td>-1.625771</td>\n",
              "      <td>-0.568655</td>\n",
              "      <td>0.244149</td>\n",
              "      <td>-0.773612</td>\n",
              "      <td>-0.529226</td>\n",
              "      <td>0.491805</td>\n",
              "      <td>0.934346</td>\n",
              "      <td>0.426576</td>\n",
              "      <td>-0.220244</td>\n",
              "      <td>-0.359703</td>\n",
              "      <td>0.528192</td>\n",
              "      <td>1</td>\n",
              "    </tr>\n",
              "    <tr>\n",
              "      <th>168</th>\n",
              "      <td>-0.518807</td>\n",
              "      <td>-0.272964</td>\n",
              "      <td>-0.215930</td>\n",
              "      <td>0.459449</td>\n",
              "      <td>-0.515058</td>\n",
              "      <td>-0.457777</td>\n",
              "      <td>0.941197</td>\n",
              "      <td>-0.573250</td>\n",
              "      <td>-0.223767</td>\n",
              "      <td>0.439533</td>\n",
              "      <td>-0.709090</td>\n",
              "      <td>0.066045</td>\n",
              "      <td>2.537393</td>\n",
              "      <td>-0.801985</td>\n",
              "      <td>-0.127395</td>\n",
              "      <td>1</td>\n",
              "    </tr>\n",
              "    <tr>\n",
              "      <th>567</th>\n",
              "      <td>1.152058</td>\n",
              "      <td>1.230779</td>\n",
              "      <td>1.002566</td>\n",
              "      <td>-0.550290</td>\n",
              "      <td>1.371390</td>\n",
              "      <td>0.036907</td>\n",
              "      <td>0.542882</td>\n",
              "      <td>0.679006</td>\n",
              "      <td>0.081693</td>\n",
              "      <td>-0.344541</td>\n",
              "      <td>2.072109</td>\n",
              "      <td>-0.675050</td>\n",
              "      <td>0.278757</td>\n",
              "      <td>0.082579</td>\n",
              "      <td>-0.446994</td>\n",
              "      <td>0</td>\n",
              "    </tr>\n",
              "    <tr>\n",
              "      <th>31</th>\n",
              "      <td>0.694287</td>\n",
              "      <td>0.729532</td>\n",
              "      <td>-0.341548</td>\n",
              "      <td>-1.111256</td>\n",
              "      <td>0.401720</td>\n",
              "      <td>0.693644</td>\n",
              "      <td>0.343725</td>\n",
              "      <td>-0.428545</td>\n",
              "      <td>-1.140144</td>\n",
              "      <td>0.491805</td>\n",
              "      <td>0.007280</td>\n",
              "      <td>0.386517</td>\n",
              "      <td>-1.796036</td>\n",
              "      <td>0.171035</td>\n",
              "      <td>NaN</td>\n",
              "      <td>0</td>\n",
              "    </tr>\n",
              "    <tr>\n",
              "      <th>...</th>\n",
              "      <td>...</td>\n",
              "      <td>...</td>\n",
              "      <td>...</td>\n",
              "      <td>...</td>\n",
              "      <td>...</td>\n",
              "      <td>...</td>\n",
              "      <td>...</td>\n",
              "      <td>...</td>\n",
              "      <td>...</td>\n",
              "      <td>...</td>\n",
              "      <td>...</td>\n",
              "      <td>...</td>\n",
              "      <td>...</td>\n",
              "      <td>...</td>\n",
              "      <td>...</td>\n",
              "      <td>...</td>\n",
              "    </tr>\n",
              "    <tr>\n",
              "      <th>270</th>\n",
              "      <td>0.785841</td>\n",
              "      <td>0.416252</td>\n",
              "      <td>-1.158065</td>\n",
              "      <td>2.927700</td>\n",
              "      <td>-0.127191</td>\n",
              "      <td>-1.617727</td>\n",
              "      <td>-1.149948</td>\n",
              "      <td>0.673440</td>\n",
              "      <td>0.081693</td>\n",
              "      <td>0.962249</td>\n",
              "      <td>-0.751229</td>\n",
              "      <td>1.688438</td>\n",
              "      <td>-1.113193</td>\n",
              "      <td>2.470904</td>\n",
              "      <td>2.052433</td>\n",
              "      <td>0</td>\n",
              "    </tr>\n",
              "    <tr>\n",
              "      <th>150</th>\n",
              "      <td>0.488289</td>\n",
              "      <td>0.353596</td>\n",
              "      <td>-0.391795</td>\n",
              "      <td>1.132609</td>\n",
              "      <td>0.683806</td>\n",
              "      <td>0.497476</td>\n",
              "      <td>-0.353319</td>\n",
              "      <td>-0.411849</td>\n",
              "      <td>-0.223767</td>\n",
              "      <td>-0.658171</td>\n",
              "      <td>-0.624811</td>\n",
              "      <td>-0.534842</td>\n",
              "      <td>-0.640455</td>\n",
              "      <td>-1.155812</td>\n",
              "      <td>-0.070032</td>\n",
              "      <td>0</td>\n",
              "    </tr>\n",
              "    <tr>\n",
              "      <th>107</th>\n",
              "      <td>-0.862136</td>\n",
              "      <td>-0.774212</td>\n",
              "      <td>-2.276066</td>\n",
              "      <td>0.347255</td>\n",
              "      <td>-1.061599</td>\n",
              "      <td>0.096611</td>\n",
              "      <td>0.144572</td>\n",
              "      <td>-1.828290</td>\n",
              "      <td>1.914447</td>\n",
              "      <td>0.648619</td>\n",
              "      <td>-0.835508</td>\n",
              "      <td>0.646902</td>\n",
              "      <td>1.092916</td>\n",
              "      <td>1.232513</td>\n",
              "      <td>NaN</td>\n",
              "      <td>0</td>\n",
              "    </tr>\n",
              "    <tr>\n",
              "      <th>455</th>\n",
              "      <td>0.762952</td>\n",
              "      <td>0.541564</td>\n",
              "      <td>-1.748470</td>\n",
              "      <td>-0.213711</td>\n",
              "      <td>0.278308</td>\n",
              "      <td>0.864224</td>\n",
              "      <td>-0.652057</td>\n",
              "      <td>-0.261578</td>\n",
              "      <td>-1.140144</td>\n",
              "      <td>0.387261</td>\n",
              "      <td>0.007280</td>\n",
              "      <td>0.747050</td>\n",
              "      <td>-1.008140</td>\n",
              "      <td>0.259492</td>\n",
              "      <td>NaN</td>\n",
              "      <td>1</td>\n",
              "    </tr>\n",
              "    <tr>\n",
              "      <th>301</th>\n",
              "      <td>-0.335699</td>\n",
              "      <td>-0.460932</td>\n",
              "      <td>1.128184</td>\n",
              "      <td>-0.774677</td>\n",
              "      <td>-0.356385</td>\n",
              "      <td>0.446301</td>\n",
              "      <td>-0.552476</td>\n",
              "      <td>-0.637255</td>\n",
              "      <td>0.081693</td>\n",
              "      <td>-0.187727</td>\n",
              "      <td>0.555092</td>\n",
              "      <td>0.066045</td>\n",
              "      <td>0.383810</td>\n",
              "      <td>0.436405</td>\n",
              "      <td>-0.578112</td>\n",
              "      <td>0</td>\n",
              "    </tr>\n",
              "  </tbody>\n",
              "</table>\n",
              "<p>602 rows × 16 columns</p>\n",
              "</div>"
            ],
            "text/plain": [
              "     Hematocrit  Hemoglobin  ...  Neutrophils  SARS-Cov-2_exam_result\n",
              "70     0.694287    0.416252  ...    -1.528714                       0\n",
              "474   -1.617460   -1.463427  ...     0.528192                       1\n",
              "168   -0.518807   -0.272964  ...    -0.127395                       1\n",
              "567    1.152058    1.230779  ...    -0.446994                       0\n",
              "31     0.694287    0.729532  ...          NaN                       0\n",
              "..          ...         ...  ...          ...                     ...\n",
              "270    0.785841    0.416252  ...     2.052433                       0\n",
              "150    0.488289    0.353596  ...    -0.070032                       0\n",
              "107   -0.862136   -0.774212  ...          NaN                       0\n",
              "455    0.762952    0.541564  ...          NaN                       1\n",
              "301   -0.335699   -0.460932  ...    -0.578112                       0\n",
              "\n",
              "[602 rows x 16 columns]"
            ]
          },
          "metadata": {
            "tags": []
          },
          "execution_count": 21
        }
      ]
    },
    {
      "cell_type": "code",
      "metadata": {
        "colab": {
          "base_uri": "https://localhost:8080/",
          "height": 417
        },
        "id": "bJ2OkRxfAh0d",
        "outputId": "c743e8b6-ae5d-4d3f-8750-fa0e8bbf606f"
      },
      "source": [
        "y=df[['SARS-Cov-2_exam_result']] \n",
        "y"
      ],
      "execution_count": null,
      "outputs": [
        {
          "output_type": "execute_result",
          "data": {
            "text/html": [
              "<div>\n",
              "<style scoped>\n",
              "    .dataframe tbody tr th:only-of-type {\n",
              "        vertical-align: middle;\n",
              "    }\n",
              "\n",
              "    .dataframe tbody tr th {\n",
              "        vertical-align: top;\n",
              "    }\n",
              "\n",
              "    .dataframe thead th {\n",
              "        text-align: right;\n",
              "    }\n",
              "</style>\n",
              "<table border=\"1\" class=\"dataframe\">\n",
              "  <thead>\n",
              "    <tr style=\"text-align: right;\">\n",
              "      <th></th>\n",
              "      <th>SARS-Cov-2_exam_result</th>\n",
              "    </tr>\n",
              "  </thead>\n",
              "  <tbody>\n",
              "    <tr>\n",
              "      <th>70</th>\n",
              "      <td>0</td>\n",
              "    </tr>\n",
              "    <tr>\n",
              "      <th>474</th>\n",
              "      <td>1</td>\n",
              "    </tr>\n",
              "    <tr>\n",
              "      <th>168</th>\n",
              "      <td>1</td>\n",
              "    </tr>\n",
              "    <tr>\n",
              "      <th>567</th>\n",
              "      <td>0</td>\n",
              "    </tr>\n",
              "    <tr>\n",
              "      <th>31</th>\n",
              "      <td>0</td>\n",
              "    </tr>\n",
              "    <tr>\n",
              "      <th>...</th>\n",
              "      <td>...</td>\n",
              "    </tr>\n",
              "    <tr>\n",
              "      <th>270</th>\n",
              "      <td>0</td>\n",
              "    </tr>\n",
              "    <tr>\n",
              "      <th>150</th>\n",
              "      <td>0</td>\n",
              "    </tr>\n",
              "    <tr>\n",
              "      <th>107</th>\n",
              "      <td>0</td>\n",
              "    </tr>\n",
              "    <tr>\n",
              "      <th>455</th>\n",
              "      <td>1</td>\n",
              "    </tr>\n",
              "    <tr>\n",
              "      <th>301</th>\n",
              "      <td>0</td>\n",
              "    </tr>\n",
              "  </tbody>\n",
              "</table>\n",
              "<p>602 rows × 1 columns</p>\n",
              "</div>"
            ],
            "text/plain": [
              "     SARS-Cov-2_exam_result\n",
              "70                        0\n",
              "474                       1\n",
              "168                       1\n",
              "567                       0\n",
              "31                        0\n",
              "..                      ...\n",
              "270                       0\n",
              "150                       0\n",
              "107                       0\n",
              "455                       1\n",
              "301                       0\n",
              "\n",
              "[602 rows x 1 columns]"
            ]
          },
          "metadata": {
            "tags": []
          },
          "execution_count": 22
        }
      ]
    },
    {
      "cell_type": "code",
      "metadata": {
        "colab": {
          "base_uri": "https://localhost:8080/",
          "height": 437
        },
        "id": "z24XdgCXB8Ln",
        "outputId": "0cae0da9-d8d7-411d-f308-deca445fbdc7"
      },
      "source": [
        "x=df.drop(['SARS-Cov-2_exam_result'], axis = 1)\n",
        "x"
      ],
      "execution_count": null,
      "outputs": [
        {
          "output_type": "execute_result",
          "data": {
            "text/html": [
              "<div>\n",
              "<style scoped>\n",
              "    .dataframe tbody tr th:only-of-type {\n",
              "        vertical-align: middle;\n",
              "    }\n",
              "\n",
              "    .dataframe tbody tr th {\n",
              "        vertical-align: top;\n",
              "    }\n",
              "\n",
              "    .dataframe thead th {\n",
              "        text-align: right;\n",
              "    }\n",
              "</style>\n",
              "<table border=\"1\" class=\"dataframe\">\n",
              "  <thead>\n",
              "    <tr style=\"text-align: right;\">\n",
              "      <th></th>\n",
              "      <th>Hematocrit</th>\n",
              "      <th>Hemoglobin</th>\n",
              "      <th>Platelets</th>\n",
              "      <th>Mean_platelet_volume_</th>\n",
              "      <th>Red_blood_Cells</th>\n",
              "      <th>Lymphocytes</th>\n",
              "      <th>Mean_corpuscular_hemoglobin_concentration (MCHC)</th>\n",
              "      <th>Leukocytes</th>\n",
              "      <th>Basophils</th>\n",
              "      <th>Mean_corpuscular_hemoglobin_(MCH)</th>\n",
              "      <th>Eosinophils</th>\n",
              "      <th>Mean_corpuscular_volume_(MCV)</th>\n",
              "      <th>Monocytes</th>\n",
              "      <th>Red_blood_cell_distribution_width_(RDW)</th>\n",
              "      <th>Neutrophils</th>\n",
              "    </tr>\n",
              "  </thead>\n",
              "  <tbody>\n",
              "    <tr>\n",
              "      <th>70</th>\n",
              "      <td>0.694287</td>\n",
              "      <td>0.416252</td>\n",
              "      <td>0.060430</td>\n",
              "      <td>0.796029</td>\n",
              "      <td>0.225417</td>\n",
              "      <td>1.401554</td>\n",
              "      <td>-0.851210</td>\n",
              "      <td>-0.656734</td>\n",
              "      <td>0.998070</td>\n",
              "      <td>0.282719</td>\n",
              "      <td>0.892207</td>\n",
              "      <td>0.747050</td>\n",
              "      <td>0.147441</td>\n",
              "      <td>-0.094334</td>\n",
              "      <td>-1.528714</td>\n",
              "    </tr>\n",
              "    <tr>\n",
              "      <th>474</th>\n",
              "      <td>-1.617460</td>\n",
              "      <td>-1.463427</td>\n",
              "      <td>0.550341</td>\n",
              "      <td>-0.438097</td>\n",
              "      <td>-1.625771</td>\n",
              "      <td>-0.568655</td>\n",
              "      <td>0.244149</td>\n",
              "      <td>-0.773612</td>\n",
              "      <td>-0.529226</td>\n",
              "      <td>0.491805</td>\n",
              "      <td>0.934346</td>\n",
              "      <td>0.426576</td>\n",
              "      <td>-0.220244</td>\n",
              "      <td>-0.359703</td>\n",
              "      <td>0.528192</td>\n",
              "    </tr>\n",
              "    <tr>\n",
              "      <th>168</th>\n",
              "      <td>-0.518807</td>\n",
              "      <td>-0.272964</td>\n",
              "      <td>-0.215930</td>\n",
              "      <td>0.459449</td>\n",
              "      <td>-0.515058</td>\n",
              "      <td>-0.457777</td>\n",
              "      <td>0.941197</td>\n",
              "      <td>-0.573250</td>\n",
              "      <td>-0.223767</td>\n",
              "      <td>0.439533</td>\n",
              "      <td>-0.709090</td>\n",
              "      <td>0.066045</td>\n",
              "      <td>2.537393</td>\n",
              "      <td>-0.801985</td>\n",
              "      <td>-0.127395</td>\n",
              "    </tr>\n",
              "    <tr>\n",
              "      <th>567</th>\n",
              "      <td>1.152058</td>\n",
              "      <td>1.230779</td>\n",
              "      <td>1.002566</td>\n",
              "      <td>-0.550290</td>\n",
              "      <td>1.371390</td>\n",
              "      <td>0.036907</td>\n",
              "      <td>0.542882</td>\n",
              "      <td>0.679006</td>\n",
              "      <td>0.081693</td>\n",
              "      <td>-0.344541</td>\n",
              "      <td>2.072109</td>\n",
              "      <td>-0.675050</td>\n",
              "      <td>0.278757</td>\n",
              "      <td>0.082579</td>\n",
              "      <td>-0.446994</td>\n",
              "    </tr>\n",
              "    <tr>\n",
              "      <th>31</th>\n",
              "      <td>0.694287</td>\n",
              "      <td>0.729532</td>\n",
              "      <td>-0.341548</td>\n",
              "      <td>-1.111256</td>\n",
              "      <td>0.401720</td>\n",
              "      <td>0.693644</td>\n",
              "      <td>0.343725</td>\n",
              "      <td>-0.428545</td>\n",
              "      <td>-1.140144</td>\n",
              "      <td>0.491805</td>\n",
              "      <td>0.007280</td>\n",
              "      <td>0.386517</td>\n",
              "      <td>-1.796036</td>\n",
              "      <td>0.171035</td>\n",
              "      <td>NaN</td>\n",
              "    </tr>\n",
              "    <tr>\n",
              "      <th>...</th>\n",
              "      <td>...</td>\n",
              "      <td>...</td>\n",
              "      <td>...</td>\n",
              "      <td>...</td>\n",
              "      <td>...</td>\n",
              "      <td>...</td>\n",
              "      <td>...</td>\n",
              "      <td>...</td>\n",
              "      <td>...</td>\n",
              "      <td>...</td>\n",
              "      <td>...</td>\n",
              "      <td>...</td>\n",
              "      <td>...</td>\n",
              "      <td>...</td>\n",
              "      <td>...</td>\n",
              "    </tr>\n",
              "    <tr>\n",
              "      <th>270</th>\n",
              "      <td>0.785841</td>\n",
              "      <td>0.416252</td>\n",
              "      <td>-1.158065</td>\n",
              "      <td>2.927700</td>\n",
              "      <td>-0.127191</td>\n",
              "      <td>-1.617727</td>\n",
              "      <td>-1.149948</td>\n",
              "      <td>0.673440</td>\n",
              "      <td>0.081693</td>\n",
              "      <td>0.962249</td>\n",
              "      <td>-0.751229</td>\n",
              "      <td>1.688438</td>\n",
              "      <td>-1.113193</td>\n",
              "      <td>2.470904</td>\n",
              "      <td>2.052433</td>\n",
              "    </tr>\n",
              "    <tr>\n",
              "      <th>150</th>\n",
              "      <td>0.488289</td>\n",
              "      <td>0.353596</td>\n",
              "      <td>-0.391795</td>\n",
              "      <td>1.132609</td>\n",
              "      <td>0.683806</td>\n",
              "      <td>0.497476</td>\n",
              "      <td>-0.353319</td>\n",
              "      <td>-0.411849</td>\n",
              "      <td>-0.223767</td>\n",
              "      <td>-0.658171</td>\n",
              "      <td>-0.624811</td>\n",
              "      <td>-0.534842</td>\n",
              "      <td>-0.640455</td>\n",
              "      <td>-1.155812</td>\n",
              "      <td>-0.070032</td>\n",
              "    </tr>\n",
              "    <tr>\n",
              "      <th>107</th>\n",
              "      <td>-0.862136</td>\n",
              "      <td>-0.774212</td>\n",
              "      <td>-2.276066</td>\n",
              "      <td>0.347255</td>\n",
              "      <td>-1.061599</td>\n",
              "      <td>0.096611</td>\n",
              "      <td>0.144572</td>\n",
              "      <td>-1.828290</td>\n",
              "      <td>1.914447</td>\n",
              "      <td>0.648619</td>\n",
              "      <td>-0.835508</td>\n",
              "      <td>0.646902</td>\n",
              "      <td>1.092916</td>\n",
              "      <td>1.232513</td>\n",
              "      <td>NaN</td>\n",
              "    </tr>\n",
              "    <tr>\n",
              "      <th>455</th>\n",
              "      <td>0.762952</td>\n",
              "      <td>0.541564</td>\n",
              "      <td>-1.748470</td>\n",
              "      <td>-0.213711</td>\n",
              "      <td>0.278308</td>\n",
              "      <td>0.864224</td>\n",
              "      <td>-0.652057</td>\n",
              "      <td>-0.261578</td>\n",
              "      <td>-1.140144</td>\n",
              "      <td>0.387261</td>\n",
              "      <td>0.007280</td>\n",
              "      <td>0.747050</td>\n",
              "      <td>-1.008140</td>\n",
              "      <td>0.259492</td>\n",
              "      <td>NaN</td>\n",
              "    </tr>\n",
              "    <tr>\n",
              "      <th>301</th>\n",
              "      <td>-0.335699</td>\n",
              "      <td>-0.460932</td>\n",
              "      <td>1.128184</td>\n",
              "      <td>-0.774677</td>\n",
              "      <td>-0.356385</td>\n",
              "      <td>0.446301</td>\n",
              "      <td>-0.552476</td>\n",
              "      <td>-0.637255</td>\n",
              "      <td>0.081693</td>\n",
              "      <td>-0.187727</td>\n",
              "      <td>0.555092</td>\n",
              "      <td>0.066045</td>\n",
              "      <td>0.383810</td>\n",
              "      <td>0.436405</td>\n",
              "      <td>-0.578112</td>\n",
              "    </tr>\n",
              "  </tbody>\n",
              "</table>\n",
              "<p>602 rows × 15 columns</p>\n",
              "</div>"
            ],
            "text/plain": [
              "     Hematocrit  ...  Neutrophils\n",
              "70     0.694287  ...    -1.528714\n",
              "474   -1.617460  ...     0.528192\n",
              "168   -0.518807  ...    -0.127395\n",
              "567    1.152058  ...    -0.446994\n",
              "31     0.694287  ...          NaN\n",
              "..          ...  ...          ...\n",
              "270    0.785841  ...     2.052433\n",
              "150    0.488289  ...    -0.070032\n",
              "107   -0.862136  ...          NaN\n",
              "455    0.762952  ...          NaN\n",
              "301   -0.335699  ...    -0.578112\n",
              "\n",
              "[602 rows x 15 columns]"
            ]
          },
          "metadata": {
            "tags": []
          },
          "execution_count": 23
        }
      ]
    },
    {
      "cell_type": "code",
      "metadata": {
        "colab": {
          "base_uri": "https://localhost:8080/"
        },
        "id": "fQcJrvK5IVue",
        "outputId": "83668355-7907-4f37-f272-26265bbbacf7"
      },
      "source": [
        "imp = SimpleImputer(missing_values=np.nan, strategy='median')\n",
        "imp.fit(x)\n",
        "#X_2 = X\n",
        "SimpleImputer()\n",
        "X = imp.transform(x)\n",
        "X"
      ],
      "execution_count": null,
      "outputs": [
        {
          "output_type": "execute_result",
          "data": {
            "text/plain": [
              "array([[ 0.69428688,  0.41625211,  0.06043023, ...,  0.14744094,\n",
              "        -0.09433432, -1.52871394],\n",
              "       [-1.61745954, -1.46342742,  0.55034077, ..., -0.22024387,\n",
              "        -0.35970309,  0.52819222],\n",
              "       [-0.51880735, -0.27296397, -0.21592958, ...,  2.53739309,\n",
              "        -0.80198544, -0.12739536],\n",
              "       ...,\n",
              "       [-0.86213595, -0.774212  , -2.2760663 , ...,  1.09291649,\n",
              "         1.23251295, -0.05364196],\n",
              "       [ 0.76295245,  0.54156393, -1.74847019, ..., -1.00814009,\n",
              "         0.2594921 , -0.05364196],\n",
              "       [-0.3356989 , -0.46093205,  1.12818408, ...,  0.38380998,\n",
              "         0.43640488, -0.57811183]])"
            ]
          },
          "metadata": {
            "tags": []
          },
          "execution_count": 24
        }
      ]
    },
    {
      "cell_type": "code",
      "metadata": {
        "id": "KHaAsfSbB8JW"
      },
      "source": [
        "x_train, x_test, y_train, y_test= train_test_split(X, y, test_size= 0.1, random_state=0)"
      ],
      "execution_count": null,
      "outputs": []
    },
    {
      "cell_type": "code",
      "metadata": {
        "colab": {
          "base_uri": "https://localhost:8080/",
          "height": 446
        },
        "id": "ONbZ01qbB8G3",
        "outputId": "05b38196-69b2-4e75-fa8c-aece4f18227e"
      },
      "source": [
        "#Fitting K-NN classifier to the training set\n",
        "classifier= KNeighborsClassifier(n_neighbors=5, metric='minkowski', p=2 )  \n",
        "classifier.fit(x_train, y_train)\n",
        "#importing model from sklearn \n",
        "    \n",
        "    #predict class\n",
        "test_pred_y_log = classifier.predict(x_test)\n",
        "train_pred_y_log = classifier.predict(x_train)\n",
        "    \n",
        "pred_prob1 = classifier.predict_proba(x_test)\n",
        "\n",
        "from sklearn.metrics import roc_curve\n",
        "\n",
        "    # roc curve for models\n",
        "fpr4, tpr4, thresh4 = roc_curve(y_test, pred_prob1[:,1], pos_label=1)\n",
        "\n",
        "    # roc curve for tpr = fpr \n",
        "random_probs = [0 for i in range(len(y_test))]\n",
        "p_fpr, p_tpr, _ = roc_curve(y_test, random_probs, pos_label=1)\n",
        "    \n",
        "from sklearn.metrics import roc_auc_score\n",
        "auc_score1 = roc_auc_score(y_test, pred_prob1[:,1])\n",
        "print(auc_score1)\n",
        "\n",
        "    # matplotlib\n",
        "import matplotlib.pyplot as plt\n",
        "plt.style.use('seaborn')\n",
        "\n",
        "    # plot roc curves\n",
        "plt.plot(fpr1, tpr1, linestyle='--',color='orange', label='Logistic Regression')\n",
        "plt.plot(fpr2, tpr2, linestyle='--',color='red', label='Naive Bayes')\n",
        "plt.plot(fpr3, tpr3, linestyle='--',color='yellow', label='FIsher Linear Discriminant')\n",
        "plt.plot(fpr4, tpr4, linestyle='--',color='green', label='KNN')\n",
        "plt.plot(p_fpr, p_tpr, linestyle='--', color='blue')\n",
        "    # title\n",
        "plt.title('ROC curve')\n",
        "    # x label\n",
        "plt.xlabel('False Positive Rate')\n",
        "    # y label\n",
        "plt.ylabel('True Positive rate')\n",
        "\n",
        "plt.legend(loc='best')\n",
        "plt.savefig('ROC',dpi=300)\n",
        "plt.show();"
      ],
      "execution_count": null,
      "outputs": [
        {
          "output_type": "stream",
          "text": [
            "/usr/local/lib/python3.7/dist-packages/ipykernel_launcher.py:3: DataConversionWarning: A column-vector y was passed when a 1d array was expected. Please change the shape of y to (n_samples, ), for example using ravel().\n",
            "  This is separate from the ipykernel package so we can avoid doing imports until\n"
          ],
          "name": "stderr"
        },
        {
          "output_type": "stream",
          "text": [
            "0.8120748299319727\n"
          ],
          "name": "stdout"
        },
        {
          "output_type": "display_data",
          "data": {
            "image/png": "[encoded data removed]",
            "text/plain": [
              "<Figure size 576x396 with 1 Axes>"
            ]
          },
          "metadata": {
            "tags": []
          }
        }
      ]
    },
    {
      "cell_type": "code",
      "metadata": {
        "colab": {
          "base_uri": "https://localhost:8080/"
        },
        "id": "_o5_vWaWB8EP",
        "outputId": "f543e391-f242-4c57-be16-f96dfe11a3be"
      },
      "source": [
        "#Predicting the test set result  \n",
        "y_pred= classifier.predict(x_test) \n",
        "y_pred"
      ],
      "execution_count": null,
      "outputs": [
        {
          "output_type": "execute_result",
          "data": {
            "text/plain": [
              "array([0, 0, 0, 0, 1, 0, 0, 0, 0, 0, 0, 0, 0, 0, 0, 0, 0, 0, 0, 0, 0, 0,\n",
              "       1, 0, 0, 0, 0, 0, 0, 0, 0, 0, 0, 0, 1, 0, 0, 0, 0, 0, 0, 0, 0, 0,\n",
              "       0, 0, 0, 0, 0, 0, 0, 0, 0, 0, 0, 1, 0, 0, 0, 0, 0])"
            ]
          },
          "metadata": {
            "tags": []
          },
          "execution_count": 27
        }
      ]
    },
    {
      "cell_type": "code",
      "metadata": {
        "id": "QDG-55GMB8Bo"
      },
      "source": [
        "#Creating the Confusion matrix\n",
        "cm= confusion_matrix(y_test, y_pred)"
      ],
      "execution_count": null,
      "outputs": []
    },
    {
      "cell_type": "code",
      "metadata": {
        "id": "hfYdRYnVB7-z"
      },
      "source": [
        "#finding accuracy\n",
        "accuracy = accuracy_score(y_test, y_pred)"
      ],
      "execution_count": null,
      "outputs": []
    },
    {
      "cell_type": "code",
      "metadata": {
        "id": "le2pPt8GB77Z",
        "colab": {
          "base_uri": "https://localhost:8080/"
        },
        "outputId": "5cdb7733-4686-4083-b409-c9637b9fb2c8"
      },
      "source": [
        "print(\"Accuracy: %.2f%%\" % (accuracy * 100.0))\n",
        "print(\"The Confusion Matrix is:\\n \",cm)\n",
        "target_names = ['Covid Negative', 'Covid Positive']\n",
        "print(classification_report(y_test, y_pred, target_names=target_names))"
      ],
      "execution_count": null,
      "outputs": [
        {
          "output_type": "stream",
          "text": [
            "Accuracy: 80.33%\n",
            "The Confusion Matrix is:\n",
            "  [[47  2]\n",
            " [10  2]]\n",
            "                precision    recall  f1-score   support\n",
            "\n",
            "Covid Negative       0.82      0.96      0.89        49\n",
            "Covid Positive       0.50      0.17      0.25        12\n",
            "\n",
            "      accuracy                           0.80        61\n",
            "     macro avg       0.66      0.56      0.57        61\n",
            "  weighted avg       0.76      0.80      0.76        61\n",
            "\n"
          ],
          "name": "stdout"
        }
      ]
    }
  ]
}