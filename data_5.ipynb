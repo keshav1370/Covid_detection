{
  "nbformat": 4,
  "nbformat_minor": 0,
  "metadata": {
    "colab": {
      "name": "data_5_(1).ipynb",
      "provenance": [],
      "collapsed_sections": []
    },
    "kernelspec": {
      "name": "python3",
      "display_name": "Python 3"
    },
    "language_info": {
      "name": "python"
    }
  },
  "cells": [
    {
      "cell_type": "code",
      "metadata": {
        "id": "biOxPLfZXViI"
      },
      "source": [
        "#Imorting all libraries\n",
        "import pandas as pd\n",
        "import numpy as np \n",
        "import matplotlib.pyplot as plt\n",
        "from sklearn.linear_model import LogisticRegression\n",
        "from sklearn.linear_model import Perceptron\n",
        "from sklearn.svm import SVC  \n",
        "from sklearn.model_selection import train_test_split  \n",
        "from sklearn.naive_bayes import GaussianNB\n",
        "from sklearn.discriminant_analysis import LinearDiscriminantAnalysis\n",
        "from sklearn.neighbors import KNeighborsClassifier\n",
        "from sklearn.neural_network import MLPClassifier\n",
        "from sklearn.metrics import classification_report\n",
        "from sklearn.metrics import accuracy_score\n",
        "from sklearn.metrics import confusion_matrix\n",
        "from sklearn.experimental import enable_iterative_imputer\n",
        "from sklearn.impute import SimpleImputer\n",
        "import statistics"
      ],
      "execution_count": 1,
      "outputs": []
    },
    {
      "cell_type": "code",
      "metadata": {
        "id": "iKeV30GKX3xO"
      },
      "source": [
        "#read and shuffle data\n",
        "df = pd.read_csv(\"/content/Dataset-5 (1).csv\")\n",
        "df = df.sample(frac = 1)"
      ],
      "execution_count": 2,
      "outputs": []
    },
    {
      "cell_type": "code",
      "metadata": {
        "colab": {
          "base_uri": "https://localhost:8080/"
        },
        "id": "WGCu09H5X3rR",
        "outputId": "2f8d46f7-4bb5-4091-a75d-6aa822729806"
      },
      "source": [
        "df.columns"
      ],
      "execution_count": 3,
      "outputs": [
        {
          "output_type": "execute_result",
          "data": {
            "text/plain": [
              "Index(['Unnamed: 0', 'New_ID', 'Leukocytes_(10^9/L)', 'Platelets_(10^9/L)',\n",
              "       'Monocytes_count_(10^9/L)', 'Eosinophils_count_(10^9/L)', 'CoV-2'],\n",
              "      dtype='object')"
            ]
          },
          "metadata": {
            "tags": []
          },
          "execution_count": 3
        }
      ]
    },
    {
      "cell_type": "code",
      "metadata": {
        "colab": {
          "base_uri": "https://localhost:8080/",
          "height": 417
        },
        "id": "z8I0pGRHX3kn",
        "outputId": "93e75f64-df6e-4343-edd9-f68ee55f4f25"
      },
      "source": [
        "df"
      ],
      "execution_count": 4,
      "outputs": [
        {
          "output_type": "execute_result",
          "data": {
            "text/html": [
              "<div>\n",
              "<style scoped>\n",
              "    .dataframe tbody tr th:only-of-type {\n",
              "        vertical-align: middle;\n",
              "    }\n",
              "\n",
              "    .dataframe tbody tr th {\n",
              "        vertical-align: top;\n",
              "    }\n",
              "\n",
              "    .dataframe thead th {\n",
              "        text-align: right;\n",
              "    }\n",
              "</style>\n",
              "<table border=\"1\" class=\"dataframe\">\n",
              "  <thead>\n",
              "    <tr style=\"text-align: right;\">\n",
              "      <th></th>\n",
              "      <th>Unnamed: 0</th>\n",
              "      <th>New_ID</th>\n",
              "      <th>Leukocytes_(10^9/L)</th>\n",
              "      <th>Platelets_(10^9/L)</th>\n",
              "      <th>Monocytes_count_(10^9/L)</th>\n",
              "      <th>Eosinophils_count_(10^9/L)</th>\n",
              "      <th>CoV-2</th>\n",
              "    </tr>\n",
              "  </thead>\n",
              "  <tbody>\n",
              "    <tr>\n",
              "      <th>106</th>\n",
              "      <td>106</td>\n",
              "      <td>Italia_0120</td>\n",
              "      <td>-0.253188</td>\n",
              "      <td>-0.277687</td>\n",
              "      <td>-0.780688</td>\n",
              "      <td>-0.464502</td>\n",
              "      <td>1</td>\n",
              "    </tr>\n",
              "    <tr>\n",
              "      <th>951</th>\n",
              "      <td>951</td>\n",
              "      <td>Italia_1031</td>\n",
              "      <td>-0.048258</td>\n",
              "      <td>0.109724</td>\n",
              "      <td>-0.410897</td>\n",
              "      <td>3.004931</td>\n",
              "      <td>0</td>\n",
              "    </tr>\n",
              "    <tr>\n",
              "      <th>123</th>\n",
              "      <td>123</td>\n",
              "      <td>Italia_0139</td>\n",
              "      <td>-1.105267</td>\n",
              "      <td>-0.612029</td>\n",
              "      <td>-0.410897</td>\n",
              "      <td>-0.464502</td>\n",
              "      <td>1</td>\n",
              "    </tr>\n",
              "    <tr>\n",
              "      <th>432</th>\n",
              "      <td>432</td>\n",
              "      <td>Italia_0473</td>\n",
              "      <td>-0.479690</td>\n",
              "      <td>0.311391</td>\n",
              "      <td>-0.410897</td>\n",
              "      <td>-0.464502</td>\n",
              "      <td>1</td>\n",
              "    </tr>\n",
              "    <tr>\n",
              "      <th>1127</th>\n",
              "      <td>1127</td>\n",
              "      <td>Italia_1219</td>\n",
              "      <td>1.871615</td>\n",
              "      <td>1.394021</td>\n",
              "      <td>0.143789</td>\n",
              "      <td>-0.464502</td>\n",
              "      <td>0</td>\n",
              "    </tr>\n",
              "    <tr>\n",
              "      <th>...</th>\n",
              "      <td>...</td>\n",
              "      <td>...</td>\n",
              "      <td>...</td>\n",
              "      <td>...</td>\n",
              "      <td>...</td>\n",
              "      <td>...</td>\n",
              "      <td>...</td>\n",
              "    </tr>\n",
              "    <tr>\n",
              "      <th>868</th>\n",
              "      <td>868</td>\n",
              "      <td>Italia_0939</td>\n",
              "      <td>-0.609120</td>\n",
              "      <td>1.712441</td>\n",
              "      <td>0.328684</td>\n",
              "      <td>-0.464502</td>\n",
              "      <td>1</td>\n",
              "    </tr>\n",
              "    <tr>\n",
              "      <th>206</th>\n",
              "      <td>206</td>\n",
              "      <td>Italia_0229</td>\n",
              "      <td>0.739106</td>\n",
              "      <td>-0.410363</td>\n",
              "      <td>-0.780688</td>\n",
              "      <td>-0.464502</td>\n",
              "      <td>1</td>\n",
              "    </tr>\n",
              "    <tr>\n",
              "      <th>1369</th>\n",
              "      <td>1369</td>\n",
              "      <td>Italia_1494</td>\n",
              "      <td>2.141260</td>\n",
              "      <td>-1.036590</td>\n",
              "      <td>3.471905</td>\n",
              "      <td>-0.464502</td>\n",
              "      <td>0</td>\n",
              "    </tr>\n",
              "    <tr>\n",
              "      <th>576</th>\n",
              "      <td>576</td>\n",
              "      <td>Italia_0630</td>\n",
              "      <td>2.443263</td>\n",
              "      <td>0.210558</td>\n",
              "      <td>NaN</td>\n",
              "      <td>NaN</td>\n",
              "      <td>0</td>\n",
              "    </tr>\n",
              "    <tr>\n",
              "      <th>511</th>\n",
              "      <td>511</td>\n",
              "      <td>Italia_0564</td>\n",
              "      <td>-0.501262</td>\n",
              "      <td>-0.272380</td>\n",
              "      <td>-0.226002</td>\n",
              "      <td>0.923271</td>\n",
              "      <td>0</td>\n",
              "    </tr>\n",
              "  </tbody>\n",
              "</table>\n",
              "<p>1532 rows × 7 columns</p>\n",
              "</div>"
            ],
            "text/plain": [
              "      Unnamed: 0       New_ID  ...  Eosinophils_count_(10^9/L)  CoV-2\n",
              "106          106  Italia_0120  ...                   -0.464502      1\n",
              "951          951  Italia_1031  ...                    3.004931      0\n",
              "123          123  Italia_0139  ...                   -0.464502      1\n",
              "432          432  Italia_0473  ...                   -0.464502      1\n",
              "1127        1127  Italia_1219  ...                   -0.464502      0\n",
              "...          ...          ...  ...                         ...    ...\n",
              "868          868  Italia_0939  ...                   -0.464502      1\n",
              "206          206  Italia_0229  ...                   -0.464502      1\n",
              "1369        1369  Italia_1494  ...                   -0.464502      0\n",
              "576          576  Italia_0630  ...                         NaN      0\n",
              "511          511  Italia_0564  ...                    0.923271      0\n",
              "\n",
              "[1532 rows x 7 columns]"
            ]
          },
          "metadata": {
            "tags": []
          },
          "execution_count": 4
        }
      ]
    },
    {
      "cell_type": "code",
      "metadata": {
        "colab": {
          "base_uri": "https://localhost:8080/"
        },
        "id": "unbT3-0WX3Nd",
        "outputId": "62d036d4-cf93-4cb2-9b26-b226c00437a2"
      },
      "source": [
        "df['CoV-2'].value_counts()"
      ],
      "execution_count": 5,
      "outputs": [
        {
          "output_type": "execute_result",
          "data": {
            "text/plain": [
              "1    788\n",
              "0    744\n",
              "Name: CoV-2, dtype: int64"
            ]
          },
          "metadata": {
            "tags": []
          },
          "execution_count": 5
        }
      ]
    },
    {
      "cell_type": "code",
      "metadata": {
        "colab": {
          "base_uri": "https://localhost:8080/"
        },
        "id": "S9u3PM5MZ7xS",
        "outputId": "82b34941-28fc-4775-f86a-1e321779baf3"
      },
      "source": [
        "df.shape"
      ],
      "execution_count": 6,
      "outputs": [
        {
          "output_type": "execute_result",
          "data": {
            "text/plain": [
              "(1532, 7)"
            ]
          },
          "metadata": {
            "tags": []
          },
          "execution_count": 6
        }
      ]
    },
    {
      "cell_type": "code",
      "metadata": {
        "id": "BZSVanAwY3Nv"
      },
      "source": [
        "#dropping id column as it is not a valid attribute to train model\n",
        "df = df.drop(['Unnamed: 0'], axis = 1)\n",
        "df = df.drop(['New_ID'], axis = 1)"
      ],
      "execution_count": 7,
      "outputs": []
    },
    {
      "cell_type": "code",
      "metadata": {
        "colab": {
          "base_uri": "https://localhost:8080/",
          "height": 417
        },
        "id": "iy-w2Eg8a5FY",
        "outputId": "46bf3acd-1bd3-4726-dbdd-e0e20549858c"
      },
      "source": [
        "df"
      ],
      "execution_count": 8,
      "outputs": [
        {
          "output_type": "execute_result",
          "data": {
            "text/html": [
              "<div>\n",
              "<style scoped>\n",
              "    .dataframe tbody tr th:only-of-type {\n",
              "        vertical-align: middle;\n",
              "    }\n",
              "\n",
              "    .dataframe tbody tr th {\n",
              "        vertical-align: top;\n",
              "    }\n",
              "\n",
              "    .dataframe thead th {\n",
              "        text-align: right;\n",
              "    }\n",
              "</style>\n",
              "<table border=\"1\" class=\"dataframe\">\n",
              "  <thead>\n",
              "    <tr style=\"text-align: right;\">\n",
              "      <th></th>\n",
              "      <th>Leukocytes_(10^9/L)</th>\n",
              "      <th>Platelets_(10^9/L)</th>\n",
              "      <th>Monocytes_count_(10^9/L)</th>\n",
              "      <th>Eosinophils_count_(10^9/L)</th>\n",
              "      <th>CoV-2</th>\n",
              "    </tr>\n",
              "  </thead>\n",
              "  <tbody>\n",
              "    <tr>\n",
              "      <th>106</th>\n",
              "      <td>-0.253188</td>\n",
              "      <td>-0.277687</td>\n",
              "      <td>-0.780688</td>\n",
              "      <td>-0.464502</td>\n",
              "      <td>1</td>\n",
              "    </tr>\n",
              "    <tr>\n",
              "      <th>951</th>\n",
              "      <td>-0.048258</td>\n",
              "      <td>0.109724</td>\n",
              "      <td>-0.410897</td>\n",
              "      <td>3.004931</td>\n",
              "      <td>0</td>\n",
              "    </tr>\n",
              "    <tr>\n",
              "      <th>123</th>\n",
              "      <td>-1.105267</td>\n",
              "      <td>-0.612029</td>\n",
              "      <td>-0.410897</td>\n",
              "      <td>-0.464502</td>\n",
              "      <td>1</td>\n",
              "    </tr>\n",
              "    <tr>\n",
              "      <th>432</th>\n",
              "      <td>-0.479690</td>\n",
              "      <td>0.311391</td>\n",
              "      <td>-0.410897</td>\n",
              "      <td>-0.464502</td>\n",
              "      <td>1</td>\n",
              "    </tr>\n",
              "    <tr>\n",
              "      <th>1127</th>\n",
              "      <td>1.871615</td>\n",
              "      <td>1.394021</td>\n",
              "      <td>0.143789</td>\n",
              "      <td>-0.464502</td>\n",
              "      <td>0</td>\n",
              "    </tr>\n",
              "    <tr>\n",
              "      <th>...</th>\n",
              "      <td>...</td>\n",
              "      <td>...</td>\n",
              "      <td>...</td>\n",
              "      <td>...</td>\n",
              "      <td>...</td>\n",
              "    </tr>\n",
              "    <tr>\n",
              "      <th>868</th>\n",
              "      <td>-0.609120</td>\n",
              "      <td>1.712441</td>\n",
              "      <td>0.328684</td>\n",
              "      <td>-0.464502</td>\n",
              "      <td>1</td>\n",
              "    </tr>\n",
              "    <tr>\n",
              "      <th>206</th>\n",
              "      <td>0.739106</td>\n",
              "      <td>-0.410363</td>\n",
              "      <td>-0.780688</td>\n",
              "      <td>-0.464502</td>\n",
              "      <td>1</td>\n",
              "    </tr>\n",
              "    <tr>\n",
              "      <th>1369</th>\n",
              "      <td>2.141260</td>\n",
              "      <td>-1.036590</td>\n",
              "      <td>3.471905</td>\n",
              "      <td>-0.464502</td>\n",
              "      <td>0</td>\n",
              "    </tr>\n",
              "    <tr>\n",
              "      <th>576</th>\n",
              "      <td>2.443263</td>\n",
              "      <td>0.210558</td>\n",
              "      <td>NaN</td>\n",
              "      <td>NaN</td>\n",
              "      <td>0</td>\n",
              "    </tr>\n",
              "    <tr>\n",
              "      <th>511</th>\n",
              "      <td>-0.501262</td>\n",
              "      <td>-0.272380</td>\n",
              "      <td>-0.226002</td>\n",
              "      <td>0.923271</td>\n",
              "      <td>0</td>\n",
              "    </tr>\n",
              "  </tbody>\n",
              "</table>\n",
              "<p>1532 rows × 5 columns</p>\n",
              "</div>"
            ],
            "text/plain": [
              "      Leukocytes_(10^9/L)  ...  CoV-2\n",
              "106             -0.253188  ...      1\n",
              "951             -0.048258  ...      0\n",
              "123             -1.105267  ...      1\n",
              "432             -0.479690  ...      1\n",
              "1127             1.871615  ...      0\n",
              "...                   ...  ...    ...\n",
              "868             -0.609120  ...      1\n",
              "206              0.739106  ...      1\n",
              "1369             2.141260  ...      0\n",
              "576              2.443263  ...      0\n",
              "511             -0.501262  ...      0\n",
              "\n",
              "[1532 rows x 5 columns]"
            ]
          },
          "metadata": {
            "tags": []
          },
          "execution_count": 8
        }
      ]
    },
    {
      "cell_type": "code",
      "metadata": {
        "colab": {
          "base_uri": "https://localhost:8080/"
        },
        "id": "G8B_AeN9nZC_",
        "outputId": "d9edc78c-fc33-4680-82c3-7b281e1dec48"
      },
      "source": [
        "df.isnull().any()"
      ],
      "execution_count": 9,
      "outputs": [
        {
          "output_type": "execute_result",
          "data": {
            "text/plain": [
              "Leukocytes_(10^9/L)           False\n",
              "Platelets_(10^9/L)            False\n",
              "Monocytes_count_(10^9/L)       True\n",
              "Eosinophils_count_(10^9/L)     True\n",
              "CoV-2                         False\n",
              "dtype: bool"
            ]
          },
          "metadata": {
            "tags": []
          },
          "execution_count": 9
        }
      ]
    },
    {
      "cell_type": "code",
      "metadata": {
        "id": "vAOo1CzUnk3T"
      },
      "source": [
        "#df = df.fillna(lambda x: x.median())"
      ],
      "execution_count": 10,
      "outputs": []
    },
    {
      "cell_type": "code",
      "metadata": {
        "colab": {
          "base_uri": "https://localhost:8080/"
        },
        "id": "mSHf4nTTdoGU",
        "outputId": "ddc7eaae-5972-4362-b465-0eaa625de892"
      },
      "source": [
        "data = df.to_numpy()\n",
        "\n",
        "data.shape"
      ],
      "execution_count": 11,
      "outputs": [
        {
          "output_type": "execute_result",
          "data": {
            "text/plain": [
              "(1532, 5)"
            ]
          },
          "metadata": {
            "tags": []
          },
          "execution_count": 11
        }
      ]
    },
    {
      "cell_type": "code",
      "metadata": {
        "colab": {
          "base_uri": "https://localhost:8080/"
        },
        "id": "ff7IPLZYtJP4",
        "outputId": "bdacfb35-0d2f-4dc5-c144-c2fb638431ce"
      },
      "source": [
        "imp = SimpleImputer(missing_values=np.nan, strategy='median')\n",
        "imp.fit(data)\n",
        "#X_2 = X\n",
        "SimpleImputer()\n",
        "data = imp.transform(data)\n",
        "\n",
        "data"
      ],
      "execution_count": 12,
      "outputs": [
        {
          "output_type": "execute_result",
          "data": {
            "text/plain": [
              "array([[-0.25318827, -0.27768741, -0.7806882 , -0.46450233,  1.        ],\n",
              "       [-0.04825799,  0.10972433, -0.41089745,  3.00493149,  0.        ],\n",
              "       [-1.10526681, -0.61202905, -0.41089745, -0.46450233,  1.        ],\n",
              "       ...,\n",
              "       [ 2.14126029, -1.03658986,  3.47190541, -0.46450233,  0.        ],\n",
              "       [ 2.44326281,  0.21055753, -0.22600208, -0.46450233,  0.        ],\n",
              "       [-0.50126177, -0.2723804 , -0.22600208,  0.9232712 ,  0.        ]])"
            ]
          },
          "metadata": {
            "tags": []
          },
          "execution_count": 12
        }
      ]
    },
    {
      "cell_type": "code",
      "metadata": {
        "id": "KyiXP49_kKZY"
      },
      "source": [
        "#splitting into 7 folds\n",
        "data_g = np.array_split(data, 7)"
      ],
      "execution_count": 13,
      "outputs": []
    },
    {
      "cell_type": "markdown",
      "metadata": {
        "id": "RmvcBylZCgap"
      },
      "source": [
        "## **LOGISTIC REGRESSION**"
      ]
    },
    {
      "cell_type": "code",
      "metadata": {
        "id": "TelOon4rY3LV",
        "colab": {
          "base_uri": "https://localhost:8080/",
          "height": 729
        },
        "outputId": "c73581c5-a9b0-43cc-b8e2-8d3aa2940eb1"
      },
      "source": [
        "accuracy_log_test = []\n",
        "accuracy_log_train = []\n",
        "classif_log_test=[]\n",
        "classif_log_train=[]\n",
        "\n",
        "for i in range(7):\n",
        "  if i == 6:\n",
        "    test_data = data_g[i]\n",
        "    test_data_x = []\n",
        "    test_data_y = []\n",
        "    train_data_x = []\n",
        "    train_data_y = []\n",
        "    for j in range(7):\n",
        "        if j!=i:      #creating training dataset\n",
        "            for w in range(len(data_g[j])):\n",
        "                train_data_x.append(data_g[j][w][:4])\n",
        "                train_data_y.append(data_g[j][w][4])\n",
        "        elif j == i:      #creating testing dataset\n",
        "            for w in range(len(data_g[j])):\n",
        "                test_data_x.append(data_g[j][w][:4])\n",
        "                test_data_y.append(data_g[j][w][4])\n",
        "                \n",
        "    #convert into array\n",
        "    test_data_xn = np.array(test_data_x)\n",
        "    train_data_xn = np.array(train_data_x)\n",
        "    test_data_yn = np.array(test_data_y)\n",
        "    train_data_yn = np.array(train_data_y)\n",
        "    \n",
        "    #importing model from sklearn \n",
        "    clf = LogisticRegression(random_state = 0)\n",
        "    clf.fit(train_data_xn, train_data_yn)\n",
        "    \n",
        "    #predict class\n",
        "    test_pred_y_log = clf.predict(test_data_xn)\n",
        "    train_pred_y_log = clf.predict(train_data_xn)\n",
        "    \n",
        "    pred_prob1 = clf.predict_proba(test_data_xn)\n",
        "\n",
        "    from sklearn.metrics import roc_curve\n",
        "\n",
        "    # roc curve for models\n",
        "    fpr1, tpr1, thresh1 = roc_curve(test_data_yn, pred_prob1[:,1], pos_label=1)\n",
        "\n",
        "    # roc curve for tpr = fpr \n",
        "    random_probs = [0 for i in range(len(test_data_yn))]\n",
        "    p_fpr, p_tpr, _ = roc_curve(test_data_yn, random_probs, pos_label=1)\n",
        "    \n",
        "    from sklearn.metrics import roc_auc_score\n",
        "    auc_score1 = roc_auc_score(test_data_yn, pred_prob1[:,1])\n",
        "    print(auc_score1)\n",
        "\n",
        "    # matplotlib\n",
        "    import matplotlib.pyplot as plt\n",
        "    plt.style.use('seaborn')\n",
        "\n",
        "    # plot roc curves\n",
        "    plt.plot(fpr1, tpr1, linestyle='--',color='orange', label='Logistic Regression')\n",
        "    plt.plot(p_fpr, p_tpr, linestyle='--', color='blue')\n",
        "    # title\n",
        "    plt.title('ROC curve')\n",
        "    # x label\n",
        "    plt.xlabel('False Positive Rate')\n",
        "    # y label\n",
        "    plt.ylabel('True Positive rate')\n",
        "\n",
        "    plt.legend(loc='best')\n",
        "    #calculating and appending accuracies\n",
        "    acc1_log = accuracy_score(test_data_yn, test_pred_y_log)\n",
        "    accuracy_log_test.append(acc1_log)\n",
        "    print(\"----------------------TESTING-----------------------\")\n",
        "    target_names = ['Covid Negative', 'Covid Positive']\n",
        "    print(classification_report(test_data_yn, test_pred_y_log, target_names=target_names))\n",
        "    print(\"------------------TRAINING-----------------\")\n",
        "    acc2_log = accuracy_score(train_data_yn, train_pred_y_log)\n",
        "    accuracy_log_train.append(acc2_log)\n",
        "    target_names = ['Covid Negative', 'Covid Positive']\n",
        "    print(classification_report(train_data_yn, train_pred_y_log, target_names=target_names))\n"
      ],
      "execution_count": 14,
      "outputs": [
        {
          "output_type": "stream",
          "text": [
            "0.7591812668463612\n",
            "----------------------TESTING-----------------------\n",
            "                precision    recall  f1-score   support\n",
            "\n",
            "Covid Negative       0.75      0.57      0.65       112\n",
            "Covid Positive       0.64      0.80      0.71       106\n",
            "\n",
            "      accuracy                           0.68       218\n",
            "     macro avg       0.70      0.69      0.68       218\n",
            "  weighted avg       0.70      0.68      0.68       218\n",
            "\n",
            "------------------TRAINING-----------------\n",
            "                precision    recall  f1-score   support\n",
            "\n",
            "Covid Negative       0.69      0.53      0.60       632\n",
            "Covid Positive       0.64      0.78      0.70       682\n",
            "\n",
            "      accuracy                           0.66      1314\n",
            "     macro avg       0.67      0.65      0.65      1314\n",
            "  weighted avg       0.66      0.66      0.65      1314\n",
            "\n"
          ],
          "name": "stdout"
        },
        {
          "output_type": "display_data",
          "data": {
            "image/png": "[encoded data removed]",
            "text/plain": [
              "<Figure size 576x396 with 1 Axes>"
            ]
          },
          "metadata": {
            "tags": []
          }
        }
      ]
    },
    {
      "cell_type": "code",
      "metadata": {
        "colab": {
          "base_uri": "https://localhost:8080/"
        },
        "id": "sRdXWPlXUMmc",
        "outputId": "1159a091-affc-4b2b-c4fb-f7e9b4a44185"
      },
      "source": [
        "#Creating the Confusion matrix\n",
        "cm= confusion_matrix(test_data_yn, test_pred_y_log)\n",
        "cm"
      ],
      "execution_count": 15,
      "outputs": [
        {
          "output_type": "execute_result",
          "data": {
            "text/plain": [
              "array([[64, 48],\n",
              "       [21, 85]])"
            ]
          },
          "metadata": {
            "tags": []
          },
          "execution_count": 15
        }
      ]
    },
    {
      "cell_type": "code",
      "metadata": {
        "colab": {
          "base_uri": "https://localhost:8080/"
        },
        "id": "PwlXhGU5Y2-Q",
        "outputId": "bd9d5b66-4ff3-4961-c78a-a769a063465b"
      },
      "source": [
        "#printing accuracies \n",
        "\n",
        "print(\"Mean accuracy for test set = \", statistics.mean(accuracy_log_test))\n",
        "print(\"Mean accuracy for train set = \", statistics.mean(accuracy_log_train))\n"
      ],
      "execution_count": 16,
      "outputs": [
        {
          "output_type": "stream",
          "text": [
            "Mean accuracy for test set =  0.6834862385321101\n",
            "Mean accuracy for train set =  0.6590563165905632\n"
          ],
          "name": "stdout"
        }
      ]
    },
    {
      "cell_type": "markdown",
      "metadata": {
        "id": "ipOJwwE-CsFE"
      },
      "source": [
        "# **NAIVE BAYES**"
      ]
    },
    {
      "cell_type": "code",
      "metadata": {
        "id": "qf946sGdDAmT",
        "colab": {
          "base_uri": "https://localhost:8080/",
          "height": 561
        },
        "outputId": "5f7592f0-a132-42f3-e7f2-537b41d517c9"
      },
      "source": [
        "accuracy_nb_test = []\n",
        "accuracy_nb_train = []\n",
        "\n",
        "for i in range(7):\n",
        "  if i == 6:\n",
        "    test_data = data_g[i]\n",
        "    test_data_x = []\n",
        "    test_data_y = []\n",
        "    train_data_x = []\n",
        "    train_data_y = []\n",
        "    for j in range(7):\n",
        "        if j!=i:      #creating training dataset\n",
        "            for w in range(len(data_g[j])):\n",
        "                train_data_x.append(data_g[j][w][:4])\n",
        "                train_data_y.append(data_g[j][w][4])\n",
        "        elif j == i:      #creating testing dataset\n",
        "            for w in range(len(data_g[j])):\n",
        "                test_data_x.append(data_g[j][w][:4])\n",
        "                test_data_y.append(data_g[j][w][4])\n",
        "       \n",
        "    #convert into array         \n",
        "    test_data_xn = np.array(test_data_x)\n",
        "    train_data_xn = np.array(train_data_x)\n",
        "    test_data_yn = np.array(test_data_y)\n",
        "    train_data_yn = np.array(train_data_y)\n",
        "    \n",
        "    #importing model from sklearn\n",
        "    clf = GaussianNB()\n",
        "    clf.fit(train_data_xn, train_data_yn)\n",
        "\n",
        "    \n",
        "    #predict class\n",
        "    test_pred_y_log = clf.predict(test_data_xn)\n",
        "    train_pred_y_log = clf.predict(train_data_xn)\n",
        "    \n",
        "    pred_prob1 = clf.predict_proba(test_data_xn)\n",
        "\n",
        "    from sklearn.metrics import roc_curve\n",
        "\n",
        "    # roc curve for models\n",
        "    fpr2, tpr2, thresh2 = roc_curve(test_data_yn, pred_prob1[:,1], pos_label=1)\n",
        "\n",
        "    # roc curve for tpr = fpr \n",
        "    random_probs = [0 for i in range(len(test_data_yn))]\n",
        "    p_fpr, p_tpr, _ = roc_curve(test_data_yn, random_probs, pos_label=1)\n",
        "    \n",
        "    from sklearn.metrics import roc_auc_score\n",
        "    auc_score1 = roc_auc_score(test_data_yn, pred_prob1[:,1])\n",
        "    print(auc_score1)\n",
        "\n",
        "    # matplotlib\n",
        "    import matplotlib.pyplot as plt\n",
        "    plt.style.use('seaborn')\n",
        "\n",
        "    # plot roc curves\n",
        "    plt.plot(fpr2, tpr2, linestyle='--',color='red', label='Naive Bayes')\n",
        "    plt.plot(p_fpr, p_tpr, linestyle='--', color='blue')\n",
        "    # title\n",
        "    plt.title('ROC curve')\n",
        "    # x label\n",
        "    plt.xlabel('False Positive Rate')\n",
        "    # y label\n",
        "    plt.ylabel('True Positive rate')\n",
        "\n",
        "    plt.legend(loc='best')\n",
        "    plt.savefig('ROC',dpi=300)\n",
        "    #predict class\n",
        "    test_pred_y_nb = clf.predict(test_data_xn)\n",
        "    train_pred_y_nb = clf.predict(train_data_xn)\n",
        "\n",
        "    #calculating and appending accuracies\n",
        "    acc1_nb = accuracy_score(test_data_yn, test_pred_y_nb)\n",
        "    accuracy_nb_test.append(acc1_nb)\n",
        "    \n",
        "    acc2_nb = accuracy_score(train_data_yn, train_pred_y_nb)\n",
        "    accuracy_nb_train.append(acc2_nb)\n",
        "    print(\"----------------------TESTING-----------------------\")\n",
        "    target_names = ['Covid Negative', 'Covid Positive']\n",
        "    print(classification_report(test_data_yn, test_pred_y_log, target_names=target_names))"
      ],
      "execution_count": 17,
      "outputs": [
        {
          "output_type": "stream",
          "text": [
            "0.7215296495956873\n",
            "----------------------TESTING-----------------------\n",
            "                precision    recall  f1-score   support\n",
            "\n",
            "Covid Negative       0.82      0.44      0.57       112\n",
            "Covid Positive       0.60      0.90      0.72       106\n",
            "\n",
            "      accuracy                           0.66       218\n",
            "     macro avg       0.71      0.67      0.64       218\n",
            "  weighted avg       0.71      0.66      0.64       218\n",
            "\n"
          ],
          "name": "stdout"
        },
        {
          "output_type": "display_data",
          "data": {
            "image/png": "[encoded data removed]",
            "text/plain": [
              "<Figure size 576x396 with 1 Axes>"
            ]
          },
          "metadata": {
            "tags": []
          }
        }
      ]
    },
    {
      "cell_type": "code",
      "metadata": {
        "colab": {
          "base_uri": "https://localhost:8080/"
        },
        "id": "L-7tdQEXDAkS",
        "outputId": "18970f85-8a1a-440f-baef-49dcb0ab3a5b"
      },
      "source": [
        "#printing accuracies \n",
        "\n",
        "print(\"Mean accuracy for test set = \", statistics.mean(accuracy_nb_test))\n",
        "print(\"Mean accuracy for train set = \", statistics.mean(accuracy_nb_train))"
      ],
      "execution_count": 18,
      "outputs": [
        {
          "output_type": "stream",
          "text": [
            "Mean accuracy for test set =  0.6605504587155964\n",
            "Mean accuracy for train set =  0.6156773211567732\n"
          ],
          "name": "stdout"
        }
      ]
    },
    {
      "cell_type": "markdown",
      "metadata": {
        "id": "UJ7eu-ImlZp6"
      },
      "source": [
        "# ***Fisher Linear Discriminant***"
      ]
    },
    {
      "cell_type": "code",
      "metadata": {
        "id": "N70kkU0KDAhz",
        "colab": {
          "base_uri": "https://localhost:8080/",
          "height": 561
        },
        "outputId": "f919c1ad-acfa-43f6-98d6-2cdb3ddffbec"
      },
      "source": [
        "accuracy_fl_test = []\n",
        "accuracy_fl_train = []\n",
        "\n",
        "for i in range(7):\n",
        "  if i == 6:\n",
        "    test_data = data_g[i]\n",
        "    test_data_x = []\n",
        "    test_data_y = []\n",
        "    train_data_x = []\n",
        "    train_data_y = []\n",
        "    for j in range(7):\n",
        "        if j!=i:      #creating training dataset\n",
        "            for w in range(len(data_g[j])):\n",
        "                train_data_x.append(data_g[j][w][:4])\n",
        "                train_data_y.append(data_g[j][w][4])\n",
        "        elif j == i:      #creating testing dataset\n",
        "            for w in range(len(data_g[j])):\n",
        "                test_data_x.append(data_g[j][w][:4])\n",
        "                test_data_y.append(data_g[j][w][4])\n",
        "                \n",
        "    #convert into array\n",
        "    test_data_xn = np.array(test_data_x)\n",
        "    train_data_xn = np.array(train_data_x)\n",
        "    test_data_yn = np.array(test_data_y)\n",
        "    train_data_yn = np.array(train_data_y)\n",
        "    \n",
        "    #importing model from sklearn\n",
        "    clf = LinearDiscriminantAnalysis()\n",
        "    clf.fit(train_data_xn, train_data_yn)\n",
        "    \n",
        "    #predict class\n",
        "    test_pred_y_log = clf.predict(test_data_xn)\n",
        "    train_pred_y_log = clf.predict(train_data_xn)\n",
        "    \n",
        "    pred_prob1 = clf.predict_proba(test_data_xn)\n",
        "\n",
        "    from sklearn.metrics import roc_curve\n",
        "\n",
        "    # roc curve for models\n",
        "    fpr3, tpr3, thresh3 = roc_curve(test_data_yn, pred_prob1[:,1], pos_label=1)\n",
        "\n",
        "    # roc curve for tpr = fpr \n",
        "    random_probs = [0 for i in range(len(test_data_yn))]\n",
        "    p_fpr, p_tpr, _ = roc_curve(test_data_yn, random_probs, pos_label=1)\n",
        "    \n",
        "    from sklearn.metrics import roc_auc_score\n",
        "    auc_score1 = roc_auc_score(test_data_yn, pred_prob1[:,1])\n",
        "    print(auc_score1)\n",
        "\n",
        "    # matplotlib\n",
        "    import matplotlib.pyplot as plt\n",
        "    plt.style.use('seaborn')\n",
        "\n",
        "    # plot roc curves\n",
        "    plt.plot(fpr3, tpr3, linestyle='--',color='yellow', label='Fisher Linear Discriminant')\n",
        "    plt.plot(p_fpr, p_tpr, linestyle='--', color='blue')\n",
        "    # title\n",
        "    plt.title('ROC curve')\n",
        "    # x label\n",
        "    plt.xlabel('False Positive Rate')\n",
        "    # y label\n",
        "    plt.ylabel('True Positive rate')\n",
        "\n",
        "    plt.legend(loc='best')\n",
        "    plt.savefig('ROC',dpi=300)\n",
        "    #predict class\n",
        "    test_pred_y_fl = clf.predict(test_data_xn)\n",
        "    train_pred_y_fl = clf.predict(train_data_xn)\n",
        "    \n",
        "    #calculating and appending accuracies\n",
        "    acc1_fl = accuracy_score(test_data_yn, test_pred_y_fl)\n",
        "    accuracy_fl_test.append(acc1_fl)\n",
        "    \n",
        "    acc2_fl = accuracy_score(train_data_yn, train_pred_y_fl)\n",
        "    accuracy_fl_train.append(acc2_fl)\n",
        "    print(\"----------------------TESTING-----------------------\")\n",
        "    target_names = ['Covid Negative', 'Covid Positive']\n",
        "    print(classification_report(test_data_yn, test_pred_y_log, target_names=target_names))"
      ],
      "execution_count": 19,
      "outputs": [
        {
          "output_type": "stream",
          "text": [
            "0.7505896226415095\n",
            "----------------------TESTING-----------------------\n",
            "                precision    recall  f1-score   support\n",
            "\n",
            "Covid Negative       0.74      0.51      0.60       112\n",
            "Covid Positive       0.61      0.81      0.70       106\n",
            "\n",
            "      accuracy                           0.66       218\n",
            "     macro avg       0.68      0.66      0.65       218\n",
            "  weighted avg       0.68      0.66      0.65       218\n",
            "\n"
          ],
          "name": "stdout"
        },
        {
          "output_type": "display_data",
          "data": {
            "image/png": "[encoded data removed]",
            "text/plain": [
              "<Figure size 576x396 with 1 Axes>"
            ]
          },
          "metadata": {
            "tags": []
          }
        }
      ]
    },
    {
      "cell_type": "code",
      "metadata": {
        "colab": {
          "base_uri": "https://localhost:8080/"
        },
        "id": "xnEqKjc_DAfQ",
        "outputId": "8d8ef03e-a9a2-4085-c121-ab3b441e478b"
      },
      "source": [
        "#printing accuracies \n",
        "\n",
        "print(\"Mean accuracy for test set = \", statistics.mean(accuracy_fl_test))\n",
        "print(\"Mean accuracy for train set = \", statistics.mean(accuracy_fl_train))"
      ],
      "execution_count": 20,
      "outputs": [
        {
          "output_type": "stream",
          "text": [
            "Mean accuracy for test set =  0.6559633027522935\n",
            "Mean accuracy for train set =  0.6560121765601218\n"
          ],
          "name": "stdout"
        }
      ]
    },
    {
      "cell_type": "markdown",
      "metadata": {
        "id": "moTpvsGK66Dp"
      },
      "source": [
        "# **KNN**"
      ]
    },
    {
      "cell_type": "code",
      "metadata": {
        "colab": {
          "base_uri": "https://localhost:8080/",
          "height": 417
        },
        "id": "HCYml6vADEf1",
        "outputId": "8f8f0928-1063-4476-e060-b10dc138ae0b"
      },
      "source": [
        "df"
      ],
      "execution_count": 21,
      "outputs": [
        {
          "output_type": "execute_result",
          "data": {
            "text/html": [
              "<div>\n",
              "<style scoped>\n",
              "    .dataframe tbody tr th:only-of-type {\n",
              "        vertical-align: middle;\n",
              "    }\n",
              "\n",
              "    .dataframe tbody tr th {\n",
              "        vertical-align: top;\n",
              "    }\n",
              "\n",
              "    .dataframe thead th {\n",
              "        text-align: right;\n",
              "    }\n",
              "</style>\n",
              "<table border=\"1\" class=\"dataframe\">\n",
              "  <thead>\n",
              "    <tr style=\"text-align: right;\">\n",
              "      <th></th>\n",
              "      <th>Leukocytes_(10^9/L)</th>\n",
              "      <th>Platelets_(10^9/L)</th>\n",
              "      <th>Monocytes_count_(10^9/L)</th>\n",
              "      <th>Eosinophils_count_(10^9/L)</th>\n",
              "      <th>CoV-2</th>\n",
              "    </tr>\n",
              "  </thead>\n",
              "  <tbody>\n",
              "    <tr>\n",
              "      <th>106</th>\n",
              "      <td>-0.253188</td>\n",
              "      <td>-0.277687</td>\n",
              "      <td>-0.780688</td>\n",
              "      <td>-0.464502</td>\n",
              "      <td>1</td>\n",
              "    </tr>\n",
              "    <tr>\n",
              "      <th>951</th>\n",
              "      <td>-0.048258</td>\n",
              "      <td>0.109724</td>\n",
              "      <td>-0.410897</td>\n",
              "      <td>3.004931</td>\n",
              "      <td>0</td>\n",
              "    </tr>\n",
              "    <tr>\n",
              "      <th>123</th>\n",
              "      <td>-1.105267</td>\n",
              "      <td>-0.612029</td>\n",
              "      <td>-0.410897</td>\n",
              "      <td>-0.464502</td>\n",
              "      <td>1</td>\n",
              "    </tr>\n",
              "    <tr>\n",
              "      <th>432</th>\n",
              "      <td>-0.479690</td>\n",
              "      <td>0.311391</td>\n",
              "      <td>-0.410897</td>\n",
              "      <td>-0.464502</td>\n",
              "      <td>1</td>\n",
              "    </tr>\n",
              "    <tr>\n",
              "      <th>1127</th>\n",
              "      <td>1.871615</td>\n",
              "      <td>1.394021</td>\n",
              "      <td>0.143789</td>\n",
              "      <td>-0.464502</td>\n",
              "      <td>0</td>\n",
              "    </tr>\n",
              "    <tr>\n",
              "      <th>...</th>\n",
              "      <td>...</td>\n",
              "      <td>...</td>\n",
              "      <td>...</td>\n",
              "      <td>...</td>\n",
              "      <td>...</td>\n",
              "    </tr>\n",
              "    <tr>\n",
              "      <th>868</th>\n",
              "      <td>-0.609120</td>\n",
              "      <td>1.712441</td>\n",
              "      <td>0.328684</td>\n",
              "      <td>-0.464502</td>\n",
              "      <td>1</td>\n",
              "    </tr>\n",
              "    <tr>\n",
              "      <th>206</th>\n",
              "      <td>0.739106</td>\n",
              "      <td>-0.410363</td>\n",
              "      <td>-0.780688</td>\n",
              "      <td>-0.464502</td>\n",
              "      <td>1</td>\n",
              "    </tr>\n",
              "    <tr>\n",
              "      <th>1369</th>\n",
              "      <td>2.141260</td>\n",
              "      <td>-1.036590</td>\n",
              "      <td>3.471905</td>\n",
              "      <td>-0.464502</td>\n",
              "      <td>0</td>\n",
              "    </tr>\n",
              "    <tr>\n",
              "      <th>576</th>\n",
              "      <td>2.443263</td>\n",
              "      <td>0.210558</td>\n",
              "      <td>NaN</td>\n",
              "      <td>NaN</td>\n",
              "      <td>0</td>\n",
              "    </tr>\n",
              "    <tr>\n",
              "      <th>511</th>\n",
              "      <td>-0.501262</td>\n",
              "      <td>-0.272380</td>\n",
              "      <td>-0.226002</td>\n",
              "      <td>0.923271</td>\n",
              "      <td>0</td>\n",
              "    </tr>\n",
              "  </tbody>\n",
              "</table>\n",
              "<p>1532 rows × 5 columns</p>\n",
              "</div>"
            ],
            "text/plain": [
              "      Leukocytes_(10^9/L)  ...  CoV-2\n",
              "106             -0.253188  ...      1\n",
              "951             -0.048258  ...      0\n",
              "123             -1.105267  ...      1\n",
              "432             -0.479690  ...      1\n",
              "1127             1.871615  ...      0\n",
              "...                   ...  ...    ...\n",
              "868             -0.609120  ...      1\n",
              "206              0.739106  ...      1\n",
              "1369             2.141260  ...      0\n",
              "576              2.443263  ...      0\n",
              "511             -0.501262  ...      0\n",
              "\n",
              "[1532 rows x 5 columns]"
            ]
          },
          "metadata": {
            "tags": []
          },
          "execution_count": 21
        }
      ]
    },
    {
      "cell_type": "code",
      "metadata": {
        "colab": {
          "base_uri": "https://localhost:8080/",
          "height": 417
        },
        "id": "bJ2OkRxfAh0d",
        "outputId": "0d66d34e-25a7-42ef-e2f3-b9d0081fc6f8"
      },
      "source": [
        "y=df[['CoV-2']] \n",
        "y"
      ],
      "execution_count": 22,
      "outputs": [
        {
          "output_type": "execute_result",
          "data": {
            "text/html": [
              "<div>\n",
              "<style scoped>\n",
              "    .dataframe tbody tr th:only-of-type {\n",
              "        vertical-align: middle;\n",
              "    }\n",
              "\n",
              "    .dataframe tbody tr th {\n",
              "        vertical-align: top;\n",
              "    }\n",
              "\n",
              "    .dataframe thead th {\n",
              "        text-align: right;\n",
              "    }\n",
              "</style>\n",
              "<table border=\"1\" class=\"dataframe\">\n",
              "  <thead>\n",
              "    <tr style=\"text-align: right;\">\n",
              "      <th></th>\n",
              "      <th>CoV-2</th>\n",
              "    </tr>\n",
              "  </thead>\n",
              "  <tbody>\n",
              "    <tr>\n",
              "      <th>106</th>\n",
              "      <td>1</td>\n",
              "    </tr>\n",
              "    <tr>\n",
              "      <th>951</th>\n",
              "      <td>0</td>\n",
              "    </tr>\n",
              "    <tr>\n",
              "      <th>123</th>\n",
              "      <td>1</td>\n",
              "    </tr>\n",
              "    <tr>\n",
              "      <th>432</th>\n",
              "      <td>1</td>\n",
              "    </tr>\n",
              "    <tr>\n",
              "      <th>1127</th>\n",
              "      <td>0</td>\n",
              "    </tr>\n",
              "    <tr>\n",
              "      <th>...</th>\n",
              "      <td>...</td>\n",
              "    </tr>\n",
              "    <tr>\n",
              "      <th>868</th>\n",
              "      <td>1</td>\n",
              "    </tr>\n",
              "    <tr>\n",
              "      <th>206</th>\n",
              "      <td>1</td>\n",
              "    </tr>\n",
              "    <tr>\n",
              "      <th>1369</th>\n",
              "      <td>0</td>\n",
              "    </tr>\n",
              "    <tr>\n",
              "      <th>576</th>\n",
              "      <td>0</td>\n",
              "    </tr>\n",
              "    <tr>\n",
              "      <th>511</th>\n",
              "      <td>0</td>\n",
              "    </tr>\n",
              "  </tbody>\n",
              "</table>\n",
              "<p>1532 rows × 1 columns</p>\n",
              "</div>"
            ],
            "text/plain": [
              "      CoV-2\n",
              "106       1\n",
              "951       0\n",
              "123       1\n",
              "432       1\n",
              "1127      0\n",
              "...     ...\n",
              "868       1\n",
              "206       1\n",
              "1369      0\n",
              "576       0\n",
              "511       0\n",
              "\n",
              "[1532 rows x 1 columns]"
            ]
          },
          "metadata": {
            "tags": []
          },
          "execution_count": 22
        }
      ]
    },
    {
      "cell_type": "code",
      "metadata": {
        "colab": {
          "base_uri": "https://localhost:8080/",
          "height": 417
        },
        "id": "z24XdgCXB8Ln",
        "outputId": "9873c8f7-af9c-48b7-f30f-dd068bb9cc13"
      },
      "source": [
        "x=df[['Leukocytes_(10^9/L)','Platelets_(10^9/L)','Monocytes_count_(10^9/L)','Eosinophils_count_(10^9/L)']]\n",
        "x"
      ],
      "execution_count": 23,
      "outputs": [
        {
          "output_type": "execute_result",
          "data": {
            "text/html": [
              "<div>\n",
              "<style scoped>\n",
              "    .dataframe tbody tr th:only-of-type {\n",
              "        vertical-align: middle;\n",
              "    }\n",
              "\n",
              "    .dataframe tbody tr th {\n",
              "        vertical-align: top;\n",
              "    }\n",
              "\n",
              "    .dataframe thead th {\n",
              "        text-align: right;\n",
              "    }\n",
              "</style>\n",
              "<table border=\"1\" class=\"dataframe\">\n",
              "  <thead>\n",
              "    <tr style=\"text-align: right;\">\n",
              "      <th></th>\n",
              "      <th>Leukocytes_(10^9/L)</th>\n",
              "      <th>Platelets_(10^9/L)</th>\n",
              "      <th>Monocytes_count_(10^9/L)</th>\n",
              "      <th>Eosinophils_count_(10^9/L)</th>\n",
              "    </tr>\n",
              "  </thead>\n",
              "  <tbody>\n",
              "    <tr>\n",
              "      <th>106</th>\n",
              "      <td>-0.253188</td>\n",
              "      <td>-0.277687</td>\n",
              "      <td>-0.780688</td>\n",
              "      <td>-0.464502</td>\n",
              "    </tr>\n",
              "    <tr>\n",
              "      <th>951</th>\n",
              "      <td>-0.048258</td>\n",
              "      <td>0.109724</td>\n",
              "      <td>-0.410897</td>\n",
              "      <td>3.004931</td>\n",
              "    </tr>\n",
              "    <tr>\n",
              "      <th>123</th>\n",
              "      <td>-1.105267</td>\n",
              "      <td>-0.612029</td>\n",
              "      <td>-0.410897</td>\n",
              "      <td>-0.464502</td>\n",
              "    </tr>\n",
              "    <tr>\n",
              "      <th>432</th>\n",
              "      <td>-0.479690</td>\n",
              "      <td>0.311391</td>\n",
              "      <td>-0.410897</td>\n",
              "      <td>-0.464502</td>\n",
              "    </tr>\n",
              "    <tr>\n",
              "      <th>1127</th>\n",
              "      <td>1.871615</td>\n",
              "      <td>1.394021</td>\n",
              "      <td>0.143789</td>\n",
              "      <td>-0.464502</td>\n",
              "    </tr>\n",
              "    <tr>\n",
              "      <th>...</th>\n",
              "      <td>...</td>\n",
              "      <td>...</td>\n",
              "      <td>...</td>\n",
              "      <td>...</td>\n",
              "    </tr>\n",
              "    <tr>\n",
              "      <th>868</th>\n",
              "      <td>-0.609120</td>\n",
              "      <td>1.712441</td>\n",
              "      <td>0.328684</td>\n",
              "      <td>-0.464502</td>\n",
              "    </tr>\n",
              "    <tr>\n",
              "      <th>206</th>\n",
              "      <td>0.739106</td>\n",
              "      <td>-0.410363</td>\n",
              "      <td>-0.780688</td>\n",
              "      <td>-0.464502</td>\n",
              "    </tr>\n",
              "    <tr>\n",
              "      <th>1369</th>\n",
              "      <td>2.141260</td>\n",
              "      <td>-1.036590</td>\n",
              "      <td>3.471905</td>\n",
              "      <td>-0.464502</td>\n",
              "    </tr>\n",
              "    <tr>\n",
              "      <th>576</th>\n",
              "      <td>2.443263</td>\n",
              "      <td>0.210558</td>\n",
              "      <td>NaN</td>\n",
              "      <td>NaN</td>\n",
              "    </tr>\n",
              "    <tr>\n",
              "      <th>511</th>\n",
              "      <td>-0.501262</td>\n",
              "      <td>-0.272380</td>\n",
              "      <td>-0.226002</td>\n",
              "      <td>0.923271</td>\n",
              "    </tr>\n",
              "  </tbody>\n",
              "</table>\n",
              "<p>1532 rows × 4 columns</p>\n",
              "</div>"
            ],
            "text/plain": [
              "      Leukocytes_(10^9/L)  ...  Eosinophils_count_(10^9/L)\n",
              "106             -0.253188  ...                   -0.464502\n",
              "951             -0.048258  ...                    3.004931\n",
              "123             -1.105267  ...                   -0.464502\n",
              "432             -0.479690  ...                   -0.464502\n",
              "1127             1.871615  ...                   -0.464502\n",
              "...                   ...  ...                         ...\n",
              "868             -0.609120  ...                   -0.464502\n",
              "206              0.739106  ...                   -0.464502\n",
              "1369             2.141260  ...                   -0.464502\n",
              "576              2.443263  ...                         NaN\n",
              "511             -0.501262  ...                    0.923271\n",
              "\n",
              "[1532 rows x 4 columns]"
            ]
          },
          "metadata": {
            "tags": []
          },
          "execution_count": 23
        }
      ]
    },
    {
      "cell_type": "code",
      "metadata": {
        "colab": {
          "base_uri": "https://localhost:8080/"
        },
        "id": "fQcJrvK5IVue",
        "outputId": "b2b67d92-1203-4bdd-b2a1-8b44a3f7df68"
      },
      "source": [
        "imp = SimpleImputer(missing_values=np.nan, strategy='median')\n",
        "imp.fit(x)\n",
        "#X_2 = X\n",
        "SimpleImputer()\n",
        "X = imp.transform(x)\n",
        "X"
      ],
      "execution_count": 24,
      "outputs": [
        {
          "output_type": "execute_result",
          "data": {
            "text/plain": [
              "array([[-0.25318827, -0.27768741, -0.7806882 , -0.46450233],\n",
              "       [-0.04825799,  0.10972433, -0.41089745,  3.00493149],\n",
              "       [-1.10526681, -0.61202905, -0.41089745, -0.46450233],\n",
              "       ...,\n",
              "       [ 2.14126029, -1.03658986,  3.47190541, -0.46450233],\n",
              "       [ 2.44326281,  0.21055753, -0.22600208, -0.46450233],\n",
              "       [-0.50126177, -0.2723804 , -0.22600208,  0.9232712 ]])"
            ]
          },
          "metadata": {
            "tags": []
          },
          "execution_count": 24
        }
      ]
    },
    {
      "cell_type": "code",
      "metadata": {
        "id": "KHaAsfSbB8JW"
      },
      "source": [
        "x_train, x_test, y_train, y_test= train_test_split(X, y, test_size= 0.1, random_state=0)"
      ],
      "execution_count": 25,
      "outputs": []
    },
    {
      "cell_type": "code",
      "metadata": {
        "colab": {
          "base_uri": "https://localhost:8080/",
          "height": 446
        },
        "id": "ONbZ01qbB8G3",
        "outputId": "7c4350cf-8b34-41fc-bcf8-a6a085b8dc17"
      },
      "source": [
        "#Fitting K-NN classifier to the training set\n",
        "classifier= KNeighborsClassifier(n_neighbors=5, metric='minkowski', p=2 )  \n",
        "classifier.fit(x_train, y_train)\n",
        "#importing model from sklearn \n",
        "    \n",
        "    #predict class\n",
        "test_pred_y_log = classifier.predict(x_test)\n",
        "train_pred_y_log = classifier.predict(x_train)\n",
        "    \n",
        "pred_prob1 = classifier.predict_proba(x_test)\n",
        "\n",
        "from sklearn.metrics import roc_curve\n",
        "\n",
        "    # roc curve for models\n",
        "fpr4, tpr4, thresh4 = roc_curve(y_test, pred_prob1[:,1], pos_label=1)\n",
        "\n",
        "    # roc curve for tpr = fpr \n",
        "random_probs = [0 for i in range(len(y_test))]\n",
        "p_fpr, p_tpr, _ = roc_curve(y_test, random_probs, pos_label=1)\n",
        "    \n",
        "from sklearn.metrics import roc_auc_score\n",
        "auc_score1 = roc_auc_score(y_test, pred_prob1[:,1])\n",
        "print(auc_score1)\n",
        "\n",
        "    # matplotlib\n",
        "import matplotlib.pyplot as plt\n",
        "plt.style.use('seaborn')\n",
        "\n",
        "    # plot roc curves\n",
        "plt.plot(fpr1, tpr1, linestyle='--',color='orange', label='Logistic Regression')\n",
        "plt.plot(fpr2, tpr2, linestyle='--',color='red', label='Naive Bayes')\n",
        "plt.plot(fpr3, tpr3, linestyle='--',color='yellow', label='FIsher Linear Discriminant')\n",
        "plt.plot(fpr4, tpr4, linestyle='--',color='green', label='KNN')\n",
        "plt.plot(p_fpr, p_tpr, linestyle='--', color='blue')\n",
        "    # title\n",
        "plt.title('ROC curve')\n",
        "    # x label\n",
        "plt.xlabel('False Positive Rate')\n",
        "    # y label\n",
        "plt.ylabel('True Positive rate')\n",
        "\n",
        "plt.legend(loc='best')\n",
        "plt.savefig('ROC',dpi=300)\n",
        "plt.show();"
      ],
      "execution_count": 26,
      "outputs": [
        {
          "output_type": "stream",
          "text": [
            "/usr/local/lib/python3.7/dist-packages/ipykernel_launcher.py:3: DataConversionWarning: A column-vector y was passed when a 1d array was expected. Please change the shape of y to (n_samples, ), for example using ravel().\n",
            "  This is separate from the ipykernel package so we can avoid doing imports until\n"
          ],
          "name": "stderr"
        },
        {
          "output_type": "stream",
          "text": [
            "0.6765752032520326\n"
          ],
          "name": "stdout"
        },
        {
          "output_type": "display_data",
          "data": {
            "image/png": "[encoded data removed]",
            "text/plain": [
              "<Figure size 576x396 with 1 Axes>"
            ]
          },
          "metadata": {
            "tags": []
          }
        }
      ]
    },
    {
      "cell_type": "code",
      "metadata": {
        "colab": {
          "base_uri": "https://localhost:8080/"
        },
        "id": "_o5_vWaWB8EP",
        "outputId": "1294b09f-bd26-43ba-b6f6-4285b7d31ee7"
      },
      "source": [
        "#Predicting the test set result  \n",
        "y_pred= classifier.predict(x_test) \n",
        "y_pred"
      ],
      "execution_count": 27,
      "outputs": [
        {
          "output_type": "execute_result",
          "data": {
            "text/plain": [
              "array([0, 0, 1, 1, 0, 0, 1, 1, 1, 1, 0, 1, 0, 0, 1, 0, 1, 1, 1, 0, 1, 1,\n",
              "       1, 0, 0, 1, 1, 1, 1, 1, 0, 1, 1, 0, 1, 1, 1, 0, 1, 1, 0, 0, 0, 0,\n",
              "       0, 1, 1, 1, 0, 0, 0, 0, 1, 1, 0, 1, 1, 1, 1, 0, 1, 0, 0, 0, 1, 0,\n",
              "       1, 0, 1, 1, 0, 1, 0, 1, 0, 0, 1, 0, 0, 0, 1, 0, 1, 0, 0, 1, 0, 1,\n",
              "       0, 0, 1, 0, 1, 1, 0, 0, 1, 0, 1, 0, 1, 1, 1, 1, 1, 1, 0, 0, 1, 0,\n",
              "       0, 0, 0, 1, 0, 0, 1, 0, 0, 1, 0, 0, 0, 1, 0, 0, 1, 0, 1, 1, 1, 0,\n",
              "       1, 1, 0, 0, 0, 1, 0, 0, 1, 1, 0, 0, 1, 0, 1, 0, 1, 0, 0, 1, 1, 1])"
            ]
          },
          "metadata": {
            "tags": []
          },
          "execution_count": 27
        }
      ]
    },
    {
      "cell_type": "code",
      "metadata": {
        "id": "QDG-55GMB8Bo"
      },
      "source": [
        "#Creating the Confusion matrix\n",
        "cm= confusion_matrix(y_test, y_pred)"
      ],
      "execution_count": 28,
      "outputs": []
    },
    {
      "cell_type": "code",
      "metadata": {
        "id": "hfYdRYnVB7-z"
      },
      "source": [
        "#finding accuracy\n",
        "accuracy = accuracy_score(y_test, y_pred)"
      ],
      "execution_count": 29,
      "outputs": []
    },
    {
      "cell_type": "code",
      "metadata": {
        "id": "le2pPt8GB77Z",
        "colab": {
          "base_uri": "https://localhost:8080/"
        },
        "outputId": "5aeb4d67-80f9-4cbe-ad07-bfa8cd68bd9e"
      },
      "source": [
        "print(\"Accuracy: %.2f%%\" % (accuracy * 100.0))\n",
        "print(\"The Confusion Matrix is:\\n \",cm)\n",
        "target_names = ['Covid Negative', 'Covid Positive']\n",
        "print(classification_report(y_test, y_pred, target_names=target_names))"
      ],
      "execution_count": 30,
      "outputs": [
        {
          "output_type": "stream",
          "text": [
            "Accuracy: 64.94%\n",
            "The Confusion Matrix is:\n",
            "  [[52 30]\n",
            " [24 48]]\n",
            "                precision    recall  f1-score   support\n",
            "\n",
            "Covid Negative       0.68      0.63      0.66        82\n",
            "Covid Positive       0.62      0.67      0.64        72\n",
            "\n",
            "      accuracy                           0.65       154\n",
            "     macro avg       0.65      0.65      0.65       154\n",
            "  weighted avg       0.65      0.65      0.65       154\n",
            "\n"
          ],
          "name": "stdout"
        }
      ]
    }
  ]
}